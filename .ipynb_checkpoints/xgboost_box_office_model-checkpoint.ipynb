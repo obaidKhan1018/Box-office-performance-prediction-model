{
 "cells": [
  {
   "cell_type": "markdown",
   "id": "7f6d55d3",
   "metadata": {
    "id": "7f6d55d3"
   },
   "source": [
    "# Importing Libraries"
   ]
  },
  {
   "cell_type": "code",
   "execution_count": 2,
   "id": "b8e010ec",
   "metadata": {
    "id": "b8e010ec"
   },
   "outputs": [],
   "source": [
    "import numpy as np\n",
    "import pandas as pd\n",
    "import seaborn as sns\n",
    "import matplotlib.pyplot as plt\n",
    "from sklearn.preprocessing import LabelEncoder,OneHotEncoder,StandardScaler,FunctionTransformer,MultiLabelBinarizer\n",
    "from sklearn.pipeline import Pipeline\n",
    "from sklearn.compose import ColumnTransformer\n",
    "import warnings\n",
    "warnings.filterwarnings('ignore')\n",
    "from wordcloud import WordCloud\n",
    "import xgboost as xgb\n",
    "from sklearn.metrics import mean_squared_error, r2_score\n",
    "import ast\n",
    "from sklearn.model_selection import train_test_split,GridSearchCV\n",
    "import pickle"
   ]
  },
  {
   "cell_type": "code",
   "execution_count": 3,
   "id": "dbccdd86",
   "metadata": {
    "id": "dbccdd86"
   },
   "outputs": [],
   "source": [
    "df = pd.read_csv('dataset/train.csv')"
   ]
  },
  {
   "cell_type": "markdown",
   "id": "0cef2c64",
   "metadata": {
    "id": "0cef2c64"
   },
   "source": [
    "# Data Preprocessing"
   ]
  },
  {
   "cell_type": "code",
   "execution_count": 4,
   "id": "02f948df",
   "metadata": {
    "colab": {
     "base_uri": "https://localhost:8080/",
     "height": 672
    },
    "id": "02f948df",
    "outputId": "4a996e16-aff9-45b3-fc7d-c6ec0a889735"
   },
   "outputs": [
    {
     "data": {
      "text/html": [
       "<div>\n",
       "<style scoped>\n",
       "    .dataframe tbody tr th:only-of-type {\n",
       "        vertical-align: middle;\n",
       "    }\n",
       "\n",
       "    .dataframe tbody tr th {\n",
       "        vertical-align: top;\n",
       "    }\n",
       "\n",
       "    .dataframe thead th {\n",
       "        text-align: right;\n",
       "    }\n",
       "</style>\n",
       "<table border=\"1\" class=\"dataframe\">\n",
       "  <thead>\n",
       "    <tr style=\"text-align: right;\">\n",
       "      <th></th>\n",
       "      <th>id</th>\n",
       "      <th>belongs_to_collection</th>\n",
       "      <th>budget</th>\n",
       "      <th>genres</th>\n",
       "      <th>homepage</th>\n",
       "      <th>imdb_id</th>\n",
       "      <th>original_language</th>\n",
       "      <th>original_title</th>\n",
       "      <th>overview</th>\n",
       "      <th>popularity</th>\n",
       "      <th>...</th>\n",
       "      <th>release_date</th>\n",
       "      <th>runtime</th>\n",
       "      <th>spoken_languages</th>\n",
       "      <th>status</th>\n",
       "      <th>tagline</th>\n",
       "      <th>title</th>\n",
       "      <th>Keywords</th>\n",
       "      <th>cast</th>\n",
       "      <th>crew</th>\n",
       "      <th>revenue</th>\n",
       "    </tr>\n",
       "  </thead>\n",
       "  <tbody>\n",
       "    <tr>\n",
       "      <th>0</th>\n",
       "      <td>1</td>\n",
       "      <td>[{'id': 313576, 'name': 'Hot Tub Time Machine ...</td>\n",
       "      <td>14000000</td>\n",
       "      <td>[{'id': 35, 'name': 'Comedy'}]</td>\n",
       "      <td>NaN</td>\n",
       "      <td>tt2637294</td>\n",
       "      <td>en</td>\n",
       "      <td>Hot Tub Time Machine 2</td>\n",
       "      <td>When Lou, who has become the \"father of the In...</td>\n",
       "      <td>6.575393</td>\n",
       "      <td>...</td>\n",
       "      <td>2/20/15</td>\n",
       "      <td>93.0</td>\n",
       "      <td>[{'iso_639_1': 'en', 'name': 'English'}]</td>\n",
       "      <td>Released</td>\n",
       "      <td>The Laws of Space and Time are About to be Vio...</td>\n",
       "      <td>Hot Tub Time Machine 2</td>\n",
       "      <td>[{'id': 4379, 'name': 'time travel'}, {'id': 9...</td>\n",
       "      <td>[{'cast_id': 4, 'character': 'Lou', 'credit_id...</td>\n",
       "      <td>[{'credit_id': '59ac067c92514107af02c8c8', 'de...</td>\n",
       "      <td>12314651</td>\n",
       "    </tr>\n",
       "    <tr>\n",
       "      <th>1</th>\n",
       "      <td>2</td>\n",
       "      <td>[{'id': 107674, 'name': 'The Princess Diaries ...</td>\n",
       "      <td>40000000</td>\n",
       "      <td>[{'id': 35, 'name': 'Comedy'}, {'id': 18, 'nam...</td>\n",
       "      <td>NaN</td>\n",
       "      <td>tt0368933</td>\n",
       "      <td>en</td>\n",
       "      <td>The Princess Diaries 2: Royal Engagement</td>\n",
       "      <td>Mia Thermopolis is now a college graduate and ...</td>\n",
       "      <td>8.248895</td>\n",
       "      <td>...</td>\n",
       "      <td>8/6/04</td>\n",
       "      <td>113.0</td>\n",
       "      <td>[{'iso_639_1': 'en', 'name': 'English'}]</td>\n",
       "      <td>Released</td>\n",
       "      <td>It can take a lifetime to find true love; she'...</td>\n",
       "      <td>The Princess Diaries 2: Royal Engagement</td>\n",
       "      <td>[{'id': 2505, 'name': 'coronation'}, {'id': 42...</td>\n",
       "      <td>[{'cast_id': 1, 'character': 'Mia Thermopolis'...</td>\n",
       "      <td>[{'credit_id': '52fe43fe9251416c7502563d', 'de...</td>\n",
       "      <td>95149435</td>\n",
       "    </tr>\n",
       "    <tr>\n",
       "      <th>2</th>\n",
       "      <td>3</td>\n",
       "      <td>NaN</td>\n",
       "      <td>3300000</td>\n",
       "      <td>[{'id': 18, 'name': 'Drama'}]</td>\n",
       "      <td>http://sonyclassics.com/whiplash/</td>\n",
       "      <td>tt2582802</td>\n",
       "      <td>en</td>\n",
       "      <td>Whiplash</td>\n",
       "      <td>Under the direction of a ruthless instructor, ...</td>\n",
       "      <td>64.299990</td>\n",
       "      <td>...</td>\n",
       "      <td>10/10/14</td>\n",
       "      <td>105.0</td>\n",
       "      <td>[{'iso_639_1': 'en', 'name': 'English'}]</td>\n",
       "      <td>Released</td>\n",
       "      <td>The road to greatness can take you to the edge.</td>\n",
       "      <td>Whiplash</td>\n",
       "      <td>[{'id': 1416, 'name': 'jazz'}, {'id': 1523, 'n...</td>\n",
       "      <td>[{'cast_id': 5, 'character': 'Andrew Neimann',...</td>\n",
       "      <td>[{'credit_id': '54d5356ec3a3683ba0000039', 'de...</td>\n",
       "      <td>13092000</td>\n",
       "    </tr>\n",
       "    <tr>\n",
       "      <th>3</th>\n",
       "      <td>4</td>\n",
       "      <td>NaN</td>\n",
       "      <td>1200000</td>\n",
       "      <td>[{'id': 53, 'name': 'Thriller'}, {'id': 18, 'n...</td>\n",
       "      <td>http://kahaanithefilm.com/</td>\n",
       "      <td>tt1821480</td>\n",
       "      <td>hi</td>\n",
       "      <td>Kahaani</td>\n",
       "      <td>Vidya Bagchi (Vidya Balan) arrives in Kolkata ...</td>\n",
       "      <td>3.174936</td>\n",
       "      <td>...</td>\n",
       "      <td>3/9/12</td>\n",
       "      <td>122.0</td>\n",
       "      <td>[{'iso_639_1': 'en', 'name': 'English'}, {'iso...</td>\n",
       "      <td>Released</td>\n",
       "      <td>NaN</td>\n",
       "      <td>Kahaani</td>\n",
       "      <td>[{'id': 10092, 'name': 'mystery'}, {'id': 1054...</td>\n",
       "      <td>[{'cast_id': 1, 'character': 'Vidya Bagchi', '...</td>\n",
       "      <td>[{'credit_id': '52fe48779251416c9108d6eb', 'de...</td>\n",
       "      <td>16000000</td>\n",
       "    </tr>\n",
       "    <tr>\n",
       "      <th>4</th>\n",
       "      <td>5</td>\n",
       "      <td>NaN</td>\n",
       "      <td>0</td>\n",
       "      <td>[{'id': 28, 'name': 'Action'}, {'id': 53, 'nam...</td>\n",
       "      <td>NaN</td>\n",
       "      <td>tt1380152</td>\n",
       "      <td>ko</td>\n",
       "      <td>마린보이</td>\n",
       "      <td>Marine Boy is the story of a former national s...</td>\n",
       "      <td>1.148070</td>\n",
       "      <td>...</td>\n",
       "      <td>2/5/09</td>\n",
       "      <td>118.0</td>\n",
       "      <td>[{'iso_639_1': 'ko', 'name': '한국어/조선말'}]</td>\n",
       "      <td>Released</td>\n",
       "      <td>NaN</td>\n",
       "      <td>Marine Boy</td>\n",
       "      <td>NaN</td>\n",
       "      <td>[{'cast_id': 3, 'character': 'Chun-soo', 'cred...</td>\n",
       "      <td>[{'credit_id': '52fe464b9251416c75073b43', 'de...</td>\n",
       "      <td>3923970</td>\n",
       "    </tr>\n",
       "  </tbody>\n",
       "</table>\n",
       "<p>5 rows × 23 columns</p>\n",
       "</div>"
      ],
      "text/plain": [
       "   id                              belongs_to_collection    budget  \\\n",
       "0   1  [{'id': 313576, 'name': 'Hot Tub Time Machine ...  14000000   \n",
       "1   2  [{'id': 107674, 'name': 'The Princess Diaries ...  40000000   \n",
       "2   3                                                NaN   3300000   \n",
       "3   4                                                NaN   1200000   \n",
       "4   5                                                NaN         0   \n",
       "\n",
       "                                              genres  \\\n",
       "0                     [{'id': 35, 'name': 'Comedy'}]   \n",
       "1  [{'id': 35, 'name': 'Comedy'}, {'id': 18, 'nam...   \n",
       "2                      [{'id': 18, 'name': 'Drama'}]   \n",
       "3  [{'id': 53, 'name': 'Thriller'}, {'id': 18, 'n...   \n",
       "4  [{'id': 28, 'name': 'Action'}, {'id': 53, 'nam...   \n",
       "\n",
       "                            homepage    imdb_id original_language  \\\n",
       "0                                NaN  tt2637294                en   \n",
       "1                                NaN  tt0368933                en   \n",
       "2  http://sonyclassics.com/whiplash/  tt2582802                en   \n",
       "3         http://kahaanithefilm.com/  tt1821480                hi   \n",
       "4                                NaN  tt1380152                ko   \n",
       "\n",
       "                             original_title  \\\n",
       "0                    Hot Tub Time Machine 2   \n",
       "1  The Princess Diaries 2: Royal Engagement   \n",
       "2                                  Whiplash   \n",
       "3                                   Kahaani   \n",
       "4                                      마린보이   \n",
       "\n",
       "                                            overview  popularity  ...  \\\n",
       "0  When Lou, who has become the \"father of the In...    6.575393  ...   \n",
       "1  Mia Thermopolis is now a college graduate and ...    8.248895  ...   \n",
       "2  Under the direction of a ruthless instructor, ...   64.299990  ...   \n",
       "3  Vidya Bagchi (Vidya Balan) arrives in Kolkata ...    3.174936  ...   \n",
       "4  Marine Boy is the story of a former national s...    1.148070  ...   \n",
       "\n",
       "  release_date runtime                                   spoken_languages  \\\n",
       "0      2/20/15    93.0           [{'iso_639_1': 'en', 'name': 'English'}]   \n",
       "1       8/6/04   113.0           [{'iso_639_1': 'en', 'name': 'English'}]   \n",
       "2     10/10/14   105.0           [{'iso_639_1': 'en', 'name': 'English'}]   \n",
       "3       3/9/12   122.0  [{'iso_639_1': 'en', 'name': 'English'}, {'iso...   \n",
       "4       2/5/09   118.0           [{'iso_639_1': 'ko', 'name': '한국어/조선말'}]   \n",
       "\n",
       "     status                                            tagline  \\\n",
       "0  Released  The Laws of Space and Time are About to be Vio...   \n",
       "1  Released  It can take a lifetime to find true love; she'...   \n",
       "2  Released    The road to greatness can take you to the edge.   \n",
       "3  Released                                                NaN   \n",
       "4  Released                                                NaN   \n",
       "\n",
       "                                      title  \\\n",
       "0                    Hot Tub Time Machine 2   \n",
       "1  The Princess Diaries 2: Royal Engagement   \n",
       "2                                  Whiplash   \n",
       "3                                   Kahaani   \n",
       "4                                Marine Boy   \n",
       "\n",
       "                                            Keywords  \\\n",
       "0  [{'id': 4379, 'name': 'time travel'}, {'id': 9...   \n",
       "1  [{'id': 2505, 'name': 'coronation'}, {'id': 42...   \n",
       "2  [{'id': 1416, 'name': 'jazz'}, {'id': 1523, 'n...   \n",
       "3  [{'id': 10092, 'name': 'mystery'}, {'id': 1054...   \n",
       "4                                                NaN   \n",
       "\n",
       "                                                cast  \\\n",
       "0  [{'cast_id': 4, 'character': 'Lou', 'credit_id...   \n",
       "1  [{'cast_id': 1, 'character': 'Mia Thermopolis'...   \n",
       "2  [{'cast_id': 5, 'character': 'Andrew Neimann',...   \n",
       "3  [{'cast_id': 1, 'character': 'Vidya Bagchi', '...   \n",
       "4  [{'cast_id': 3, 'character': 'Chun-soo', 'cred...   \n",
       "\n",
       "                                                crew   revenue  \n",
       "0  [{'credit_id': '59ac067c92514107af02c8c8', 'de...  12314651  \n",
       "1  [{'credit_id': '52fe43fe9251416c7502563d', 'de...  95149435  \n",
       "2  [{'credit_id': '54d5356ec3a3683ba0000039', 'de...  13092000  \n",
       "3  [{'credit_id': '52fe48779251416c9108d6eb', 'de...  16000000  \n",
       "4  [{'credit_id': '52fe464b9251416c75073b43', 'de...   3923970  \n",
       "\n",
       "[5 rows x 23 columns]"
      ]
     },
     "execution_count": 4,
     "metadata": {},
     "output_type": "execute_result"
    }
   ],
   "source": [
    "df.head()"
   ]
  },
  {
   "cell_type": "code",
   "execution_count": 5,
   "id": "c492e9a8",
   "metadata": {
    "colab": {
     "base_uri": "https://localhost:8080/"
    },
    "id": "c492e9a8",
    "outputId": "e289189a-1f82-41a3-c8cb-41551f88e8e6"
   },
   "outputs": [
    {
     "name": "stdout",
     "output_type": "stream",
     "text": [
      "<class 'pandas.core.frame.DataFrame'>\n",
      "RangeIndex: 3000 entries, 0 to 2999\n",
      "Data columns (total 23 columns):\n",
      " #   Column                 Non-Null Count  Dtype  \n",
      "---  ------                 --------------  -----  \n",
      " 0   id                     3000 non-null   int64  \n",
      " 1   belongs_to_collection  604 non-null    object \n",
      " 2   budget                 3000 non-null   int64  \n",
      " 3   genres                 2993 non-null   object \n",
      " 4   homepage               946 non-null    object \n",
      " 5   imdb_id                3000 non-null   object \n",
      " 6   original_language      3000 non-null   object \n",
      " 7   original_title         3000 non-null   object \n",
      " 8   overview               2992 non-null   object \n",
      " 9   popularity             3000 non-null   float64\n",
      " 10  poster_path            2999 non-null   object \n",
      " 11  production_companies   2844 non-null   object \n",
      " 12  production_countries   2945 non-null   object \n",
      " 13  release_date           3000 non-null   object \n",
      " 14  runtime                2998 non-null   float64\n",
      " 15  spoken_languages       2980 non-null   object \n",
      " 16  status                 3000 non-null   object \n",
      " 17  tagline                2403 non-null   object \n",
      " 18  title                  3000 non-null   object \n",
      " 19  Keywords               2724 non-null   object \n",
      " 20  cast                   2987 non-null   object \n",
      " 21  crew                   2984 non-null   object \n",
      " 22  revenue                3000 non-null   int64  \n",
      "dtypes: float64(2), int64(3), object(18)\n",
      "memory usage: 539.2+ KB\n"
     ]
    }
   ],
   "source": [
    "df.info()"
   ]
  },
  {
   "cell_type": "code",
   "execution_count": 6,
   "id": "0a48a484",
   "metadata": {
    "colab": {
     "base_uri": "https://localhost:8080/",
     "height": 300
    },
    "id": "0a48a484",
    "outputId": "2a3c62a6-5975-491c-9ab9-d7efee56de7c"
   },
   "outputs": [
    {
     "data": {
      "text/html": [
       "<div>\n",
       "<style scoped>\n",
       "    .dataframe tbody tr th:only-of-type {\n",
       "        vertical-align: middle;\n",
       "    }\n",
       "\n",
       "    .dataframe tbody tr th {\n",
       "        vertical-align: top;\n",
       "    }\n",
       "\n",
       "    .dataframe thead th {\n",
       "        text-align: right;\n",
       "    }\n",
       "</style>\n",
       "<table border=\"1\" class=\"dataframe\">\n",
       "  <thead>\n",
       "    <tr style=\"text-align: right;\">\n",
       "      <th></th>\n",
       "      <th>id</th>\n",
       "      <th>budget</th>\n",
       "      <th>popularity</th>\n",
       "      <th>runtime</th>\n",
       "      <th>revenue</th>\n",
       "    </tr>\n",
       "  </thead>\n",
       "  <tbody>\n",
       "    <tr>\n",
       "      <th>count</th>\n",
       "      <td>3000.000000</td>\n",
       "      <td>3.000000e+03</td>\n",
       "      <td>3000.000000</td>\n",
       "      <td>2998.000000</td>\n",
       "      <td>3.000000e+03</td>\n",
       "    </tr>\n",
       "    <tr>\n",
       "      <th>mean</th>\n",
       "      <td>1500.500000</td>\n",
       "      <td>2.253133e+07</td>\n",
       "      <td>8.463274</td>\n",
       "      <td>107.856571</td>\n",
       "      <td>6.672585e+07</td>\n",
       "    </tr>\n",
       "    <tr>\n",
       "      <th>std</th>\n",
       "      <td>866.169729</td>\n",
       "      <td>3.702609e+07</td>\n",
       "      <td>12.104000</td>\n",
       "      <td>22.086434</td>\n",
       "      <td>1.375323e+08</td>\n",
       "    </tr>\n",
       "    <tr>\n",
       "      <th>min</th>\n",
       "      <td>1.000000</td>\n",
       "      <td>0.000000e+00</td>\n",
       "      <td>0.000001</td>\n",
       "      <td>0.000000</td>\n",
       "      <td>1.000000e+00</td>\n",
       "    </tr>\n",
       "    <tr>\n",
       "      <th>25%</th>\n",
       "      <td>750.750000</td>\n",
       "      <td>0.000000e+00</td>\n",
       "      <td>4.018053</td>\n",
       "      <td>94.000000</td>\n",
       "      <td>2.379808e+06</td>\n",
       "    </tr>\n",
       "    <tr>\n",
       "      <th>50%</th>\n",
       "      <td>1500.500000</td>\n",
       "      <td>8.000000e+06</td>\n",
       "      <td>7.374861</td>\n",
       "      <td>104.000000</td>\n",
       "      <td>1.680707e+07</td>\n",
       "    </tr>\n",
       "    <tr>\n",
       "      <th>75%</th>\n",
       "      <td>2250.250000</td>\n",
       "      <td>2.900000e+07</td>\n",
       "      <td>10.890983</td>\n",
       "      <td>118.000000</td>\n",
       "      <td>6.891920e+07</td>\n",
       "    </tr>\n",
       "    <tr>\n",
       "      <th>max</th>\n",
       "      <td>3000.000000</td>\n",
       "      <td>3.800000e+08</td>\n",
       "      <td>294.337037</td>\n",
       "      <td>338.000000</td>\n",
       "      <td>1.519558e+09</td>\n",
       "    </tr>\n",
       "  </tbody>\n",
       "</table>\n",
       "</div>"
      ],
      "text/plain": [
       "                id        budget   popularity      runtime       revenue\n",
       "count  3000.000000  3.000000e+03  3000.000000  2998.000000  3.000000e+03\n",
       "mean   1500.500000  2.253133e+07     8.463274   107.856571  6.672585e+07\n",
       "std     866.169729  3.702609e+07    12.104000    22.086434  1.375323e+08\n",
       "min       1.000000  0.000000e+00     0.000001     0.000000  1.000000e+00\n",
       "25%     750.750000  0.000000e+00     4.018053    94.000000  2.379808e+06\n",
       "50%    1500.500000  8.000000e+06     7.374861   104.000000  1.680707e+07\n",
       "75%    2250.250000  2.900000e+07    10.890983   118.000000  6.891920e+07\n",
       "max    3000.000000  3.800000e+08   294.337037   338.000000  1.519558e+09"
      ]
     },
     "execution_count": 6,
     "metadata": {},
     "output_type": "execute_result"
    }
   ],
   "source": [
    "df.describe()"
   ]
  },
  {
   "cell_type": "code",
   "execution_count": 7,
   "id": "9d5ff669",
   "metadata": {
    "id": "9d5ff669"
   },
   "outputs": [],
   "source": [
    "df.drop(columns=['id','homepage','imdb_id','original_language','original_title','poster_path','tagline','overview','belongs_to_collection','title','spoken_languages','production_companies','production_countries'],inplace=True)"
   ]
  },
  {
   "cell_type": "code",
   "execution_count": 8,
   "id": "GvZU-qupK38A",
   "metadata": {
    "colab": {
     "base_uri": "https://localhost:8080/"
    },
    "id": "GvZU-qupK38A",
    "outputId": "bbc81d5d-c18c-4c52-d9bc-6e8df0e62720"
   },
   "outputs": [
    {
     "data": {
      "text/plain": [
       "Index(['budget', 'genres', 'popularity', 'release_date', 'runtime', 'status',\n",
       "       'Keywords', 'cast', 'crew', 'revenue'],\n",
       "      dtype='object')"
      ]
     },
     "execution_count": 8,
     "metadata": {},
     "output_type": "execute_result"
    }
   ],
   "source": [
    "for_input_use=df.columns\n",
    "for_input_use"
   ]
  },
  {
   "cell_type": "code",
   "execution_count": 9,
   "id": "f2d81bbe",
   "metadata": {
    "id": "f2d81bbe"
   },
   "outputs": [],
   "source": [
    "\n",
    "cols =  ['genres','Keywords','cast','crew']\n",
    "for col in cols:\n",
    "    df[col] = df[col].apply(lambda x:ast.literal_eval(x)if isinstance(x,str)else x)\n"
   ]
  },
  {
   "cell_type": "code",
   "execution_count": 10,
   "id": "a3e304f9",
   "metadata": {
    "id": "a3e304f9"
   },
   "outputs": [],
   "source": [
    "df['popularity'] = df['popularity'].astype(int)\n",
    "df['release_date'] = pd.to_datetime(df['release_date'],errors='coerce')"
   ]
  },
  {
   "cell_type": "code",
   "execution_count": 11,
   "id": "6d5c1d4b",
   "metadata": {
    "id": "6d5c1d4b"
   },
   "outputs": [],
   "source": [
    "df['runtime'] = pd.to_numeric(df['runtime'],errors='coerce')\n",
    "df['budget'] = pd.to_numeric(df['budget'],errors='coerce')"
   ]
  },
  {
   "cell_type": "code",
   "execution_count": 12,
   "id": "d33d7ffe",
   "metadata": {
    "colab": {
     "base_uri": "https://localhost:8080/",
     "height": 538
    },
    "id": "d33d7ffe",
    "outputId": "d570cbe3-4fb4-431a-dc78-09b9e10fb0b9"
   },
   "outputs": [
    {
     "data": {
      "text/html": [
       "<div>\n",
       "<style scoped>\n",
       "    .dataframe tbody tr th:only-of-type {\n",
       "        vertical-align: middle;\n",
       "    }\n",
       "\n",
       "    .dataframe tbody tr th {\n",
       "        vertical-align: top;\n",
       "    }\n",
       "\n",
       "    .dataframe thead th {\n",
       "        text-align: right;\n",
       "    }\n",
       "</style>\n",
       "<table border=\"1\" class=\"dataframe\">\n",
       "  <thead>\n",
       "    <tr style=\"text-align: right;\">\n",
       "      <th></th>\n",
       "      <th>budget</th>\n",
       "      <th>genres</th>\n",
       "      <th>popularity</th>\n",
       "      <th>release_date</th>\n",
       "      <th>runtime</th>\n",
       "      <th>status</th>\n",
       "      <th>Keywords</th>\n",
       "      <th>cast</th>\n",
       "      <th>crew</th>\n",
       "      <th>revenue</th>\n",
       "    </tr>\n",
       "  </thead>\n",
       "  <tbody>\n",
       "    <tr>\n",
       "      <th>0</th>\n",
       "      <td>14000000</td>\n",
       "      <td>[{'id': 35, 'name': 'Comedy'}]</td>\n",
       "      <td>6</td>\n",
       "      <td>2015-02-20</td>\n",
       "      <td>93.0</td>\n",
       "      <td>Released</td>\n",
       "      <td>[{'id': 4379, 'name': 'time travel'}, {'id': 9...</td>\n",
       "      <td>[{'cast_id': 4, 'character': 'Lou', 'credit_id...</td>\n",
       "      <td>[{'credit_id': '59ac067c92514107af02c8c8', 'de...</td>\n",
       "      <td>12314651</td>\n",
       "    </tr>\n",
       "    <tr>\n",
       "      <th>1</th>\n",
       "      <td>40000000</td>\n",
       "      <td>[{'id': 35, 'name': 'Comedy'}, {'id': 18, 'nam...</td>\n",
       "      <td>8</td>\n",
       "      <td>2004-08-06</td>\n",
       "      <td>113.0</td>\n",
       "      <td>Released</td>\n",
       "      <td>[{'id': 2505, 'name': 'coronation'}, {'id': 42...</td>\n",
       "      <td>[{'cast_id': 1, 'character': 'Mia Thermopolis'...</td>\n",
       "      <td>[{'credit_id': '52fe43fe9251416c7502563d', 'de...</td>\n",
       "      <td>95149435</td>\n",
       "    </tr>\n",
       "    <tr>\n",
       "      <th>2</th>\n",
       "      <td>3300000</td>\n",
       "      <td>[{'id': 18, 'name': 'Drama'}]</td>\n",
       "      <td>64</td>\n",
       "      <td>2014-10-10</td>\n",
       "      <td>105.0</td>\n",
       "      <td>Released</td>\n",
       "      <td>[{'id': 1416, 'name': 'jazz'}, {'id': 1523, 'n...</td>\n",
       "      <td>[{'cast_id': 5, 'character': 'Andrew Neimann',...</td>\n",
       "      <td>[{'credit_id': '54d5356ec3a3683ba0000039', 'de...</td>\n",
       "      <td>13092000</td>\n",
       "    </tr>\n",
       "    <tr>\n",
       "      <th>3</th>\n",
       "      <td>1200000</td>\n",
       "      <td>[{'id': 53, 'name': 'Thriller'}, {'id': 18, 'n...</td>\n",
       "      <td>3</td>\n",
       "      <td>2012-03-09</td>\n",
       "      <td>122.0</td>\n",
       "      <td>Released</td>\n",
       "      <td>[{'id': 10092, 'name': 'mystery'}, {'id': 1054...</td>\n",
       "      <td>[{'cast_id': 1, 'character': 'Vidya Bagchi', '...</td>\n",
       "      <td>[{'credit_id': '52fe48779251416c9108d6eb', 'de...</td>\n",
       "      <td>16000000</td>\n",
       "    </tr>\n",
       "    <tr>\n",
       "      <th>4</th>\n",
       "      <td>0</td>\n",
       "      <td>[{'id': 28, 'name': 'Action'}, {'id': 53, 'nam...</td>\n",
       "      <td>1</td>\n",
       "      <td>2009-02-05</td>\n",
       "      <td>118.0</td>\n",
       "      <td>Released</td>\n",
       "      <td>NaN</td>\n",
       "      <td>[{'cast_id': 3, 'character': 'Chun-soo', 'cred...</td>\n",
       "      <td>[{'credit_id': '52fe464b9251416c75073b43', 'de...</td>\n",
       "      <td>3923970</td>\n",
       "    </tr>\n",
       "  </tbody>\n",
       "</table>\n",
       "</div>"
      ],
      "text/plain": [
       "     budget                                             genres  popularity  \\\n",
       "0  14000000                     [{'id': 35, 'name': 'Comedy'}]           6   \n",
       "1  40000000  [{'id': 35, 'name': 'Comedy'}, {'id': 18, 'nam...           8   \n",
       "2   3300000                      [{'id': 18, 'name': 'Drama'}]          64   \n",
       "3   1200000  [{'id': 53, 'name': 'Thriller'}, {'id': 18, 'n...           3   \n",
       "4         0  [{'id': 28, 'name': 'Action'}, {'id': 53, 'nam...           1   \n",
       "\n",
       "  release_date  runtime    status  \\\n",
       "0   2015-02-20     93.0  Released   \n",
       "1   2004-08-06    113.0  Released   \n",
       "2   2014-10-10    105.0  Released   \n",
       "3   2012-03-09    122.0  Released   \n",
       "4   2009-02-05    118.0  Released   \n",
       "\n",
       "                                            Keywords  \\\n",
       "0  [{'id': 4379, 'name': 'time travel'}, {'id': 9...   \n",
       "1  [{'id': 2505, 'name': 'coronation'}, {'id': 42...   \n",
       "2  [{'id': 1416, 'name': 'jazz'}, {'id': 1523, 'n...   \n",
       "3  [{'id': 10092, 'name': 'mystery'}, {'id': 1054...   \n",
       "4                                                NaN   \n",
       "\n",
       "                                                cast  \\\n",
       "0  [{'cast_id': 4, 'character': 'Lou', 'credit_id...   \n",
       "1  [{'cast_id': 1, 'character': 'Mia Thermopolis'...   \n",
       "2  [{'cast_id': 5, 'character': 'Andrew Neimann',...   \n",
       "3  [{'cast_id': 1, 'character': 'Vidya Bagchi', '...   \n",
       "4  [{'cast_id': 3, 'character': 'Chun-soo', 'cred...   \n",
       "\n",
       "                                                crew   revenue  \n",
       "0  [{'credit_id': '59ac067c92514107af02c8c8', 'de...  12314651  \n",
       "1  [{'credit_id': '52fe43fe9251416c7502563d', 'de...  95149435  \n",
       "2  [{'credit_id': '54d5356ec3a3683ba0000039', 'de...  13092000  \n",
       "3  [{'credit_id': '52fe48779251416c9108d6eb', 'de...  16000000  \n",
       "4  [{'credit_id': '52fe464b9251416c75073b43', 'de...   3923970  "
      ]
     },
     "execution_count": 12,
     "metadata": {},
     "output_type": "execute_result"
    }
   ],
   "source": [
    "df.head()"
   ]
  },
  {
   "cell_type": "code",
   "execution_count": 13,
   "id": "e90e0909",
   "metadata": {
    "colab": {
     "base_uri": "https://localhost:8080/"
    },
    "id": "e90e0909",
    "outputId": "1785887e-1b18-4c4c-9776-322b25665bf8"
   },
   "outputs": [
    {
     "data": {
      "text/plain": [
       "(3000, 10)"
      ]
     },
     "execution_count": 13,
     "metadata": {},
     "output_type": "execute_result"
    }
   ],
   "source": [
    "df.shape"
   ]
  },
  {
   "cell_type": "code",
   "execution_count": 14,
   "id": "b6f65ddf",
   "metadata": {
    "colab": {
     "base_uri": "https://localhost:8080/",
     "height": 397
    },
    "id": "b6f65ddf",
    "outputId": "9ce81516-9d28-4e70-977a-79c7fd7ad5e2"
   },
   "outputs": [
    {
     "data": {
      "text/plain": [
       "budget            0\n",
       "genres            7\n",
       "popularity        0\n",
       "release_date      0\n",
       "runtime           2\n",
       "status            0\n",
       "Keywords        276\n",
       "cast             13\n",
       "crew             16\n",
       "revenue           0\n",
       "dtype: int64"
      ]
     },
     "execution_count": 14,
     "metadata": {},
     "output_type": "execute_result"
    }
   ],
   "source": [
    "df.isnull().sum()"
   ]
  },
  {
   "cell_type": "code",
   "execution_count": null,
   "id": "42367291",
   "metadata": {
    "id": "42367291"
   },
   "outputs": [],
   "source": []
  },
  {
   "cell_type": "code",
   "execution_count": 15,
   "id": "c478da19",
   "metadata": {
    "colab": {
     "base_uri": "https://localhost:8080/"
    },
    "id": "c478da19",
    "outputId": "46c67ee7-9d04-4b0d-bb2a-51707a78720c"
   },
   "outputs": [
    {
     "data": {
      "text/plain": [
       "(3000, 10)"
      ]
     },
     "execution_count": 15,
     "metadata": {},
     "output_type": "execute_result"
    }
   ],
   "source": [
    "df.shape"
   ]
  },
  {
   "cell_type": "code",
   "execution_count": 16,
   "id": "dc105a0c",
   "metadata": {
    "colab": {
     "base_uri": "https://localhost:8080/"
    },
    "id": "dc105a0c",
    "outputId": "075c271d-2ab0-4f7b-b356-d8f317d55f3a"
   },
   "outputs": [
    {
     "name": "stdout",
     "output_type": "stream",
     "text": [
      "budget                   int64\n",
      "genres                  object\n",
      "popularity               int32\n",
      "release_date    datetime64[ns]\n",
      "runtime                float64\n",
      "status                  object\n",
      "Keywords                object\n",
      "cast                    object\n",
      "crew                    object\n",
      "revenue                  int64\n",
      "dtype: object\n"
     ]
    }
   ],
   "source": [
    "print(df.dtypes)\n"
   ]
  },
  {
   "cell_type": "code",
   "execution_count": 17,
   "id": "f7a66b95",
   "metadata": {
    "id": "f7a66b95"
   },
   "outputs": [],
   "source": [
    "df['director'] = df['crew'].apply(lambda x: [i['name'] for i in x if isinstance(i,dict) and i['job']=='Director']if isinstance(x,list) else np.nan)\n",
    "df['cast'] = df['cast'].apply(lambda x: [i['name'] for i in x[:3] if isinstance(i,dict)]if isinstance(x,list) else np.nan)\n",
    "df['Keywords'] = df['Keywords'].apply(lambda x: [i['name'] for i in x[:3] if isinstance(i,dict)]if isinstance(x,list) else np.nan)\n",
    "df['genres'] = df['genres'].apply(lambda x: [i['name'] for i in x if isinstance(i, dict)] if isinstance(x, list) else np.nan)\n",
    "df = df.drop(columns=['crew'])"
   ]
  },
  {
   "cell_type": "code",
   "execution_count": 18,
   "id": "0d000555",
   "metadata": {
    "colab": {
     "base_uri": "https://localhost:8080/",
     "height": 397
    },
    "id": "0d000555",
    "outputId": "ad160030-6b1e-4609-e026-0a3fc50f6dcc"
   },
   "outputs": [
    {
     "data": {
      "text/plain": [
       "budget            0\n",
       "genres            7\n",
       "popularity        0\n",
       "release_date      0\n",
       "runtime           2\n",
       "status            0\n",
       "Keywords        276\n",
       "cast             13\n",
       "revenue           0\n",
       "director         16\n",
       "dtype: int64"
      ]
     },
     "execution_count": 18,
     "metadata": {},
     "output_type": "execute_result"
    }
   ],
   "source": [
    "df.isnull().sum()"
   ]
  },
  {
   "cell_type": "code",
   "execution_count": 19,
   "id": "a92f6124",
   "metadata": {
    "colab": {
     "base_uri": "https://localhost:8080/",
     "height": 608
    },
    "id": "a92f6124",
    "outputId": "ffc3176b-5fb9-46c1-d1e1-29e21cfcfc4d"
   },
   "outputs": [
    {
     "data": {
      "text/html": [
       "<div>\n",
       "<style scoped>\n",
       "    .dataframe tbody tr th:only-of-type {\n",
       "        vertical-align: middle;\n",
       "    }\n",
       "\n",
       "    .dataframe tbody tr th {\n",
       "        vertical-align: top;\n",
       "    }\n",
       "\n",
       "    .dataframe thead th {\n",
       "        text-align: right;\n",
       "    }\n",
       "</style>\n",
       "<table border=\"1\" class=\"dataframe\">\n",
       "  <thead>\n",
       "    <tr style=\"text-align: right;\">\n",
       "      <th></th>\n",
       "      <th>budget</th>\n",
       "      <th>genres</th>\n",
       "      <th>popularity</th>\n",
       "      <th>release_date</th>\n",
       "      <th>runtime</th>\n",
       "      <th>status</th>\n",
       "      <th>Keywords</th>\n",
       "      <th>cast</th>\n",
       "      <th>revenue</th>\n",
       "      <th>director</th>\n",
       "    </tr>\n",
       "  </thead>\n",
       "  <tbody>\n",
       "    <tr>\n",
       "      <th>0</th>\n",
       "      <td>14000000</td>\n",
       "      <td>[Comedy]</td>\n",
       "      <td>6</td>\n",
       "      <td>2015-02-20</td>\n",
       "      <td>93.0</td>\n",
       "      <td>Released</td>\n",
       "      <td>[time travel, sequel, hot tub]</td>\n",
       "      <td>[Rob Corddry, Craig Robinson, Clark Duke]</td>\n",
       "      <td>12314651</td>\n",
       "      <td>[Steve Pink]</td>\n",
       "    </tr>\n",
       "    <tr>\n",
       "      <th>1</th>\n",
       "      <td>40000000</td>\n",
       "      <td>[Comedy, Drama, Family, Romance]</td>\n",
       "      <td>8</td>\n",
       "      <td>2004-08-06</td>\n",
       "      <td>113.0</td>\n",
       "      <td>Released</td>\n",
       "      <td>[coronation, duty, marriage]</td>\n",
       "      <td>[Anne Hathaway, Julie Andrews, H√©ctor Elizondo]</td>\n",
       "      <td>95149435</td>\n",
       "      <td>[Garry Marshall]</td>\n",
       "    </tr>\n",
       "    <tr>\n",
       "      <th>2</th>\n",
       "      <td>3300000</td>\n",
       "      <td>[Drama]</td>\n",
       "      <td>64</td>\n",
       "      <td>2014-10-10</td>\n",
       "      <td>105.0</td>\n",
       "      <td>Released</td>\n",
       "      <td>[jazz, obsession, conservatory]</td>\n",
       "      <td>[Miles Teller, J.K. Simmons, Melissa Benoist]</td>\n",
       "      <td>13092000</td>\n",
       "      <td>[Damien Chazelle]</td>\n",
       "    </tr>\n",
       "    <tr>\n",
       "      <th>3</th>\n",
       "      <td>1200000</td>\n",
       "      <td>[Thriller, Drama]</td>\n",
       "      <td>3</td>\n",
       "      <td>2012-03-09</td>\n",
       "      <td>122.0</td>\n",
       "      <td>Released</td>\n",
       "      <td>[mystery, bollywood, police corruption]</td>\n",
       "      <td>[Vidya Balan, Nawazuddin Siddiqui, Parambrata ...</td>\n",
       "      <td>16000000</td>\n",
       "      <td>[Sujoy Ghosh]</td>\n",
       "    </tr>\n",
       "    <tr>\n",
       "      <th>4</th>\n",
       "      <td>0</td>\n",
       "      <td>[Action, Thriller]</td>\n",
       "      <td>1</td>\n",
       "      <td>2009-02-05</td>\n",
       "      <td>118.0</td>\n",
       "      <td>Released</td>\n",
       "      <td>NaN</td>\n",
       "      <td>[Kim Kang-woo, Jo Jae-hyeon, Park Si-yeon]</td>\n",
       "      <td>3923970</td>\n",
       "      <td>[Jong-seok Yoon]</td>\n",
       "    </tr>\n",
       "  </tbody>\n",
       "</table>\n",
       "</div>"
      ],
      "text/plain": [
       "     budget                            genres  popularity release_date  \\\n",
       "0  14000000                          [Comedy]           6   2015-02-20   \n",
       "1  40000000  [Comedy, Drama, Family, Romance]           8   2004-08-06   \n",
       "2   3300000                           [Drama]          64   2014-10-10   \n",
       "3   1200000                 [Thriller, Drama]           3   2012-03-09   \n",
       "4         0                [Action, Thriller]           1   2009-02-05   \n",
       "\n",
       "   runtime    status                                 Keywords  \\\n",
       "0     93.0  Released           [time travel, sequel, hot tub]   \n",
       "1    113.0  Released             [coronation, duty, marriage]   \n",
       "2    105.0  Released          [jazz, obsession, conservatory]   \n",
       "3    122.0  Released  [mystery, bollywood, police corruption]   \n",
       "4    118.0  Released                                      NaN   \n",
       "\n",
       "                                                cast   revenue  \\\n",
       "0          [Rob Corddry, Craig Robinson, Clark Duke]  12314651   \n",
       "1   [Anne Hathaway, Julie Andrews, H√©ctor Elizondo]  95149435   \n",
       "2      [Miles Teller, J.K. Simmons, Melissa Benoist]  13092000   \n",
       "3  [Vidya Balan, Nawazuddin Siddiqui, Parambrata ...  16000000   \n",
       "4         [Kim Kang-woo, Jo Jae-hyeon, Park Si-yeon]   3923970   \n",
       "\n",
       "            director  \n",
       "0       [Steve Pink]  \n",
       "1   [Garry Marshall]  \n",
       "2  [Damien Chazelle]  \n",
       "3      [Sujoy Ghosh]  \n",
       "4   [Jong-seok Yoon]  "
      ]
     },
     "execution_count": 19,
     "metadata": {},
     "output_type": "execute_result"
    }
   ],
   "source": [
    "df.head()"
   ]
  },
  {
   "cell_type": "code",
   "execution_count": 20,
   "id": "131276f7",
   "metadata": {
    "id": "131276f7"
   },
   "outputs": [],
   "source": [
    "obj_col = df.select_dtypes('object').astype('str')\n",
    "for col in obj_col:\n",
    "    df[col] = df[col].apply(lambda x:','.join(x) if isinstance(x,list)else x)"
   ]
  },
  {
   "cell_type": "code",
   "execution_count": 21,
   "id": "1d2d5717",
   "metadata": {
    "id": "1d2d5717"
   },
   "outputs": [],
   "source": [
    "categorical_column = ['genres','Keywords','cast','director']\n",
    "for col in categorical_column:\n",
    "    df[col] = df[col].fillna(df[col].mode()[0])"
   ]
  },
  {
   "cell_type": "code",
   "execution_count": 22,
   "id": "38b000c4",
   "metadata": {
    "colab": {
     "base_uri": "https://localhost:8080/",
     "height": 397
    },
    "id": "38b000c4",
    "outputId": "11eda041-cb54-4e63-aacb-ba96ec0181c5"
   },
   "outputs": [
    {
     "data": {
      "text/plain": [
       "budget          0\n",
       "genres          0\n",
       "popularity      0\n",
       "release_date    0\n",
       "runtime         2\n",
       "status          0\n",
       "Keywords        0\n",
       "cast            0\n",
       "revenue         0\n",
       "director        0\n",
       "dtype: int64"
      ]
     },
     "execution_count": 22,
     "metadata": {},
     "output_type": "execute_result"
    }
   ],
   "source": [
    "df.isnull().sum()"
   ]
  },
  {
   "cell_type": "code",
   "execution_count": 23,
   "id": "f2b9e217",
   "metadata": {
    "id": "f2b9e217"
   },
   "outputs": [],
   "source": [
    "df = df.dropna(subset='runtime')"
   ]
  },
  {
   "cell_type": "code",
   "execution_count": 24,
   "id": "b2a04b29",
   "metadata": {
    "colab": {
     "base_uri": "https://localhost:8080/",
     "height": 397
    },
    "id": "b2a04b29",
    "outputId": "60887d22-12c9-4f48-bcec-801261bd378a"
   },
   "outputs": [
    {
     "data": {
      "text/plain": [
       "budget                   int64\n",
       "genres                  object\n",
       "popularity               int32\n",
       "release_date    datetime64[ns]\n",
       "runtime                float64\n",
       "status                  object\n",
       "Keywords                object\n",
       "cast                    object\n",
       "revenue                  int64\n",
       "director                object\n",
       "dtype: object"
      ]
     },
     "execution_count": 24,
     "metadata": {},
     "output_type": "execute_result"
    }
   ],
   "source": [
    "df.dtypes"
   ]
  },
  {
   "cell_type": "markdown",
   "id": "d42a2e7e",
   "metadata": {
    "id": "d42a2e7e"
   },
   "source": [
    "# Data Visualisation"
   ]
  },
  {
   "cell_type": "code",
   "execution_count": 25,
   "id": "a52eb493",
   "metadata": {
    "colab": {
     "base_uri": "https://localhost:8080/",
     "height": 1000
    },
    "id": "a52eb493",
    "outputId": "e08b7cca-181f-4ec8-f895-a4f223de24ac"
   },
   "outputs": [
    {
     "data": {
      "image/png": "[encoded data removed]",
      "text/plain": [
       "<Figure size 600x400 with 1 Axes>"
      ]
     },
     "metadata": {},
     "output_type": "display_data"
    },
    {
     "data": {
      "image/png": "[encoded data removed]",
      "text/plain": [
       "<Figure size 600x400 with 1 Axes>"
      ]
     },
     "metadata": {},
     "output_type": "display_data"
    },
    {
     "data": {
      "image/png": "[encoded data removed]",
      "text/plain": [
       "<Figure size 600x400 with 1 Axes>"
      ]
     },
     "metadata": {},
     "output_type": "display_data"
    }
   ],
   "source": [
    "cols = ['popularity','budget','runtime']\n",
    "for col in cols:\n",
    "    plt.figure(figsize=(6,4))\n",
    "    sns.histplot(df[col],kde=True)\n",
    "    plt.title(f'Distribution of {col}')\n",
    "    plt.show()"
   ]
  },
  {
   "cell_type": "code",
   "execution_count": null,
   "id": "f254d796",
   "metadata": {
    "id": "f254d796"
   },
   "outputs": [],
   "source": []
  },
  {
   "cell_type": "code",
   "execution_count": 26,
   "id": "f282933a",
   "metadata": {
    "colab": {
     "base_uri": "https://localhost:8080/",
     "height": 489
    },
    "id": "f282933a",
    "outputId": "6c6c975e-8562-4d34-fe94-3d4da4273b7a"
   },
   "outputs": [
    {
     "data": {
      "text/plain": [
       "Text(0.5, 1.0, 'Budget vs Popularity')"
      ]
     },
     "execution_count": 26,
     "metadata": {},
     "output_type": "execute_result"
    },
    {
     "data": {
      "image/png": "[encoded data removed]",
      "text/plain": [
       "<Figure size 640x480 with 1 Axes>"
      ]
     },
     "metadata": {},
     "output_type": "display_data"
    }
   ],
   "source": [
    "sns.scatterplot(x=df['budget'],y=df['popularity'])\n",
    "plt.title('Budget vs Popularity')"
   ]
  },
  {
   "cell_type": "code",
   "execution_count": 27,
   "id": "f5320979",
   "metadata": {
    "colab": {
     "base_uri": "https://localhost:8080/",
     "height": 489
    },
    "id": "f5320979",
    "outputId": "00b4fdd9-0b13-480b-ea00-742961d8914c"
   },
   "outputs": [
    {
     "data": {
      "text/plain": [
       "Text(0.5, 1.0, 'runtime vs Popularity')"
      ]
     },
     "execution_count": 27,
     "metadata": {},
     "output_type": "execute_result"
    },
    {
     "data": {
      "image/png": "[encoded data removed]",
      "text/plain": [
       "<Figure size 640x480 with 1 Axes>"
      ]
     },
     "metadata": {},
     "output_type": "display_data"
    }
   ],
   "source": [
    "sns.scatterplot(x=df['runtime'],y=df['popularity'])\n",
    "plt.title('runtime vs Popularity')"
   ]
  },
  {
   "cell_type": "code",
   "execution_count": 28,
   "id": "9c03f6cc",
   "metadata": {
    "id": "9c03f6cc"
   },
   "outputs": [],
   "source": [
    "\n",
    "df['Keywords'] = df['Keywords'].astype(str)\n",
    "keyword = ' '.join(df['Keywords'])\n"
   ]
  },
  {
   "cell_type": "code",
   "execution_count": 29,
   "id": "9ce2204e",
   "metadata": {
    "colab": {
     "base_uri": "https://localhost:8080/",
     "height": 765
    },
    "id": "9ce2204e",
    "outputId": "299577a8-6280-4f06-c2de-0c4a4829c369"
   },
   "outputs": [
    {
     "data": {
      "image/png": "[encoded data removed]",
      "text/plain": [
       "<Figure size 600x400 with 1 Axes>"
      ]
     },
     "metadata": {},
     "output_type": "display_data"
    },
    {
     "data": {
      "image/png": "[encoded data removed]",
      "text/plain": [
       "<Figure size 600x400 with 1 Axes>"
      ]
     },
     "metadata": {},
     "output_type": "display_data"
    }
   ],
   "source": [
    "cols = ['genres','cast']\n",
    "for col in cols:\n",
    "    plt.figure(figsize=(6,4))\n",
    "    string = ' '.join(df[col])\n",
    "    spl =  string.split(',')\n",
    "    s = pd.Series(spl).value_counts(ascending=False)[:10]\n",
    "    sns.barplot(x=s.values,y=s.index)\n",
    "    plt.title(f'Top 10 {col}')\n",
    "    plt.show()\n"
   ]
  },
  {
   "cell_type": "code",
   "execution_count": 30,
   "id": "7fcf9d98",
   "metadata": {
    "id": "7fcf9d98"
   },
   "outputs": [],
   "source": [
    "df['year'] = df['release_date'].dt.year\n",
    "df = df.drop(columns='release_date')\n",
    "\n"
   ]
  },
  {
   "cell_type": "code",
   "execution_count": 31,
   "id": "2554b4fc",
   "metadata": {
    "id": "2554b4fc"
   },
   "outputs": [],
   "source": [
    "date = df['year'].value_counts()"
   ]
  },
  {
   "cell_type": "code",
   "execution_count": 32,
   "id": "bd79ea65",
   "metadata": {
    "colab": {
     "base_uri": "https://localhost:8080/",
     "height": 466
    },
    "id": "bd79ea65",
    "outputId": "645e6bbb-685d-4d12-c5b6-29f7d8137e7a"
   },
   "outputs": [
    {
     "data": {
      "text/plain": [
       "Text(0, 0.5, 'movie count')"
      ]
     },
     "execution_count": 32,
     "metadata": {},
     "output_type": "execute_result"
    },
    {
     "data": {
      "image/png": "[encoded data removed]",
      "text/plain": [
       "<Figure size 640x480 with 1 Axes>"
      ]
     },
     "metadata": {},
     "output_type": "display_data"
    }
   ],
   "source": [
    "date = date.iloc[0:10]\n",
    "plt.bar(x=date.index, height=date.values.flatten())\n",
    "plt.xlabel('year')\n",
    "plt.ylabel('movie count')\n"
   ]
  },
  {
   "cell_type": "code",
   "execution_count": 33,
   "id": "745fee8d",
   "metadata": {
    "colab": {
     "base_uri": "https://localhost:8080/",
     "height": 397
    },
    "id": "745fee8d",
    "outputId": "cfc1d330-2f72-4fe7-cf64-f6e82c2e1550"
   },
   "outputs": [
    {
     "data": {
      "text/plain": [
       "budget          int64\n",
       "genres         object\n",
       "popularity      int32\n",
       "runtime       float64\n",
       "status         object\n",
       "Keywords       object\n",
       "cast           object\n",
       "revenue         int64\n",
       "director       object\n",
       "year            int32\n",
       "dtype: object"
      ]
     },
     "execution_count": 33,
     "metadata": {},
     "output_type": "execute_result"
    }
   ],
   "source": [
    "df.dtypes"
   ]
  },
  {
   "cell_type": "code",
   "execution_count": 34,
   "id": "6e44a6fb",
   "metadata": {
    "id": "6e44a6fb"
   },
   "outputs": [],
   "source": [
    "df = pd.get_dummies(df, columns=['director'], dtype='int')\n"
   ]
  },
  {
   "cell_type": "code",
   "execution_count": 35,
   "id": "1aee81dd",
   "metadata": {
    "id": "1aee81dd"
   },
   "outputs": [],
   "source": [
    "df['genres'] = df['genres'].apply(lambda x: x.split(','))\n",
    "df['Keywords'] = df['Keywords'].apply(lambda x: x.split(','))\n",
    "df['cast'] = df['cast'].apply(lambda x: x.split(','))\n",
    "\n",
    "# One-hot encoding genres and keywords\n",
    "mlb_genres = MultiLabelBinarizer()\n",
    "mlb_keywords = MultiLabelBinarizer()\n",
    "mlb_cast = MultiLabelBinarizer()\n",
    "\n",
    "df_genres = pd.DataFrame(mlb_genres.fit_transform(df['genres']), columns=mlb_genres.classes_, index=df.index)\n",
    "df_keywords = pd.DataFrame(mlb_keywords.fit_transform(df['Keywords']), columns=mlb_keywords.classes_, index=df.index)\n",
    "df_cast = pd.DataFrame(mlb_cast.fit_transform(df['cast']),columns=mlb_cast.classes_,index=df.index)\n",
    "# Combine one-hot encoded genres and keywords with original dataframe\n",
    "df = pd.concat([df, df_genres, df_keywords, df_cast], axis=1)\n",
    "df = df.drop(columns=['genres','cast','Keywords'])"
   ]
  },
  {
   "cell_type": "code",
   "execution_count": 36,
   "id": "1ccd526b",
   "metadata": {
    "id": "1ccd526b"
   },
   "outputs": [],
   "source": [
    "le = LabelEncoder()\n",
    "df['status'] = le.fit_transform(df['status'].astype('str'))\n"
   ]
  },
  {
   "cell_type": "code",
   "execution_count": 37,
   "id": "OcL9FDFt72Kp",
   "metadata": {
    "id": "OcL9FDFt72Kp"
   },
   "outputs": [],
   "source": [
    "df['revenue'] = np.log1p(df['revenue'])\n",
    "df['budget'] = np.log1p(df['budget'])\n"
   ]
  },
  {
   "cell_type": "code",
   "execution_count": 38,
   "id": "32dc90cc",
   "metadata": {
    "id": "32dc90cc"
   },
   "outputs": [],
   "source": [
    "scaling = ['budget','runtime','popularity','year']\n",
    "for col in scaling:\n",
    "    scaler = StandardScaler()\n",
    "    df[col]=scaler.fit_transform(df[[col]])"
   ]
  },
  {
   "cell_type": "code",
   "execution_count": 39,
   "id": "174196f1",
   "metadata": {
    "id": "174196f1"
   },
   "outputs": [],
   "source": [
    "df.columns\n",
    "df.columns = [col.encode('utf-8').decode('utf-8') for col in df.columns]\n",
    "df.rename(columns={\n",
    "    'current_strange_column_name': 'new_clean_column_name',\n",
    "    # add more if needed\n",
    "}, inplace=True)"
   ]
  },
  {
   "cell_type": "code",
   "execution_count": 40,
   "id": "0a82510b",
   "metadata": {
    "id": "0a82510b"
   },
   "outputs": [],
   "source": [
    "import re\n",
    "df.columns = [re.sub(r'[^a-zA-Z0-9_]', '', col) for col in df.columns]\n",
    "\n"
   ]
  },
  {
   "cell_type": "code",
   "execution_count": 41,
   "id": "9f7d3e13",
   "metadata": {
    "colab": {
     "base_uri": "https://localhost:8080/",
     "height": 461
    },
    "id": "9f7d3e13",
    "outputId": "f419edfe-7d25-4a23-9a4d-c9d8845bd8e6"
   },
   "outputs": [
    {
     "name": "stdout",
     "output_type": "stream",
     "text": [
      "Index(['', '', '', '', '', '', '', '', ''], dtype='object')\n"
     ]
    },
    {
     "data": {
      "text/html": [
       "<div>\n",
       "<style scoped>\n",
       "    .dataframe tbody tr th:only-of-type {\n",
       "        vertical-align: middle;\n",
       "    }\n",
       "\n",
       "    .dataframe tbody tr th {\n",
       "        vertical-align: top;\n",
       "    }\n",
       "\n",
       "    .dataframe thead th {\n",
       "        text-align: right;\n",
       "    }\n",
       "</style>\n",
       "<table border=\"1\" class=\"dataframe\">\n",
       "  <thead>\n",
       "    <tr style=\"text-align: right;\">\n",
       "      <th></th>\n",
       "      <th>budget</th>\n",
       "      <th>popularity</th>\n",
       "      <th>runtime</th>\n",
       "      <th>status</th>\n",
       "      <th>revenue</th>\n",
       "      <th>year</th>\n",
       "      <th>director_AJEdwards</th>\n",
       "      <th>director_ARMurugadoss</th>\n",
       "      <th>director_AaronKatz</th>\n",
       "      <th>director_AaronNorris</th>\n",
       "      <th>...</th>\n",
       "      <th>ZoFlix</th>\n",
       "      <th>ZoKravitz</th>\n",
       "      <th>ZsfiaPsotta</th>\n",
       "      <th>ZuhabKhan</th>\n",
       "      <th>ZuleikhaRobinson</th>\n",
       "      <th>rfanKang</th>\n",
       "      <th>lexBrendemhl</th>\n",
       "      <th>ricBruneau</th>\n",
       "      <th>rjanGamst</th>\n",
       "      <th>ahanGkbakar</th>\n",
       "    </tr>\n",
       "  </thead>\n",
       "  <tbody>\n",
       "    <tr>\n",
       "      <th>0</th>\n",
       "      <td>0.614707</td>\n",
       "      <td>-0.162928</td>\n",
       "      <td>-0.672768</td>\n",
       "      <td>0</td>\n",
       "      <td>16.326300</td>\n",
       "      <td>0.543771</td>\n",
       "      <td>0</td>\n",
       "      <td>0</td>\n",
       "      <td>0</td>\n",
       "      <td>0</td>\n",
       "      <td>...</td>\n",
       "      <td>0</td>\n",
       "      <td>0</td>\n",
       "      <td>0</td>\n",
       "      <td>0</td>\n",
       "      <td>0</td>\n",
       "      <td>0</td>\n",
       "      <td>0</td>\n",
       "      <td>0</td>\n",
       "      <td>0</td>\n",
       "      <td>0</td>\n",
       "    </tr>\n",
       "    <tr>\n",
       "      <th>1</th>\n",
       "      <td>0.755820</td>\n",
       "      <td>0.002147</td>\n",
       "      <td>0.232916</td>\n",
       "      <td>0</td>\n",
       "      <td>18.370959</td>\n",
       "      <td>-0.112279</td>\n",
       "      <td>0</td>\n",
       "      <td>0</td>\n",
       "      <td>0</td>\n",
       "      <td>0</td>\n",
       "      <td>...</td>\n",
       "      <td>0</td>\n",
       "      <td>0</td>\n",
       "      <td>0</td>\n",
       "      <td>0</td>\n",
       "      <td>0</td>\n",
       "      <td>0</td>\n",
       "      <td>0</td>\n",
       "      <td>0</td>\n",
       "      <td>0</td>\n",
       "      <td>0</td>\n",
       "    </tr>\n",
       "    <tr>\n",
       "      <th>2</th>\n",
       "      <td>0.420459</td>\n",
       "      <td>4.624265</td>\n",
       "      <td>-0.129358</td>\n",
       "      <td>0</td>\n",
       "      <td>16.387512</td>\n",
       "      <td>0.484130</td>\n",
       "      <td>0</td>\n",
       "      <td>0</td>\n",
       "      <td>0</td>\n",
       "      <td>0</td>\n",
       "      <td>...</td>\n",
       "      <td>0</td>\n",
       "      <td>0</td>\n",
       "      <td>0</td>\n",
       "      <td>0</td>\n",
       "      <td>0</td>\n",
       "      <td>0</td>\n",
       "      <td>0</td>\n",
       "      <td>0</td>\n",
       "      <td>0</td>\n",
       "      <td>0</td>\n",
       "    </tr>\n",
       "    <tr>\n",
       "      <th>3</th>\n",
       "      <td>0.284484</td>\n",
       "      <td>-0.410542</td>\n",
       "      <td>0.640474</td>\n",
       "      <td>0</td>\n",
       "      <td>16.588099</td>\n",
       "      <td>0.364848</td>\n",
       "      <td>0</td>\n",
       "      <td>0</td>\n",
       "      <td>0</td>\n",
       "      <td>0</td>\n",
       "      <td>...</td>\n",
       "      <td>0</td>\n",
       "      <td>0</td>\n",
       "      <td>0</td>\n",
       "      <td>0</td>\n",
       "      <td>0</td>\n",
       "      <td>0</td>\n",
       "      <td>0</td>\n",
       "      <td>0</td>\n",
       "      <td>0</td>\n",
       "      <td>0</td>\n",
       "    </tr>\n",
       "    <tr>\n",
       "      <th>4</th>\n",
       "      <td>-1.597044</td>\n",
       "      <td>-0.575617</td>\n",
       "      <td>0.459337</td>\n",
       "      <td>0</td>\n",
       "      <td>15.182615</td>\n",
       "      <td>0.185925</td>\n",
       "      <td>0</td>\n",
       "      <td>0</td>\n",
       "      <td>0</td>\n",
       "      <td>0</td>\n",
       "      <td>...</td>\n",
       "      <td>0</td>\n",
       "      <td>0</td>\n",
       "      <td>0</td>\n",
       "      <td>0</td>\n",
       "      <td>0</td>\n",
       "      <td>0</td>\n",
       "      <td>0</td>\n",
       "      <td>0</td>\n",
       "      <td>0</td>\n",
       "      <td>0</td>\n",
       "    </tr>\n",
       "    <tr>\n",
       "      <th>...</th>\n",
       "      <td>...</td>\n",
       "      <td>...</td>\n",
       "      <td>...</td>\n",
       "      <td>...</td>\n",
       "      <td>...</td>\n",
       "      <td>...</td>\n",
       "      <td>...</td>\n",
       "      <td>...</td>\n",
       "      <td>...</td>\n",
       "      <td>...</td>\n",
       "      <td>...</td>\n",
       "      <td>...</td>\n",
       "      <td>...</td>\n",
       "      <td>...</td>\n",
       "      <td>...</td>\n",
       "      <td>...</td>\n",
       "      <td>...</td>\n",
       "      <td>...</td>\n",
       "      <td>...</td>\n",
       "      <td>...</td>\n",
       "      <td>...</td>\n",
       "    </tr>\n",
       "    <tr>\n",
       "      <th>2995</th>\n",
       "      <td>-1.597044</td>\n",
       "      <td>0.084685</td>\n",
       "      <td>-0.265210</td>\n",
       "      <td>0</td>\n",
       "      <td>14.283442</td>\n",
       "      <td>-0.708689</td>\n",
       "      <td>0</td>\n",
       "      <td>0</td>\n",
       "      <td>0</td>\n",
       "      <td>0</td>\n",
       "      <td>...</td>\n",
       "      <td>0</td>\n",
       "      <td>0</td>\n",
       "      <td>0</td>\n",
       "      <td>0</td>\n",
       "      <td>0</td>\n",
       "      <td>0</td>\n",
       "      <td>0</td>\n",
       "      <td>0</td>\n",
       "      <td>0</td>\n",
       "      <td>0</td>\n",
       "    </tr>\n",
       "    <tr>\n",
       "      <th>2996</th>\n",
       "      <td>-1.597044</td>\n",
       "      <td>-0.410542</td>\n",
       "      <td>-0.265210</td>\n",
       "      <td>0</td>\n",
       "      <td>12.103990</td>\n",
       "      <td>0.424489</td>\n",
       "      <td>0</td>\n",
       "      <td>0</td>\n",
       "      <td>0</td>\n",
       "      <td>0</td>\n",
       "      <td>...</td>\n",
       "      <td>0</td>\n",
       "      <td>0</td>\n",
       "      <td>0</td>\n",
       "      <td>0</td>\n",
       "      <td>0</td>\n",
       "      <td>0</td>\n",
       "      <td>0</td>\n",
       "      <td>0</td>\n",
       "      <td>0</td>\n",
       "      <td>0</td>\n",
       "    </tr>\n",
       "    <tr>\n",
       "      <th>2997</th>\n",
       "      <td>0.821080</td>\n",
       "      <td>0.497374</td>\n",
       "      <td>0.549906</td>\n",
       "      <td>0</td>\n",
       "      <td>18.309266</td>\n",
       "      <td>-0.589407</td>\n",
       "      <td>0</td>\n",
       "      <td>0</td>\n",
       "      <td>0</td>\n",
       "      <td>0</td>\n",
       "      <td>...</td>\n",
       "      <td>0</td>\n",
       "      <td>0</td>\n",
       "      <td>0</td>\n",
       "      <td>0</td>\n",
       "      <td>0</td>\n",
       "      <td>0</td>\n",
       "      <td>0</td>\n",
       "      <td>0</td>\n",
       "      <td>0</td>\n",
       "      <td>0</td>\n",
       "    </tr>\n",
       "    <tr>\n",
       "      <th>2998</th>\n",
       "      <td>0.762378</td>\n",
       "      <td>0.579912</td>\n",
       "      <td>-0.808621</td>\n",
       "      <td>0</td>\n",
       "      <td>18.962792</td>\n",
       "      <td>-0.112279</td>\n",
       "      <td>0</td>\n",
       "      <td>0</td>\n",
       "      <td>0</td>\n",
       "      <td>0</td>\n",
       "      <td>...</td>\n",
       "      <td>0</td>\n",
       "      <td>0</td>\n",
       "      <td>0</td>\n",
       "      <td>0</td>\n",
       "      <td>0</td>\n",
       "      <td>0</td>\n",
       "      <td>0</td>\n",
       "      <td>0</td>\n",
       "      <td>0</td>\n",
       "      <td>0</td>\n",
       "    </tr>\n",
       "    <tr>\n",
       "      <th>2999</th>\n",
       "      <td>0.737871</td>\n",
       "      <td>0.167223</td>\n",
       "      <td>-0.084073</td>\n",
       "      <td>0</td>\n",
       "      <td>18.223292</td>\n",
       "      <td>0.305207</td>\n",
       "      <td>0</td>\n",
       "      <td>0</td>\n",
       "      <td>0</td>\n",
       "      <td>0</td>\n",
       "      <td>...</td>\n",
       "      <td>0</td>\n",
       "      <td>0</td>\n",
       "      <td>0</td>\n",
       "      <td>0</td>\n",
       "      <td>0</td>\n",
       "      <td>0</td>\n",
       "      <td>0</td>\n",
       "      <td>0</td>\n",
       "      <td>0</td>\n",
       "      <td>0</td>\n",
       "    </tr>\n",
       "  </tbody>\n",
       "</table>\n",
       "<p>2998 rows × 9236 columns</p>\n",
       "</div>"
      ],
      "text/plain": [
       "        budget  popularity   runtime  status    revenue      year  \\\n",
       "0     0.614707   -0.162928 -0.672768       0  16.326300  0.543771   \n",
       "1     0.755820    0.002147  0.232916       0  18.370959 -0.112279   \n",
       "2     0.420459    4.624265 -0.129358       0  16.387512  0.484130   \n",
       "3     0.284484   -0.410542  0.640474       0  16.588099  0.364848   \n",
       "4    -1.597044   -0.575617  0.459337       0  15.182615  0.185925   \n",
       "...        ...         ...       ...     ...        ...       ...   \n",
       "2995 -1.597044    0.084685 -0.265210       0  14.283442 -0.708689   \n",
       "2996 -1.597044   -0.410542 -0.265210       0  12.103990  0.424489   \n",
       "2997  0.821080    0.497374  0.549906       0  18.309266 -0.589407   \n",
       "2998  0.762378    0.579912 -0.808621       0  18.962792 -0.112279   \n",
       "2999  0.737871    0.167223 -0.084073       0  18.223292  0.305207   \n",
       "\n",
       "      director_AJEdwards  director_ARMurugadoss  director_AaronKatz  \\\n",
       "0                      0                      0                   0   \n",
       "1                      0                      0                   0   \n",
       "2                      0                      0                   0   \n",
       "3                      0                      0                   0   \n",
       "4                      0                      0                   0   \n",
       "...                  ...                    ...                 ...   \n",
       "2995                   0                      0                   0   \n",
       "2996                   0                      0                   0   \n",
       "2997                   0                      0                   0   \n",
       "2998                   0                      0                   0   \n",
       "2999                   0                      0                   0   \n",
       "\n",
       "      director_AaronNorris  ...  ZoFlix  ZoKravitz  ZsfiaPsotta  ZuhabKhan  \\\n",
       "0                        0  ...       0          0            0          0   \n",
       "1                        0  ...       0          0            0          0   \n",
       "2                        0  ...       0          0            0          0   \n",
       "3                        0  ...       0          0            0          0   \n",
       "4                        0  ...       0          0            0          0   \n",
       "...                    ...  ...     ...        ...          ...        ...   \n",
       "2995                     0  ...       0          0            0          0   \n",
       "2996                     0  ...       0          0            0          0   \n",
       "2997                     0  ...       0          0            0          0   \n",
       "2998                     0  ...       0          0            0          0   \n",
       "2999                     0  ...       0          0            0          0   \n",
       "\n",
       "      ZuleikhaRobinson  rfanKang  lexBrendemhl  ricBruneau  rjanGamst  \\\n",
       "0                    0         0             0           0          0   \n",
       "1                    0         0             0           0          0   \n",
       "2                    0         0             0           0          0   \n",
       "3                    0         0             0           0          0   \n",
       "4                    0         0             0           0          0   \n",
       "...                ...       ...           ...         ...        ...   \n",
       "2995                 0         0             0           0          0   \n",
       "2996                 0         0             0           0          0   \n",
       "2997                 0         0             0           0          0   \n",
       "2998                 0         0             0           0          0   \n",
       "2999                 0         0             0           0          0   \n",
       "\n",
       "      ahanGkbakar  \n",
       "0               0  \n",
       "1               0  \n",
       "2               0  \n",
       "3               0  \n",
       "4               0  \n",
       "...           ...  \n",
       "2995            0  \n",
       "2996            0  \n",
       "2997            0  \n",
       "2998            0  \n",
       "2999            0  \n",
       "\n",
       "[2998 rows x 9236 columns]"
      ]
     },
     "execution_count": 41,
     "metadata": {},
     "output_type": "execute_result"
    }
   ],
   "source": [
    "print(df.columns[df.columns == ''])\n",
    "df.loc[:,df.columns!='']\n"
   ]
  },
  {
   "cell_type": "code",
   "execution_count": 42,
   "id": "abe21c31",
   "metadata": {
    "id": "abe21c31"
   },
   "outputs": [],
   "source": [
    "df.columns = df.columns.str.strip()"
   ]
  },
  {
   "cell_type": "markdown",
   "id": "JvICP9469lq6",
   "metadata": {
    "id": "JvICP9469lq6"
   },
   "source": []
  },
  {
   "cell_type": "code",
   "execution_count": 43,
   "id": "147591ac",
   "metadata": {
    "id": "147591ac"
   },
   "outputs": [],
   "source": [
    "X = df.drop(columns=[\"revenue\"])\n",
    "y=df['revenue']"
   ]
  },
  {
   "cell_type": "code",
   "execution_count": 44,
   "id": "37142b30",
   "metadata": {
    "id": "37142b30"
   },
   "outputs": [],
   "source": [
    "X_train,X_test,y_train,y_test=train_test_split(X,y,test_size=0.3, random_state=42)"
   ]
  },
  {
   "cell_type": "code",
   "execution_count": 45,
   "id": "e629f3b3",
   "metadata": {
    "id": "e629f3b3"
   },
   "outputs": [],
   "source": [
    "dtrain = xgb.DMatrix(data=X_train.values, label=y_train.values)\n",
    "dtest = xgb.DMatrix(data=X_test.values, label=y_test.values)"
   ]
  },
  {
   "cell_type": "code",
   "execution_count": 46,
   "id": "b3bea13c",
   "metadata": {
    "id": "b3bea13c"
   },
   "outputs": [],
   "source": [
    "params = {\n",
    "    'objective': 'reg:squarederror',\n",
    "    'learning_rate': 0.1,\n",
    "    'max_depth': 6,\n",
    "    'min_child_weight': 1,\n",
    "    'subsample': 0.8,\n",
    "    'colsample_bytree': 0.8,\n",
    "    'gamma': 0,\n",
    "    'seed': 42\n",
    "}"
   ]
  },
  {
   "cell_type": "code",
   "execution_count": null,
   "id": "a31d4994",
   "metadata": {
    "colab": {
     "base_uri": "https://localhost:8080/"
    },
    "id": "a31d4994",
    "outputId": "752b47d2-9e96-4dec-bb92-6859060e13c4"
   },
   "outputs": [],
   "source": [
    "cv_results = xgb.cv(params, dtrain, num_boost_round=1000, nfold=5, metrics='rmse', as_pandas=True, seed=42)\n",
    "model = xgb.train(params, dtrain, num_boost_round=1000, evals=[(dtrain, 'train'), (dtest, 'test')], early_stopping_rounds=10)\n",
    "\n"
   ]
  },
  {
   "cell_type": "markdown",
   "id": "f825ab66",
   "metadata": {
    "id": "f825ab66"
   },
   "source": [
    "here we can  say that model is performing good from train and trest rmse ,, both are decreasing  until 37 iterations, then the model starts to overfit from there ."
   ]
  },
  {
   "cell_type": "code",
   "execution_count": 47,
   "id": "5b23c50d",
   "metadata": {
    "id": "5b23c50d"
   },
   "outputs": [],
   "source": [
    "y_pred = model.predict(dtest)"
   ]
  },
  {
   "cell_type": "code",
   "execution_count": 48,
   "id": "6b6a7725",
   "metadata": {
    "colab": {
     "base_uri": "https://localhost:8080/"
    },
    "id": "6b6a7725",
    "outputId": "17cdfb42-2988-48cc-cfd5-eb38ccb9328d"
   },
   "outputs": [
    {
     "data": {
      "text/plain": [
       "0.5066900596632358"
      ]
     },
     "execution_count": 48,
     "metadata": {},
     "output_type": "execute_result"
    }
   ],
   "source": [
    "r2 = r2_score(y_test, y_pred)\n",
    "r2"
   ]
  },
  {
   "cell_type": "code",
   "execution_count": 49,
   "id": "a2f5928a",
   "metadata": {
    "colab": {
     "base_uri": "https://localhost:8080/"
    },
    "id": "a2f5928a",
    "outputId": "97e26c2f-0a1e-4841-85c8-e6408315ded8"
   },
   "outputs": [
    {
     "name": "stdout",
     "output_type": "stream",
     "text": [
      "18.382792\n"
     ]
    }
   ],
   "source": [
    "print(y_pred[0])\n"
   ]
  },
  {
   "cell_type": "code",
   "execution_count": 50,
   "id": "IWy61lqixfh5",
   "metadata": {
    "colab": {
     "base_uri": "https://localhost:8080/",
     "height": 472
    },
    "id": "IWy61lqixfh5",
    "outputId": "de46d316-0844-4d39-d906-072fb7a5fecc"
   },
   "outputs": [
    {
     "data": {
      "image/png": "[encoded data removed]",
      "text/plain": [
       "<Figure size 640x480 with 1 Axes>"
      ]
     },
     "metadata": {},
     "output_type": "display_data"
    }
   ],
   "source": [
    "plt.scatter(y_test, y_pred)\n",
    "plt.xlabel(\"Actual Revenue\")\n",
    "plt.ylabel(\"Predicted Revenue\")\n",
    "plt.title(\"Actual vs Predicted Revenue\")\n",
    "plt.plot([y_test.min(), y_test.max()], [y_test.min(), y_test.max()], 'k--')\n",
    "plt.show()"
   ]
  },
  {
   "cell_type": "markdown",
   "id": "5a07c544",
   "metadata": {
    "id": "5a07c544"
   },
   "source": [
    "as we can see from the plot, the model is performing good,, as most of the prediction are cluster around the line..there are very few prediction which were predicted poorly ."
   ]
  },
  {
   "cell_type": "code",
   "execution_count": 51,
   "id": "JDcZLvZBJSQC",
   "metadata": {
    "colab": {
     "base_uri": "https://localhost:8080/"
    },
    "id": "JDcZLvZBJSQC",
    "outputId": "7c7e4e5a-303e-4596-a8f4-8906d82407dc"
   },
   "outputs": [
    {
     "name": "stdout",
     "output_type": "stream",
     "text": [
      "budget          float64\n",
      "popularity      float64\n",
      "runtime         float64\n",
      "status            int64\n",
      "year            float64\n",
      "                 ...   \n",
      "                  int64\n",
      "lexBrendemhl      int64\n",
      "ricBruneau        int64\n",
      "rjanGamst         int64\n",
      "ahanGkbakar       int64\n",
      "Length: 9244, dtype: object\n",
      "858     13.232116\n",
      "1011    17.539047\n",
      "48      13.390789\n",
      "719     12.154785\n",
      "1488    16.137737\n",
      "          ...    \n",
      "1639    18.175389\n",
      "1095    19.679693\n",
      "1130    18.657628\n",
      "1294    16.862366\n",
      "860     16.508967\n",
      "Name: revenue, Length: 2098, dtype: float64\n"
     ]
    }
   ],
   "source": [
    "print(X_train.dtypes)\n",
    "print(y_train)\n"
   ]
  },
  {
   "cell_type": "code",
   "execution_count": 52,
   "id": "zJVBoNRQR55a",
   "metadata": {
    "id": "zJVBoNRQR55a"
   },
   "outputs": [],
   "source": [
    "\n",
    "X_train_xbg = X_train.values\n"
   ]
  },
  {
   "cell_type": "code",
   "execution_count": 53,
   "id": "6dr0Jn_rHWcy",
   "metadata": {
    "colab": {
     "base_uri": "https://localhost:8080/",
     "height": 51
    },
    "id": "6dr0Jn_rHWcy",
    "outputId": "fb848a4e-d316-42a5-ff34-d11eda19eb38"
   },
   "outputs": [
    {
     "data": {
      "text/html": [
       "<style>#sk-container-id-1 {color: black;}#sk-container-id-1 pre{padding: 0;}#sk-container-id-1 div.sk-toggleable {background-color: white;}#sk-container-id-1 label.sk-toggleable__label {cursor: pointer;display: block;width: 100%;margin-bottom: 0;padding: 0.3em;box-sizing: border-box;text-align: center;}#sk-container-id-1 label.sk-toggleable__label-arrow:before {content: \"▸\";float: left;margin-right: 0.25em;color: #696969;}#sk-container-id-1 label.sk-toggleable__label-arrow:hover:before {color: black;}#sk-container-id-1 div.sk-estimator:hover label.sk-toggleable__label-arrow:before {color: black;}#sk-container-id-1 div.sk-toggleable__content {max-height: 0;max-width: 0;overflow: hidden;text-align: left;background-color: #f0f8ff;}#sk-container-id-1 div.sk-toggleable__content pre {margin: 0.2em;color: black;border-radius: 0.25em;background-color: #f0f8ff;}#sk-container-id-1 input.sk-toggleable__control:checked~div.sk-toggleable__content {max-height: 200px;max-width: 100%;overflow: auto;}#sk-container-id-1 input.sk-toggleable__control:checked~label.sk-toggleable__label-arrow:before {content: \"▾\";}#sk-container-id-1 div.sk-estimator input.sk-toggleable__control:checked~label.sk-toggleable__label {background-color: #d4ebff;}#sk-container-id-1 div.sk-label input.sk-toggleable__control:checked~label.sk-toggleable__label {background-color: #d4ebff;}#sk-container-id-1 input.sk-hidden--visually {border: 0;clip: rect(1px 1px 1px 1px);clip: rect(1px, 1px, 1px, 1px);height: 1px;margin: -1px;overflow: hidden;padding: 0;position: absolute;width: 1px;}#sk-container-id-1 div.sk-estimator {font-family: monospace;background-color: #f0f8ff;border: 1px dotted black;border-radius: 0.25em;box-sizing: border-box;margin-bottom: 0.5em;}#sk-container-id-1 div.sk-estimator:hover {background-color: #d4ebff;}#sk-container-id-1 div.sk-parallel-item::after {content: \"\";width: 100%;border-bottom: 1px solid gray;flex-grow: 1;}#sk-container-id-1 div.sk-label:hover label.sk-toggleable__label {background-color: #d4ebff;}#sk-container-id-1 div.sk-serial::before {content: \"\";position: absolute;border-left: 1px solid gray;box-sizing: border-box;top: 0;bottom: 0;left: 50%;z-index: 0;}#sk-container-id-1 div.sk-serial {display: flex;flex-direction: column;align-items: center;background-color: white;padding-right: 0.2em;padding-left: 0.2em;position: relative;}#sk-container-id-1 div.sk-item {position: relative;z-index: 1;}#sk-container-id-1 div.sk-parallel {display: flex;align-items: stretch;justify-content: center;background-color: white;position: relative;}#sk-container-id-1 div.sk-item::before, #sk-container-id-1 div.sk-parallel-item::before {content: \"\";position: absolute;border-left: 1px solid gray;box-sizing: border-box;top: 0;bottom: 0;left: 50%;z-index: -1;}#sk-container-id-1 div.sk-parallel-item {display: flex;flex-direction: column;z-index: 1;position: relative;background-color: white;}#sk-container-id-1 div.sk-parallel-item:first-child::after {align-self: flex-end;width: 50%;}#sk-container-id-1 div.sk-parallel-item:last-child::after {align-self: flex-start;width: 50%;}#sk-container-id-1 div.sk-parallel-item:only-child::after {width: 0;}#sk-container-id-1 div.sk-dashed-wrapped {border: 1px dashed gray;margin: 0 0.4em 0.5em 0.4em;box-sizing: border-box;padding-bottom: 0.4em;background-color: white;}#sk-container-id-1 div.sk-label label {font-family: monospace;font-weight: bold;display: inline-block;line-height: 1.2em;}#sk-container-id-1 div.sk-label-container {text-align: center;}#sk-container-id-1 div.sk-container {/* jupyter's `normalize.less` sets `[hidden] { display: none; }` but bootstrap.min.css set `[hidden] { display: none !important; }` so we also need the `!important` here to be able to override the default hidden behavior on the sphinx rendered scikit-learn.org. See: https://github.com/scikit-learn/scikit-learn/issues/21755 */display: inline-block !important;position: relative;}#sk-container-id-1 div.sk-text-repr-fallback {display: none;}</style><div id=\"sk-container-id-1\" class=\"sk-top-container\"><div class=\"sk-text-repr-fallback\"><pre>XGBRegressor(base_score=None, booster=None, callbacks=None,\n",
       "             colsample_bylevel=None, colsample_bynode=None,\n",
       "             colsample_bytree=None, device=None, early_stopping_rounds=None,\n",
       "             enable_categorical=False, eval_metric=None, feature_types=None,\n",
       "             gamma=None, grow_policy=None, importance_type=None,\n",
       "             interaction_constraints=None, learning_rate=None, max_bin=None,\n",
       "             max_cat_threshold=None, max_cat_to_onehot=None,\n",
       "             max_delta_step=None, max_depth=None, max_leaves=None,\n",
       "             min_child_weight=None, missing=nan, monotone_constraints=None,\n",
       "             multi_strategy=None, n_estimators=None, n_jobs=None,\n",
       "             num_parallel_tree=None, random_state=None, ...)</pre><b>In a Jupyter environment, please rerun this cell to show the HTML representation or trust the notebook. <br />On GitHub, the HTML representation is unable to render, please try loading this page with nbviewer.org.</b></div><div class=\"sk-container\" hidden><div class=\"sk-item\"><div class=\"sk-estimator sk-toggleable\"><input class=\"sk-toggleable__control sk-hidden--visually\" id=\"sk-estimator-id-1\" type=\"checkbox\" checked><label for=\"sk-estimator-id-1\" class=\"sk-toggleable__label sk-toggleable__label-arrow\">XGBRegressor</label><div class=\"sk-toggleable__content\"><pre>XGBRegressor(base_score=None, booster=None, callbacks=None,\n",
       "             colsample_bylevel=None, colsample_bynode=None,\n",
       "             colsample_bytree=None, device=None, early_stopping_rounds=None,\n",
       "             enable_categorical=False, eval_metric=None, feature_types=None,\n",
       "             gamma=None, grow_policy=None, importance_type=None,\n",
       "             interaction_constraints=None, learning_rate=None, max_bin=None,\n",
       "             max_cat_threshold=None, max_cat_to_onehot=None,\n",
       "             max_delta_step=None, max_depth=None, max_leaves=None,\n",
       "             min_child_weight=None, missing=nan, monotone_constraints=None,\n",
       "             multi_strategy=None, n_estimators=None, n_jobs=None,\n",
       "             num_parallel_tree=None, random_state=None, ...)</pre></div></div></div></div></div>"
      ],
      "text/plain": [
       "XGBRegressor(base_score=None, booster=None, callbacks=None,\n",
       "             colsample_bylevel=None, colsample_bynode=None,\n",
       "             colsample_bytree=None, device=None, early_stopping_rounds=None,\n",
       "             enable_categorical=False, eval_metric=None, feature_types=None,\n",
       "             gamma=None, grow_policy=None, importance_type=None,\n",
       "             interaction_constraints=None, learning_rate=None, max_bin=None,\n",
       "             max_cat_threshold=None, max_cat_to_onehot=None,\n",
       "             max_delta_step=None, max_depth=None, max_leaves=None,\n",
       "             min_child_weight=None, missing=nan, monotone_constraints=None,\n",
       "             multi_strategy=None, n_estimators=None, n_jobs=None,\n",
       "             num_parallel_tree=None, random_state=None, ...)"
      ]
     },
     "execution_count": 53,
     "metadata": {},
     "output_type": "execute_result"
    }
   ],
   "source": [
    "# training the model using sci kit learn api for hyperparameter tunning..\n",
    "xgb_model = xgb.XGBRegressor(objective='reg:squarederror', seed=42)\n",
    "xgb_model.fit(X_train, y_train)\n",
    "\n"
   ]
  },
  {
   "cell_type": "code",
   "execution_count": 54,
   "id": "PD-nh6hgS-EA",
   "metadata": {
    "id": "PD-nh6hgS-EA"
   },
   "outputs": [],
   "source": [
    "pred_for_train=xgb_model.predict(X_train.values)\n",
    "pred_for_test=xgb_model.predict(X_test.values)"
   ]
  },
  {
   "cell_type": "markdown",
   "id": "VtldYXAk2ZYH",
   "metadata": {
    "id": "VtldYXAk2ZYH"
   },
   "source": []
  },
  {
   "cell_type": "code",
   "execution_count": 55,
   "id": "MrdphCw7Wh3C",
   "metadata": {
    "colab": {
     "base_uri": "https://localhost:8080/"
    },
    "id": "MrdphCw7Wh3C",
    "outputId": "a74ed25d-f9a5-4a0d-9de5-a727886fdd26"
   },
   "outputs": [
    {
     "name": "stdout",
     "output_type": "stream",
     "text": [
      "rmse of training :1.1217032229856732\n",
      "rmse of test :   2.127108067953658\n"
     ]
    }
   ],
   "source": [
    "rmse_for_train=np.sqrt(mean_squared_error(y_train, pred_for_train))\n",
    "rmse_for_test=np.sqrt(mean_squared_error(y_test,pred_for_test))\n",
    "\n",
    "print(f\"rmse of training :{rmse_for_train}\")\n",
    "print(f\"rmse of test :   {rmse_for_test}\")"
   ]
  },
  {
   "cell_type": "code",
   "execution_count": 56,
   "id": "fUTvOiWVXbkS",
   "metadata": {
    "id": "fUTvOiWVXbkS"
   },
   "outputs": [],
   "source": [
    "r2_train = r2_score(y_train, pred_for_train)\n",
    "r2_test = r2_score(y_test,pred_for_test)"
   ]
  },
  {
   "cell_type": "code",
   "execution_count": 57,
   "id": "bSHqNg3PXi7q",
   "metadata": {
    "colab": {
     "base_uri": "https://localhost:8080/"
    },
    "id": "bSHqNg3PXi7q",
    "outputId": "1bee7624-299c-4cbf-e203-696d2a9d6f7f"
   },
   "outputs": [
    {
     "name": "stdout",
     "output_type": "stream",
     "text": [
      "r2 of train:0.8686267356686938\n",
      "r2 of test: 0.4873533198919483\n"
     ]
    }
   ],
   "source": [
    "print(f\"r2 of train:{r2_train}\")\n",
    "print(f\"r2 of test: {r2_test}\")"
   ]
  },
  {
   "cell_type": "code",
   "execution_count": 58,
   "id": "53757696",
   "metadata": {
    "id": "53757696"
   },
   "outputs": [],
   "source": [
    "param_grid = {\n",
    "    'learning_rate': [0.01, 0.1],\n",
    "    'max_depth': [3, 6, 10],\n",
    "    'min_child_weight': [1, 5, 10],\n",
    "    'gamma': [0, 1, 5],\n",
    "    'subsample': [0.6, 0.8, 1.0],\n",
    "    'colsample_bytree': [0.6, 0.8, 1.0],\n",
    "    'lambda': [0, 1, 10],\n",
    "    'alpha': [0, 0.5, 1],\n",
    "}"
   ]
  },
  {
   "cell_type": "code",
   "execution_count": 59,
   "id": "TEBTHGcZFUTy",
   "metadata": {
    "id": "TEBTHGcZFUTy"
   },
   "outputs": [],
   "source": [
    "GridSearch=GridSearchCV(estimator=xgb_model,param_grid=param_grid,scoring='neg_mean_squared_error',cv=3,verbose=1)"
   ]
  },
  {
   "cell_type": "code",
   "execution_count": null,
   "id": "nGeFxlmqFyMY",
   "metadata": {
    "colab": {
     "base_uri": "https://localhost:8080/"
    },
    "id": "nGeFxlmqFyMY",
    "outputId": "7721cb90-119c-43b0-abba-defda93bc197"
   },
   "outputs": [
    {
     "name": "stdout",
     "output_type": "stream",
     "text": [
      "Fitting 3 folds for each of 4374 candidates, totalling 13122 fits\n"
     ]
    }
   ],
   "source": [
    "GridSearch.fit(X_train, y_train)"
   ]
  },
  {
   "cell_type": "code",
   "execution_count": null,
   "id": "hTsZTGOWGNl1",
   "metadata": {
    "id": "hTsZTGOWGNl1"
   },
   "outputs": [],
   "source": [
    "print(\"Best parameters found: \", GridSearch.best_params_)"
   ]
  },
  {
   "cell_type": "code",
   "execution_count": null,
   "id": "LTrLD6bIK-fH",
   "metadata": {
    "id": "LTrLD6bIK-fH"
   },
   "outputs": [],
   "source": [
    "best_model = GridSearch.best_estimator_"
   ]
  },
  {
   "cell_type": "code",
   "execution_count": null,
   "id": "nHLNoa5ALB-V",
   "metadata": {
    "id": "nHLNoa5ALB-V"
   },
   "outputs": [],
   "source": [
    "y_pred = best_model.predict(X_test)"
   ]
  },
  {
   "cell_type": "code",
   "execution_count": null,
   "id": "lAAjfnbILEfY",
   "metadata": {
    "id": "lAAjfnbILEfY"
   },
   "outputs": [],
   "source": [
    "mse = mean_squared_error(y_test, y_pred)\n",
    "print(f\"Mean Squared Error: {mse}\")"
   ]
  },
  {
   "cell_type": "code",
   "execution_count": null,
   "id": "KX49QEBymvOq",
   "metadata": {
    "id": "KX49QEBymvOq"
   },
   "outputs": [],
   "source": []
  },
  {
   "cell_type": "code",
   "execution_count": null,
   "id": "dsL6OjnmScIb",
   "metadata": {
    "id": "dsL6OjnmScIb"
   },
   "outputs": [],
   "source": [
    "best_model.score(X_test,y_test)"
   ]
  },
  {
   "cell_type": "code",
   "execution_count": null,
   "id": "Qvc5jocxRvgz",
   "metadata": {
    "id": "Qvc5jocxRvgz"
   },
   "outputs": [],
   "source": [
    "with open('xgb_native_model.pkl', 'wb') as file:\n",
    "    pickle.dump(xgb_model, file)\n",
    "\n",
    "with open('xgb_best_model.pkl', 'wb') as file:\n",
    "    pickle.dump(best_model, file)"
   ]
  },
  {
   "cell_type": "code",
   "execution_count": null,
   "id": "Lc-Yy51Bq3Ip",
   "metadata": {
    "id": "Lc-Yy51Bq3Ip"
   },
   "outputs": [],
   "source": [
    "with open('xgb_best_model.pkl', 'rb') as file:\n",
    "    loaded_best_model = pickle.load(file)"
   ]
  },
  {
   "cell_type": "code",
   "execution_count": null,
   "id": "nG_NNvxcy8Sv",
   "metadata": {
    "id": "nG_NNvxcy8Sv"
   },
   "outputs": [],
   "source": [
    "def get_user_input():\n",
    "    user_input = {}\n",
    "    user_input['budget'] = float(input(\"Enter the budget: \"))\n",
    "    user_input['popularity'] = float(input(\"Enter the popularity: \"))\n",
    "    user_input['runtime'] = float(input(\"Enter the runtime: \"))\n",
    "    user_input['status'] = input(\"Enter the status (e.g., 'Released', 'Post Production'): \")\n",
    "    user_input['year'] = int(input(\"Enter the release year: \"))\n",
    "    user_input['genres'] = input(\"Enter genres (comma separated): \").split(',')\n",
    "    user_input['Keywords'] = input(\"Enter keywords (comma separated): \").split(',')\n",
    "    user_input['cast'] = input(\"Enter cast (comma separated): \").split(',')\n",
    "    user_input['director'] = input(\"Enter the director's name: \")\n",
    "\n",
    "    return user_input"
   ]
  },
  {
   "cell_type": "code",
   "execution_count": null,
   "id": "i2H15ouTzHNq",
   "metadata": {
    "id": "i2H15ouTzHNq"
   },
   "outputs": [],
   "source": [
    "def preprocess_input(user_input):\n",
    "    df_input = pd.DataFrame([user_input])\n",
    "\n",
    "    # Convert budget and revenue using log1p\n",
    "    df_input['budget'] = np.log1p(df_input['budget'])\n",
    "\n",
    "    # Scale numerical features (budget, runtime, popularity, year)\n",
    "    scaler = StandardScaler()\n",
    "    df_input[['budget', 'runtime', 'popularity', 'year']] = scaler.fit_transform(df_input[['budget', 'runtime', 'popularity', 'year']])\n",
    "\n",
    "    # Encode the 'status' using LabelEncoder\n",
    "    le = LabelEncoder()\n",
    "    df_input['status'] = le.fit_transform(df_input['status'].astype('str'))\n",
    "\n",
    "    # One-hot encode genres, keywords, cast, and director\n",
    "    mlb_genres = MultiLabelBinarizer()\n",
    "    mlb_keywords = MultiLabelBinarizer()\n",
    "    mlb_cast = MultiLabelBinarizer()\n",
    "\n",
    "    df_genres = pd.DataFrame(mlb_genres.fit_transform(df_input['genres']), columns=mlb_genres.classes_)\n",
    "    df_keywords = pd.DataFrame(mlb_keywords.fit_transform(df_input['Keywords']), columns=mlb_keywords.classes_)\n",
    "    df_cast = pd.DataFrame(mlb_cast.fit_transform(df_input['cast']), columns=mlb_cast.classes_)\n",
    "\n",
    "    # Combine with the rest of the data\n",
    "    df_input = pd.concat([df_input, df_genres, df_keywords, df_cast], axis=1)\n",
    "\n",
    "    # Ensure the columns match the model training data\n",
    "    required_columns = loaded_best_model.feature_names_in_\n",
    "    for col in required_columns:\n",
    "        if col not in df_input.columns:\n",
    "            df_input[col] = 0\n",
    "\n",
    "    df_input = df_input[required_columns]\n",
    "    return df_input"
   ]
  },
  {
   "cell_type": "code",
   "execution_count": null,
   "id": "WzvRSukGz-j5",
   "metadata": {
    "id": "WzvRSukGz-j5"
   },
   "outputs": [],
   "source": [
    "def predict_revenue(processed_input):\n",
    "    prediction = loaded_best_model.predict(processed_input)\n",
    "    predicted_revenue = np.expm1(prediction)  # Reverse the log1p transformation\n",
    "    return predicted_revenue[0]"
   ]
  },
  {
   "cell_type": "code",
   "execution_count": null,
   "id": "hDXoUH_i0CVI",
   "metadata": {
    "id": "hDXoUH_i0CVI"
   },
   "outputs": [],
   "source": [
    "user_input = get_user_input()\n",
    "processed_input = preprocess_input(user_input)\n",
    "predicted_revenue = predict_revenue(processed_input)\n",
    "print(f\"Predicted Revenue: ${predicted_revenue:,.2f}\")"
   ]
  },
  {
   "cell_type": "code",
   "execution_count": null,
   "id": "-iNOF99Wq6xR",
   "metadata": {
    "id": "-iNOF99Wq6xR"
   },
   "outputs": [],
   "source": []
  }
 ],
 "metadata": {
  "colab": {
   "provenance": []
  },
  "kernelspec": {
   "display_name": "Python 3 (ipykernel)",
   "language": "python",
   "name": "python3"
  },
  "language_info": {
   "codemirror_mode": {
    "name": "ipython",
    "version": 3
   },
   "file_extension": ".py",
   "mimetype": "text/x-python",
   "name": "python",
   "nbconvert_exporter": "python",
   "pygments_lexer": "ipython3",
   "version": "3.9.13"
  }
 },
 "nbformat": 4,
 "nbformat_minor": 5
}
