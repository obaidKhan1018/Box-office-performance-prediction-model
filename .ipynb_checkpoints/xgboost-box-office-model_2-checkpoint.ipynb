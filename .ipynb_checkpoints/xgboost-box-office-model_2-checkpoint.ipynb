{
 "cells": [
  {
   "cell_type": "markdown",
   "id": "9e81e2b6",
   "metadata": {
    "id": "7f6d55d3"
   },
   "source": [
    "# Importing Libraries"
   ]
  },
  {
   "cell_type": "code",
   "execution_count": 1,
   "id": "f18f514f",
   "metadata": {
    "execution": {
     "iopub.execute_input": "2024-09-23T16:10:32.634744Z",
     "iopub.status.busy": "2024-09-23T16:10:32.634452Z",
     "iopub.status.idle": "2024-09-23T16:10:34.633297Z",
     "shell.execute_reply": "2024-09-23T16:10:34.632363Z",
     "shell.execute_reply.started": "2024-09-23T16:10:32.634711Z"
    },
    "id": "b8e010ec"
   },
   "outputs": [],
   "source": [
    "import numpy as np\n",
    "import pandas as pd\n",
    "import seaborn as sns\n",
    "import matplotlib.pyplot as plt\n",
    "from sklearn.preprocessing import LabelEncoder,OneHotEncoder,StandardScaler,FunctionTransformer,MultiLabelBinarizer\n",
    "from sklearn.pipeline import Pipeline\n",
    "from sklearn.compose import ColumnTransformer\n",
    "import warnings\n",
    "warnings.filterwarnings('ignore')\n",
    "from wordcloud import WordCloud\n",
    "import xgboost as xgb\n",
    "from sklearn.metrics import mean_squared_error, r2_score\n",
    "import ast\n",
    "from sklearn.model_selection import train_test_split,GridSearchCV\n",
    "import pickle"
   ]
  },
  {
   "cell_type": "code",
   "execution_count": 2,
   "id": "f69e06f1",
   "metadata": {
    "execution": {
     "iopub.execute_input": "2024-09-23T16:10:53.775053Z",
     "iopub.status.busy": "2024-09-23T16:10:53.774049Z",
     "iopub.status.idle": "2024-09-23T16:10:54.609493Z",
     "shell.execute_reply": "2024-09-23T16:10:54.608601Z",
     "shell.execute_reply.started": "2024-09-23T16:10:53.775009Z"
    },
    "id": "dbccdd86"
   },
   "outputs": [],
   "source": [
    "df = pd.read_csv('/kaggle/input/box-office-dataset/train.csv')"
   ]
  },
  {
   "cell_type": "markdown",
   "id": "9139bdd8",
   "metadata": {
    "id": "0cef2c64"
   },
   "source": [
    "# Data Preprocessing"
   ]
  },
  {
   "cell_type": "code",
   "execution_count": 3,
   "id": "9b0c7bb7",
   "metadata": {
    "colab": {
     "base_uri": "https://localhost:8080/",
     "height": 672
    },
    "execution": {
     "iopub.execute_input": "2024-09-23T16:10:56.204381Z",
     "iopub.status.busy": "2024-09-23T16:10:56.203627Z",
     "iopub.status.idle": "2024-09-23T16:10:56.244173Z",
     "shell.execute_reply": "2024-09-23T16:10:56.243159Z",
     "shell.execute_reply.started": "2024-09-23T16:10:56.204338Z"
    },
    "id": "02f948df",
    "outputId": "2db6b840-21ae-4cf4-dd36-8110c9b64591"
   },
   "outputs": [
    {
     "data": {
      "text/html": [
       "<div>\n",
       "<style scoped>\n",
       "    .dataframe tbody tr th:only-of-type {\n",
       "        vertical-align: middle;\n",
       "    }\n",
       "\n",
       "    .dataframe tbody tr th {\n",
       "        vertical-align: top;\n",
       "    }\n",
       "\n",
       "    .dataframe thead th {\n",
       "        text-align: right;\n",
       "    }\n",
       "</style>\n",
       "<table border=\"1\" class=\"dataframe\">\n",
       "  <thead>\n",
       "    <tr style=\"text-align: right;\">\n",
       "      <th></th>\n",
       "      <th>id</th>\n",
       "      <th>belongs_to_collection</th>\n",
       "      <th>budget</th>\n",
       "      <th>genres</th>\n",
       "      <th>homepage</th>\n",
       "      <th>imdb_id</th>\n",
       "      <th>original_language</th>\n",
       "      <th>original_title</th>\n",
       "      <th>overview</th>\n",
       "      <th>popularity</th>\n",
       "      <th>...</th>\n",
       "      <th>release_date</th>\n",
       "      <th>runtime</th>\n",
       "      <th>spoken_languages</th>\n",
       "      <th>status</th>\n",
       "      <th>tagline</th>\n",
       "      <th>title</th>\n",
       "      <th>Keywords</th>\n",
       "      <th>cast</th>\n",
       "      <th>crew</th>\n",
       "      <th>revenue</th>\n",
       "    </tr>\n",
       "  </thead>\n",
       "  <tbody>\n",
       "    <tr>\n",
       "      <th>0</th>\n",
       "      <td>1</td>\n",
       "      <td>[{'id': 313576, 'name': 'Hot Tub Time Machine ...</td>\n",
       "      <td>14000000</td>\n",
       "      <td>[{'id': 35, 'name': 'Comedy'}]</td>\n",
       "      <td>NaN</td>\n",
       "      <td>tt2637294</td>\n",
       "      <td>en</td>\n",
       "      <td>Hot Tub Time Machine 2</td>\n",
       "      <td>When Lou, who has become the \"father of the In...</td>\n",
       "      <td>6.575393</td>\n",
       "      <td>...</td>\n",
       "      <td>2/20/15</td>\n",
       "      <td>93.0</td>\n",
       "      <td>[{'iso_639_1': 'en', 'name': 'English'}]</td>\n",
       "      <td>Released</td>\n",
       "      <td>The Laws of Space and Time are About to be Vio...</td>\n",
       "      <td>Hot Tub Time Machine 2</td>\n",
       "      <td>[{'id': 4379, 'name': 'time travel'}, {'id': 9...</td>\n",
       "      <td>[{'cast_id': 4, 'character': 'Lou', 'credit_id...</td>\n",
       "      <td>[{'credit_id': '59ac067c92514107af02c8c8', 'de...</td>\n",
       "      <td>12314651</td>\n",
       "    </tr>\n",
       "    <tr>\n",
       "      <th>1</th>\n",
       "      <td>2</td>\n",
       "      <td>[{'id': 107674, 'name': 'The Princess Diaries ...</td>\n",
       "      <td>40000000</td>\n",
       "      <td>[{'id': 35, 'name': 'Comedy'}, {'id': 18, 'nam...</td>\n",
       "      <td>NaN</td>\n",
       "      <td>tt0368933</td>\n",
       "      <td>en</td>\n",
       "      <td>The Princess Diaries 2: Royal Engagement</td>\n",
       "      <td>Mia Thermopolis is now a college graduate and ...</td>\n",
       "      <td>8.248895</td>\n",
       "      <td>...</td>\n",
       "      <td>8/6/04</td>\n",
       "      <td>113.0</td>\n",
       "      <td>[{'iso_639_1': 'en', 'name': 'English'}]</td>\n",
       "      <td>Released</td>\n",
       "      <td>It can take a lifetime to find true love; she'...</td>\n",
       "      <td>The Princess Diaries 2: Royal Engagement</td>\n",
       "      <td>[{'id': 2505, 'name': 'coronation'}, {'id': 42...</td>\n",
       "      <td>[{'cast_id': 1, 'character': 'Mia Thermopolis'...</td>\n",
       "      <td>[{'credit_id': '52fe43fe9251416c7502563d', 'de...</td>\n",
       "      <td>95149435</td>\n",
       "    </tr>\n",
       "    <tr>\n",
       "      <th>2</th>\n",
       "      <td>3</td>\n",
       "      <td>NaN</td>\n",
       "      <td>3300000</td>\n",
       "      <td>[{'id': 18, 'name': 'Drama'}]</td>\n",
       "      <td>http://sonyclassics.com/whiplash/</td>\n",
       "      <td>tt2582802</td>\n",
       "      <td>en</td>\n",
       "      <td>Whiplash</td>\n",
       "      <td>Under the direction of a ruthless instructor, ...</td>\n",
       "      <td>64.299990</td>\n",
       "      <td>...</td>\n",
       "      <td>10/10/14</td>\n",
       "      <td>105.0</td>\n",
       "      <td>[{'iso_639_1': 'en', 'name': 'English'}]</td>\n",
       "      <td>Released</td>\n",
       "      <td>The road to greatness can take you to the edge.</td>\n",
       "      <td>Whiplash</td>\n",
       "      <td>[{'id': 1416, 'name': 'jazz'}, {'id': 1523, 'n...</td>\n",
       "      <td>[{'cast_id': 5, 'character': 'Andrew Neimann',...</td>\n",
       "      <td>[{'credit_id': '54d5356ec3a3683ba0000039', 'de...</td>\n",
       "      <td>13092000</td>\n",
       "    </tr>\n",
       "    <tr>\n",
       "      <th>3</th>\n",
       "      <td>4</td>\n",
       "      <td>NaN</td>\n",
       "      <td>1200000</td>\n",
       "      <td>[{'id': 53, 'name': 'Thriller'}, {'id': 18, 'n...</td>\n",
       "      <td>http://kahaanithefilm.com/</td>\n",
       "      <td>tt1821480</td>\n",
       "      <td>hi</td>\n",
       "      <td>Kahaani</td>\n",
       "      <td>Vidya Bagchi (Vidya Balan) arrives in Kolkata ...</td>\n",
       "      <td>3.174936</td>\n",
       "      <td>...</td>\n",
       "      <td>3/9/12</td>\n",
       "      <td>122.0</td>\n",
       "      <td>[{'iso_639_1': 'en', 'name': 'English'}, {'iso...</td>\n",
       "      <td>Released</td>\n",
       "      <td>NaN</td>\n",
       "      <td>Kahaani</td>\n",
       "      <td>[{'id': 10092, 'name': 'mystery'}, {'id': 1054...</td>\n",
       "      <td>[{'cast_id': 1, 'character': 'Vidya Bagchi', '...</td>\n",
       "      <td>[{'credit_id': '52fe48779251416c9108d6eb', 'de...</td>\n",
       "      <td>16000000</td>\n",
       "    </tr>\n",
       "    <tr>\n",
       "      <th>4</th>\n",
       "      <td>5</td>\n",
       "      <td>NaN</td>\n",
       "      <td>0</td>\n",
       "      <td>[{'id': 28, 'name': 'Action'}, {'id': 53, 'nam...</td>\n",
       "      <td>NaN</td>\n",
       "      <td>tt1380152</td>\n",
       "      <td>ko</td>\n",
       "      <td>마린보이</td>\n",
       "      <td>Marine Boy is the story of a former national s...</td>\n",
       "      <td>1.148070</td>\n",
       "      <td>...</td>\n",
       "      <td>2/5/09</td>\n",
       "      <td>118.0</td>\n",
       "      <td>[{'iso_639_1': 'ko', 'name': '한국어/조선말'}]</td>\n",
       "      <td>Released</td>\n",
       "      <td>NaN</td>\n",
       "      <td>Marine Boy</td>\n",
       "      <td>NaN</td>\n",
       "      <td>[{'cast_id': 3, 'character': 'Chun-soo', 'cred...</td>\n",
       "      <td>[{'credit_id': '52fe464b9251416c75073b43', 'de...</td>\n",
       "      <td>3923970</td>\n",
       "    </tr>\n",
       "  </tbody>\n",
       "</table>\n",
       "<p>5 rows × 23 columns</p>\n",
       "</div>"
      ],
      "text/plain": [
       "   id                              belongs_to_collection    budget  \\\n",
       "0   1  [{'id': 313576, 'name': 'Hot Tub Time Machine ...  14000000   \n",
       "1   2  [{'id': 107674, 'name': 'The Princess Diaries ...  40000000   \n",
       "2   3                                                NaN   3300000   \n",
       "3   4                                                NaN   1200000   \n",
       "4   5                                                NaN         0   \n",
       "\n",
       "                                              genres  \\\n",
       "0                     [{'id': 35, 'name': 'Comedy'}]   \n",
       "1  [{'id': 35, 'name': 'Comedy'}, {'id': 18, 'nam...   \n",
       "2                      [{'id': 18, 'name': 'Drama'}]   \n",
       "3  [{'id': 53, 'name': 'Thriller'}, {'id': 18, 'n...   \n",
       "4  [{'id': 28, 'name': 'Action'}, {'id': 53, 'nam...   \n",
       "\n",
       "                            homepage    imdb_id original_language  \\\n",
       "0                                NaN  tt2637294                en   \n",
       "1                                NaN  tt0368933                en   \n",
       "2  http://sonyclassics.com/whiplash/  tt2582802                en   \n",
       "3         http://kahaanithefilm.com/  tt1821480                hi   \n",
       "4                                NaN  tt1380152                ko   \n",
       "\n",
       "                             original_title  \\\n",
       "0                    Hot Tub Time Machine 2   \n",
       "1  The Princess Diaries 2: Royal Engagement   \n",
       "2                                  Whiplash   \n",
       "3                                   Kahaani   \n",
       "4                                      마린보이   \n",
       "\n",
       "                                            overview  popularity  ...  \\\n",
       "0  When Lou, who has become the \"father of the In...    6.575393  ...   \n",
       "1  Mia Thermopolis is now a college graduate and ...    8.248895  ...   \n",
       "2  Under the direction of a ruthless instructor, ...   64.299990  ...   \n",
       "3  Vidya Bagchi (Vidya Balan) arrives in Kolkata ...    3.174936  ...   \n",
       "4  Marine Boy is the story of a former national s...    1.148070  ...   \n",
       "\n",
       "  release_date runtime                                   spoken_languages  \\\n",
       "0      2/20/15    93.0           [{'iso_639_1': 'en', 'name': 'English'}]   \n",
       "1       8/6/04   113.0           [{'iso_639_1': 'en', 'name': 'English'}]   \n",
       "2     10/10/14   105.0           [{'iso_639_1': 'en', 'name': 'English'}]   \n",
       "3       3/9/12   122.0  [{'iso_639_1': 'en', 'name': 'English'}, {'iso...   \n",
       "4       2/5/09   118.0           [{'iso_639_1': 'ko', 'name': '한국어/조선말'}]   \n",
       "\n",
       "     status                                            tagline  \\\n",
       "0  Released  The Laws of Space and Time are About to be Vio...   \n",
       "1  Released  It can take a lifetime to find true love; she'...   \n",
       "2  Released    The road to greatness can take you to the edge.   \n",
       "3  Released                                                NaN   \n",
       "4  Released                                                NaN   \n",
       "\n",
       "                                      title  \\\n",
       "0                    Hot Tub Time Machine 2   \n",
       "1  The Princess Diaries 2: Royal Engagement   \n",
       "2                                  Whiplash   \n",
       "3                                   Kahaani   \n",
       "4                                Marine Boy   \n",
       "\n",
       "                                            Keywords  \\\n",
       "0  [{'id': 4379, 'name': 'time travel'}, {'id': 9...   \n",
       "1  [{'id': 2505, 'name': 'coronation'}, {'id': 42...   \n",
       "2  [{'id': 1416, 'name': 'jazz'}, {'id': 1523, 'n...   \n",
       "3  [{'id': 10092, 'name': 'mystery'}, {'id': 1054...   \n",
       "4                                                NaN   \n",
       "\n",
       "                                                cast  \\\n",
       "0  [{'cast_id': 4, 'character': 'Lou', 'credit_id...   \n",
       "1  [{'cast_id': 1, 'character': 'Mia Thermopolis'...   \n",
       "2  [{'cast_id': 5, 'character': 'Andrew Neimann',...   \n",
       "3  [{'cast_id': 1, 'character': 'Vidya Bagchi', '...   \n",
       "4  [{'cast_id': 3, 'character': 'Chun-soo', 'cred...   \n",
       "\n",
       "                                                crew   revenue  \n",
       "0  [{'credit_id': '59ac067c92514107af02c8c8', 'de...  12314651  \n",
       "1  [{'credit_id': '52fe43fe9251416c7502563d', 'de...  95149435  \n",
       "2  [{'credit_id': '54d5356ec3a3683ba0000039', 'de...  13092000  \n",
       "3  [{'credit_id': '52fe48779251416c9108d6eb', 'de...  16000000  \n",
       "4  [{'credit_id': '52fe464b9251416c75073b43', 'de...   3923970  \n",
       "\n",
       "[5 rows x 23 columns]"
      ]
     },
     "execution_count": 3,
     "metadata": {},
     "output_type": "execute_result"
    }
   ],
   "source": [
    "df.head()"
   ]
  },
  {
   "cell_type": "code",
   "execution_count": 4,
   "id": "d91c5775",
   "metadata": {
    "colab": {
     "base_uri": "https://localhost:8080/"
    },
    "execution": {
     "iopub.execute_input": "2024-09-23T16:10:57.388409Z",
     "iopub.status.busy": "2024-09-23T16:10:57.387777Z",
     "iopub.status.idle": "2024-09-23T16:10:57.412803Z",
     "shell.execute_reply": "2024-09-23T16:10:57.411877Z",
     "shell.execute_reply.started": "2024-09-23T16:10:57.388370Z"
    },
    "id": "c492e9a8",
    "outputId": "762b23ff-e75d-4630-f421-7ddad7e50004"
   },
   "outputs": [
    {
     "name": "stdout",
     "output_type": "stream",
     "text": [
      "<class 'pandas.core.frame.DataFrame'>\n",
      "RangeIndex: 3000 entries, 0 to 2999\n",
      "Data columns (total 23 columns):\n",
      " #   Column                 Non-Null Count  Dtype  \n",
      "---  ------                 --------------  -----  \n",
      " 0   id                     3000 non-null   int64  \n",
      " 1   belongs_to_collection  604 non-null    object \n",
      " 2   budget                 3000 non-null   int64  \n",
      " 3   genres                 2993 non-null   object \n",
      " 4   homepage               946 non-null    object \n",
      " 5   imdb_id                3000 non-null   object \n",
      " 6   original_language      3000 non-null   object \n",
      " 7   original_title         3000 non-null   object \n",
      " 8   overview               2992 non-null   object \n",
      " 9   popularity             3000 non-null   float64\n",
      " 10  poster_path            2999 non-null   object \n",
      " 11  production_companies   2844 non-null   object \n",
      " 12  production_countries   2945 non-null   object \n",
      " 13  release_date           3000 non-null   object \n",
      " 14  runtime                2998 non-null   float64\n",
      " 15  spoken_languages       2980 non-null   object \n",
      " 16  status                 3000 non-null   object \n",
      " 17  tagline                2403 non-null   object \n",
      " 18  title                  3000 non-null   object \n",
      " 19  Keywords               2724 non-null   object \n",
      " 20  cast                   2987 non-null   object \n",
      " 21  crew                   2984 non-null   object \n",
      " 22  revenue                3000 non-null   int64  \n",
      "dtypes: float64(2), int64(3), object(18)\n",
      "memory usage: 539.2+ KB\n"
     ]
    }
   ],
   "source": [
    "df.info()"
   ]
  },
  {
   "cell_type": "code",
   "execution_count": 5,
   "id": "9dbdcb79",
   "metadata": {
    "colab": {
     "base_uri": "https://localhost:8080/",
     "height": 300
    },
    "execution": {
     "iopub.execute_input": "2024-09-23T16:10:58.168029Z",
     "iopub.status.busy": "2024-09-23T16:10:58.167295Z",
     "iopub.status.idle": "2024-09-23T16:10:58.194649Z",
     "shell.execute_reply": "2024-09-23T16:10:58.193811Z",
     "shell.execute_reply.started": "2024-09-23T16:10:58.167989Z"
    },
    "id": "0a48a484",
    "outputId": "81628a0c-ac27-44aa-a1d6-c17bbfe62588"
   },
   "outputs": [
    {
     "data": {
      "text/html": [
       "<div>\n",
       "<style scoped>\n",
       "    .dataframe tbody tr th:only-of-type {\n",
       "        vertical-align: middle;\n",
       "    }\n",
       "\n",
       "    .dataframe tbody tr th {\n",
       "        vertical-align: top;\n",
       "    }\n",
       "\n",
       "    .dataframe thead th {\n",
       "        text-align: right;\n",
       "    }\n",
       "</style>\n",
       "<table border=\"1\" class=\"dataframe\">\n",
       "  <thead>\n",
       "    <tr style=\"text-align: right;\">\n",
       "      <th></th>\n",
       "      <th>id</th>\n",
       "      <th>budget</th>\n",
       "      <th>popularity</th>\n",
       "      <th>runtime</th>\n",
       "      <th>revenue</th>\n",
       "    </tr>\n",
       "  </thead>\n",
       "  <tbody>\n",
       "    <tr>\n",
       "      <th>count</th>\n",
       "      <td>3000.000000</td>\n",
       "      <td>3.000000e+03</td>\n",
       "      <td>3000.000000</td>\n",
       "      <td>2998.000000</td>\n",
       "      <td>3.000000e+03</td>\n",
       "    </tr>\n",
       "    <tr>\n",
       "      <th>mean</th>\n",
       "      <td>1500.500000</td>\n",
       "      <td>2.253133e+07</td>\n",
       "      <td>8.463274</td>\n",
       "      <td>107.856571</td>\n",
       "      <td>6.672585e+07</td>\n",
       "    </tr>\n",
       "    <tr>\n",
       "      <th>std</th>\n",
       "      <td>866.169729</td>\n",
       "      <td>3.702609e+07</td>\n",
       "      <td>12.104000</td>\n",
       "      <td>22.086434</td>\n",
       "      <td>1.375323e+08</td>\n",
       "    </tr>\n",
       "    <tr>\n",
       "      <th>min</th>\n",
       "      <td>1.000000</td>\n",
       "      <td>0.000000e+00</td>\n",
       "      <td>0.000001</td>\n",
       "      <td>0.000000</td>\n",
       "      <td>1.000000e+00</td>\n",
       "    </tr>\n",
       "    <tr>\n",
       "      <th>25%</th>\n",
       "      <td>750.750000</td>\n",
       "      <td>0.000000e+00</td>\n",
       "      <td>4.018053</td>\n",
       "      <td>94.000000</td>\n",
       "      <td>2.379808e+06</td>\n",
       "    </tr>\n",
       "    <tr>\n",
       "      <th>50%</th>\n",
       "      <td>1500.500000</td>\n",
       "      <td>8.000000e+06</td>\n",
       "      <td>7.374861</td>\n",
       "      <td>104.000000</td>\n",
       "      <td>1.680707e+07</td>\n",
       "    </tr>\n",
       "    <tr>\n",
       "      <th>75%</th>\n",
       "      <td>2250.250000</td>\n",
       "      <td>2.900000e+07</td>\n",
       "      <td>10.890983</td>\n",
       "      <td>118.000000</td>\n",
       "      <td>6.891920e+07</td>\n",
       "    </tr>\n",
       "    <tr>\n",
       "      <th>max</th>\n",
       "      <td>3000.000000</td>\n",
       "      <td>3.800000e+08</td>\n",
       "      <td>294.337037</td>\n",
       "      <td>338.000000</td>\n",
       "      <td>1.519558e+09</td>\n",
       "    </tr>\n",
       "  </tbody>\n",
       "</table>\n",
       "</div>"
      ],
      "text/plain": [
       "                id        budget   popularity      runtime       revenue\n",
       "count  3000.000000  3.000000e+03  3000.000000  2998.000000  3.000000e+03\n",
       "mean   1500.500000  2.253133e+07     8.463274   107.856571  6.672585e+07\n",
       "std     866.169729  3.702609e+07    12.104000    22.086434  1.375323e+08\n",
       "min       1.000000  0.000000e+00     0.000001     0.000000  1.000000e+00\n",
       "25%     750.750000  0.000000e+00     4.018053    94.000000  2.379808e+06\n",
       "50%    1500.500000  8.000000e+06     7.374861   104.000000  1.680707e+07\n",
       "75%    2250.250000  2.900000e+07    10.890983   118.000000  6.891920e+07\n",
       "max    3000.000000  3.800000e+08   294.337037   338.000000  1.519558e+09"
      ]
     },
     "execution_count": 5,
     "metadata": {},
     "output_type": "execute_result"
    }
   ],
   "source": [
    "df.describe()"
   ]
  },
  {
   "cell_type": "code",
   "execution_count": 6,
   "id": "2e9fa67b",
   "metadata": {
    "execution": {
     "iopub.execute_input": "2024-09-23T16:10:58.591910Z",
     "iopub.status.busy": "2024-09-23T16:10:58.591571Z",
     "iopub.status.idle": "2024-09-23T16:10:58.598000Z",
     "shell.execute_reply": "2024-09-23T16:10:58.597168Z",
     "shell.execute_reply.started": "2024-09-23T16:10:58.591875Z"
    },
    "id": "9d5ff669"
   },
   "outputs": [],
   "source": [
    "df.drop(columns=['id','homepage','imdb_id','original_language','original_title','poster_path','tagline','overview','belongs_to_collection','title','spoken_languages','production_companies','production_countries'],inplace=True)"
   ]
  },
  {
   "cell_type": "code",
   "execution_count": 7,
   "id": "e74a2aab",
   "metadata": {
    "colab": {
     "base_uri": "https://localhost:8080/"
    },
    "execution": {
     "iopub.execute_input": "2024-09-23T16:10:58.713798Z",
     "iopub.status.busy": "2024-09-23T16:10:58.713533Z",
     "iopub.status.idle": "2024-09-23T16:10:58.720077Z",
     "shell.execute_reply": "2024-09-23T16:10:58.718994Z",
     "shell.execute_reply.started": "2024-09-23T16:10:58.713769Z"
    },
    "id": "GvZU-qupK38A",
    "outputId": "ca656fae-ffa6-4628-af84-b42c3d1a6841"
   },
   "outputs": [
    {
     "data": {
      "text/plain": [
       "Index(['budget', 'genres', 'popularity', 'release_date', 'runtime', 'status',\n",
       "       'Keywords', 'cast', 'crew', 'revenue'],\n",
       "      dtype='object')"
      ]
     },
     "execution_count": 7,
     "metadata": {},
     "output_type": "execute_result"
    }
   ],
   "source": [
    "for_input_use=df.columns\n",
    "for_input_use"
   ]
  },
  {
   "cell_type": "code",
   "execution_count": 8,
   "id": "9fb7a3f3",
   "metadata": {
    "execution": {
     "iopub.execute_input": "2024-09-23T16:10:58.968820Z",
     "iopub.status.busy": "2024-09-23T16:10:58.968055Z",
     "iopub.status.idle": "2024-09-23T16:11:04.278893Z",
     "shell.execute_reply": "2024-09-23T16:11:04.277985Z",
     "shell.execute_reply.started": "2024-09-23T16:10:58.968777Z"
    },
    "id": "f2d81bbe"
   },
   "outputs": [],
   "source": [
    "\n",
    "cols =  ['genres','Keywords','cast','crew']\n",
    "for col in cols:\n",
    "    df[col] = df[col].apply(lambda x:ast.literal_eval(x)if isinstance(x,str)else x)\n"
   ]
  },
  {
   "cell_type": "code",
   "execution_count": 9,
   "id": "a80158ea",
   "metadata": {
    "execution": {
     "iopub.execute_input": "2024-09-23T16:11:04.281567Z",
     "iopub.status.busy": "2024-09-23T16:11:04.280960Z",
     "iopub.status.idle": "2024-09-23T16:11:04.489132Z",
     "shell.execute_reply": "2024-09-23T16:11:04.488164Z",
     "shell.execute_reply.started": "2024-09-23T16:11:04.281525Z"
    },
    "id": "a3e304f9"
   },
   "outputs": [],
   "source": [
    "df['popularity'] = df['popularity'].astype(int)\n",
    "df['release_date'] = pd.to_datetime(df['release_date'],errors='coerce')"
   ]
  },
  {
   "cell_type": "code",
   "execution_count": 10,
   "id": "73ffe469",
   "metadata": {
    "execution": {
     "iopub.execute_input": "2024-09-23T16:11:04.490657Z",
     "iopub.status.busy": "2024-09-23T16:11:04.490329Z",
     "iopub.status.idle": "2024-09-23T16:11:04.495833Z",
     "shell.execute_reply": "2024-09-23T16:11:04.494904Z",
     "shell.execute_reply.started": "2024-09-23T16:11:04.490622Z"
    },
    "id": "6d5c1d4b"
   },
   "outputs": [],
   "source": [
    "df['runtime'] = pd.to_numeric(df['runtime'],errors='coerce')\n",
    "df['budget'] = pd.to_numeric(df['budget'],errors='coerce')"
   ]
  },
  {
   "cell_type": "code",
   "execution_count": 11,
   "id": "d929cc67",
   "metadata": {
    "colab": {
     "base_uri": "https://localhost:8080/",
     "height": 538
    },
    "execution": {
     "iopub.execute_input": "2024-09-23T16:11:07.669695Z",
     "iopub.status.busy": "2024-09-23T16:11:07.669015Z",
     "iopub.status.idle": "2024-09-23T16:11:07.818909Z",
     "shell.execute_reply": "2024-09-23T16:11:07.817890Z",
     "shell.execute_reply.started": "2024-09-23T16:11:07.669654Z"
    },
    "id": "d33d7ffe",
    "outputId": "f577ace4-09c4-4b1f-ef31-7b234f33558c"
   },
   "outputs": [
    {
     "data": {
      "text/html": [
       "<div>\n",
       "<style scoped>\n",
       "    .dataframe tbody tr th:only-of-type {\n",
       "        vertical-align: middle;\n",
       "    }\n",
       "\n",
       "    .dataframe tbody tr th {\n",
       "        vertical-align: top;\n",
       "    }\n",
       "\n",
       "    .dataframe thead th {\n",
       "        text-align: right;\n",
       "    }\n",
       "</style>\n",
       "<table border=\"1\" class=\"dataframe\">\n",
       "  <thead>\n",
       "    <tr style=\"text-align: right;\">\n",
       "      <th></th>\n",
       "      <th>budget</th>\n",
       "      <th>genres</th>\n",
       "      <th>popularity</th>\n",
       "      <th>release_date</th>\n",
       "      <th>runtime</th>\n",
       "      <th>status</th>\n",
       "      <th>Keywords</th>\n",
       "      <th>cast</th>\n",
       "      <th>crew</th>\n",
       "      <th>revenue</th>\n",
       "    </tr>\n",
       "  </thead>\n",
       "  <tbody>\n",
       "    <tr>\n",
       "      <th>0</th>\n",
       "      <td>14000000</td>\n",
       "      <td>[{'id': 35, 'name': 'Comedy'}]</td>\n",
       "      <td>6</td>\n",
       "      <td>2015-02-20</td>\n",
       "      <td>93.0</td>\n",
       "      <td>Released</td>\n",
       "      <td>[{'id': 4379, 'name': 'time travel'}, {'id': 9...</td>\n",
       "      <td>[{'cast_id': 4, 'character': 'Lou', 'credit_id...</td>\n",
       "      <td>[{'credit_id': '59ac067c92514107af02c8c8', 'de...</td>\n",
       "      <td>12314651</td>\n",
       "    </tr>\n",
       "    <tr>\n",
       "      <th>1</th>\n",
       "      <td>40000000</td>\n",
       "      <td>[{'id': 35, 'name': 'Comedy'}, {'id': 18, 'nam...</td>\n",
       "      <td>8</td>\n",
       "      <td>2004-08-06</td>\n",
       "      <td>113.0</td>\n",
       "      <td>Released</td>\n",
       "      <td>[{'id': 2505, 'name': 'coronation'}, {'id': 42...</td>\n",
       "      <td>[{'cast_id': 1, 'character': 'Mia Thermopolis'...</td>\n",
       "      <td>[{'credit_id': '52fe43fe9251416c7502563d', 'de...</td>\n",
       "      <td>95149435</td>\n",
       "    </tr>\n",
       "    <tr>\n",
       "      <th>2</th>\n",
       "      <td>3300000</td>\n",
       "      <td>[{'id': 18, 'name': 'Drama'}]</td>\n",
       "      <td>64</td>\n",
       "      <td>2014-10-10</td>\n",
       "      <td>105.0</td>\n",
       "      <td>Released</td>\n",
       "      <td>[{'id': 1416, 'name': 'jazz'}, {'id': 1523, 'n...</td>\n",
       "      <td>[{'cast_id': 5, 'character': 'Andrew Neimann',...</td>\n",
       "      <td>[{'credit_id': '54d5356ec3a3683ba0000039', 'de...</td>\n",
       "      <td>13092000</td>\n",
       "    </tr>\n",
       "    <tr>\n",
       "      <th>3</th>\n",
       "      <td>1200000</td>\n",
       "      <td>[{'id': 53, 'name': 'Thriller'}, {'id': 18, 'n...</td>\n",
       "      <td>3</td>\n",
       "      <td>2012-03-09</td>\n",
       "      <td>122.0</td>\n",
       "      <td>Released</td>\n",
       "      <td>[{'id': 10092, 'name': 'mystery'}, {'id': 1054...</td>\n",
       "      <td>[{'cast_id': 1, 'character': 'Vidya Bagchi', '...</td>\n",
       "      <td>[{'credit_id': '52fe48779251416c9108d6eb', 'de...</td>\n",
       "      <td>16000000</td>\n",
       "    </tr>\n",
       "    <tr>\n",
       "      <th>4</th>\n",
       "      <td>0</td>\n",
       "      <td>[{'id': 28, 'name': 'Action'}, {'id': 53, 'nam...</td>\n",
       "      <td>1</td>\n",
       "      <td>2009-02-05</td>\n",
       "      <td>118.0</td>\n",
       "      <td>Released</td>\n",
       "      <td>NaN</td>\n",
       "      <td>[{'cast_id': 3, 'character': 'Chun-soo', 'cred...</td>\n",
       "      <td>[{'credit_id': '52fe464b9251416c75073b43', 'de...</td>\n",
       "      <td>3923970</td>\n",
       "    </tr>\n",
       "  </tbody>\n",
       "</table>\n",
       "</div>"
      ],
      "text/plain": [
       "     budget                                             genres  popularity  \\\n",
       "0  14000000                     [{'id': 35, 'name': 'Comedy'}]           6   \n",
       "1  40000000  [{'id': 35, 'name': 'Comedy'}, {'id': 18, 'nam...           8   \n",
       "2   3300000                      [{'id': 18, 'name': 'Drama'}]          64   \n",
       "3   1200000  [{'id': 53, 'name': 'Thriller'}, {'id': 18, 'n...           3   \n",
       "4         0  [{'id': 28, 'name': 'Action'}, {'id': 53, 'nam...           1   \n",
       "\n",
       "  release_date  runtime    status  \\\n",
       "0   2015-02-20     93.0  Released   \n",
       "1   2004-08-06    113.0  Released   \n",
       "2   2014-10-10    105.0  Released   \n",
       "3   2012-03-09    122.0  Released   \n",
       "4   2009-02-05    118.0  Released   \n",
       "\n",
       "                                            Keywords  \\\n",
       "0  [{'id': 4379, 'name': 'time travel'}, {'id': 9...   \n",
       "1  [{'id': 2505, 'name': 'coronation'}, {'id': 42...   \n",
       "2  [{'id': 1416, 'name': 'jazz'}, {'id': 1523, 'n...   \n",
       "3  [{'id': 10092, 'name': 'mystery'}, {'id': 1054...   \n",
       "4                                                NaN   \n",
       "\n",
       "                                                cast  \\\n",
       "0  [{'cast_id': 4, 'character': 'Lou', 'credit_id...   \n",
       "1  [{'cast_id': 1, 'character': 'Mia Thermopolis'...   \n",
       "2  [{'cast_id': 5, 'character': 'Andrew Neimann',...   \n",
       "3  [{'cast_id': 1, 'character': 'Vidya Bagchi', '...   \n",
       "4  [{'cast_id': 3, 'character': 'Chun-soo', 'cred...   \n",
       "\n",
       "                                                crew   revenue  \n",
       "0  [{'credit_id': '59ac067c92514107af02c8c8', 'de...  12314651  \n",
       "1  [{'credit_id': '52fe43fe9251416c7502563d', 'de...  95149435  \n",
       "2  [{'credit_id': '54d5356ec3a3683ba0000039', 'de...  13092000  \n",
       "3  [{'credit_id': '52fe48779251416c9108d6eb', 'de...  16000000  \n",
       "4  [{'credit_id': '52fe464b9251416c75073b43', 'de...   3923970  "
      ]
     },
     "execution_count": 11,
     "metadata": {},
     "output_type": "execute_result"
    }
   ],
   "source": [
    "df.head()"
   ]
  },
  {
   "cell_type": "code",
   "execution_count": 12,
   "id": "80b42a81",
   "metadata": {
    "colab": {
     "base_uri": "https://localhost:8080/"
    },
    "execution": {
     "iopub.execute_input": "2024-09-23T16:11:09.049871Z",
     "iopub.status.busy": "2024-09-23T16:11:09.049071Z",
     "iopub.status.idle": "2024-09-23T16:11:09.056036Z",
     "shell.execute_reply": "2024-09-23T16:11:09.055091Z",
     "shell.execute_reply.started": "2024-09-23T16:11:09.049824Z"
    },
    "id": "e90e0909",
    "outputId": "947c47a1-8eb3-4baf-b591-63a1889ed637"
   },
   "outputs": [
    {
     "data": {
      "text/plain": [
       "(3000, 10)"
      ]
     },
     "execution_count": 12,
     "metadata": {},
     "output_type": "execute_result"
    }
   ],
   "source": [
    "df.shape"
   ]
  },
  {
   "cell_type": "code",
   "execution_count": 13,
   "id": "30271859",
   "metadata": {
    "colab": {
     "base_uri": "https://localhost:8080/",
     "height": 397
    },
    "execution": {
     "iopub.execute_input": "2024-09-23T16:11:10.244601Z",
     "iopub.status.busy": "2024-09-23T16:11:10.244232Z",
     "iopub.status.idle": "2024-09-23T16:11:10.255901Z",
     "shell.execute_reply": "2024-09-23T16:11:10.254894Z",
     "shell.execute_reply.started": "2024-09-23T16:11:10.244565Z"
    },
    "id": "b6f65ddf",
    "outputId": "c6b7c658-7855-4ccd-c274-dc3a50a2fbde"
   },
   "outputs": [
    {
     "data": {
      "text/plain": [
       "budget            0\n",
       "genres            7\n",
       "popularity        0\n",
       "release_date      0\n",
       "runtime           2\n",
       "status            0\n",
       "Keywords        276\n",
       "cast             13\n",
       "crew             16\n",
       "revenue           0\n",
       "dtype: int64"
      ]
     },
     "execution_count": 13,
     "metadata": {},
     "output_type": "execute_result"
    }
   ],
   "source": [
    "df.isnull().sum()"
   ]
  },
  {
   "cell_type": "code",
   "execution_count": 14,
   "id": "7b69bdb4",
   "metadata": {
    "colab": {
     "base_uri": "https://localhost:8080/"
    },
    "execution": {
     "iopub.execute_input": "2024-09-23T16:11:27.631452Z",
     "iopub.status.busy": "2024-09-23T16:11:27.630592Z",
     "iopub.status.idle": "2024-09-23T16:11:27.637458Z",
     "shell.execute_reply": "2024-09-23T16:11:27.636403Z",
     "shell.execute_reply.started": "2024-09-23T16:11:27.631410Z"
    },
    "id": "c478da19",
    "outputId": "5babd9c8-d7c0-4b79-e792-c979c35b4b28"
   },
   "outputs": [
    {
     "data": {
      "text/plain": [
       "(3000, 10)"
      ]
     },
     "execution_count": 14,
     "metadata": {},
     "output_type": "execute_result"
    }
   ],
   "source": [
    "df.shape"
   ]
  },
  {
   "cell_type": "code",
   "execution_count": 15,
   "id": "984114bd",
   "metadata": {
    "colab": {
     "base_uri": "https://localhost:8080/"
    },
    "execution": {
     "iopub.execute_input": "2024-09-23T16:11:28.510923Z",
     "iopub.status.busy": "2024-09-23T16:11:28.510548Z",
     "iopub.status.idle": "2024-09-23T16:11:28.517396Z",
     "shell.execute_reply": "2024-09-23T16:11:28.516331Z",
     "shell.execute_reply.started": "2024-09-23T16:11:28.510886Z"
    },
    "id": "dc105a0c",
    "outputId": "56c2a7a4-3f88-4eb6-f5c9-4e9df734b8a1"
   },
   "outputs": [
    {
     "name": "stdout",
     "output_type": "stream",
     "text": [
      "budget                   int64\n",
      "genres                  object\n",
      "popularity               int64\n",
      "release_date    datetime64[ns]\n",
      "runtime                float64\n",
      "status                  object\n",
      "Keywords                object\n",
      "cast                    object\n",
      "crew                    object\n",
      "revenue                  int64\n",
      "dtype: object\n"
     ]
    }
   ],
   "source": [
    "print(df.dtypes)\n"
   ]
  },
  {
   "cell_type": "code",
   "execution_count": 16,
   "id": "64c2aec5",
   "metadata": {
    "execution": {
     "iopub.execute_input": "2024-09-23T16:11:29.478464Z",
     "iopub.status.busy": "2024-09-23T16:11:29.478078Z",
     "iopub.status.idle": "2024-09-23T16:11:29.547170Z",
     "shell.execute_reply": "2024-09-23T16:11:29.545922Z",
     "shell.execute_reply.started": "2024-09-23T16:11:29.478425Z"
    },
    "id": "f7a66b95"
   },
   "outputs": [],
   "source": [
    "df['director'] = df['crew'].apply(lambda x: [i['name'] for i in x if isinstance(i,dict) and i['job']=='Director']if isinstance(x,list) else np.nan)\n",
    "df['cast'] = df['cast'].apply(lambda x: [i['name'] for i in x[:3] if isinstance(i,dict)]if isinstance(x,list) else np.nan)\n",
    "df['Keywords'] = df['Keywords'].apply(lambda x: [i['name'] for i in x[:3] if isinstance(i,dict)]if isinstance(x,list) else np.nan)\n",
    "df['genres'] = df['genres'].apply(lambda x: [i['name'] for i in x if isinstance(i, dict)] if isinstance(x, list) else np.nan)\n",
    "df = df.drop(columns=['crew'])"
   ]
  },
  {
   "cell_type": "code",
   "execution_count": 17,
   "id": "7a9dfffc",
   "metadata": {
    "colab": {
     "base_uri": "https://localhost:8080/",
     "height": 397
    },
    "execution": {
     "iopub.execute_input": "2024-09-23T16:11:30.334802Z",
     "iopub.status.busy": "2024-09-23T16:11:30.333967Z",
     "iopub.status.idle": "2024-09-23T16:11:30.344662Z",
     "shell.execute_reply": "2024-09-23T16:11:30.343708Z",
     "shell.execute_reply.started": "2024-09-23T16:11:30.334759Z"
    },
    "id": "0d000555",
    "outputId": "d60c66e1-4673-4b1e-f1d5-28c6be9a4e4d"
   },
   "outputs": [
    {
     "data": {
      "text/plain": [
       "budget            0\n",
       "genres            7\n",
       "popularity        0\n",
       "release_date      0\n",
       "runtime           2\n",
       "status            0\n",
       "Keywords        276\n",
       "cast             13\n",
       "revenue           0\n",
       "director         16\n",
       "dtype: int64"
      ]
     },
     "execution_count": 17,
     "metadata": {},
     "output_type": "execute_result"
    }
   ],
   "source": [
    "df.isnull().sum()"
   ]
  },
  {
   "cell_type": "code",
   "execution_count": 18,
   "id": "0d9f5a91",
   "metadata": {
    "colab": {
     "base_uri": "https://localhost:8080/",
     "height": 608
    },
    "execution": {
     "iopub.execute_input": "2024-09-23T16:11:30.915205Z",
     "iopub.status.busy": "2024-09-23T16:11:30.914835Z",
     "iopub.status.idle": "2024-09-23T16:11:30.937592Z",
     "shell.execute_reply": "2024-09-23T16:11:30.936563Z",
     "shell.execute_reply.started": "2024-09-23T16:11:30.915172Z"
    },
    "id": "a92f6124",
    "outputId": "a3ed4bb0-7f71-4c23-b70f-f2a1c5ee297c"
   },
   "outputs": [
    {
     "data": {
      "text/html": [
       "<div>\n",
       "<style scoped>\n",
       "    .dataframe tbody tr th:only-of-type {\n",
       "        vertical-align: middle;\n",
       "    }\n",
       "\n",
       "    .dataframe tbody tr th {\n",
       "        vertical-align: top;\n",
       "    }\n",
       "\n",
       "    .dataframe thead th {\n",
       "        text-align: right;\n",
       "    }\n",
       "</style>\n",
       "<table border=\"1\" class=\"dataframe\">\n",
       "  <thead>\n",
       "    <tr style=\"text-align: right;\">\n",
       "      <th></th>\n",
       "      <th>budget</th>\n",
       "      <th>genres</th>\n",
       "      <th>popularity</th>\n",
       "      <th>release_date</th>\n",
       "      <th>runtime</th>\n",
       "      <th>status</th>\n",
       "      <th>Keywords</th>\n",
       "      <th>cast</th>\n",
       "      <th>revenue</th>\n",
       "      <th>director</th>\n",
       "    </tr>\n",
       "  </thead>\n",
       "  <tbody>\n",
       "    <tr>\n",
       "      <th>0</th>\n",
       "      <td>14000000</td>\n",
       "      <td>[Comedy]</td>\n",
       "      <td>6</td>\n",
       "      <td>2015-02-20</td>\n",
       "      <td>93.0</td>\n",
       "      <td>Released</td>\n",
       "      <td>[time travel, sequel, hot tub]</td>\n",
       "      <td>[Rob Corddry, Craig Robinson, Clark Duke]</td>\n",
       "      <td>12314651</td>\n",
       "      <td>[Steve Pink]</td>\n",
       "    </tr>\n",
       "    <tr>\n",
       "      <th>1</th>\n",
       "      <td>40000000</td>\n",
       "      <td>[Comedy, Drama, Family, Romance]</td>\n",
       "      <td>8</td>\n",
       "      <td>2004-08-06</td>\n",
       "      <td>113.0</td>\n",
       "      <td>Released</td>\n",
       "      <td>[coronation, duty, marriage]</td>\n",
       "      <td>[Anne Hathaway, Julie Andrews, H√©ctor Elizondo]</td>\n",
       "      <td>95149435</td>\n",
       "      <td>[Garry Marshall]</td>\n",
       "    </tr>\n",
       "    <tr>\n",
       "      <th>2</th>\n",
       "      <td>3300000</td>\n",
       "      <td>[Drama]</td>\n",
       "      <td>64</td>\n",
       "      <td>2014-10-10</td>\n",
       "      <td>105.0</td>\n",
       "      <td>Released</td>\n",
       "      <td>[jazz, obsession, conservatory]</td>\n",
       "      <td>[Miles Teller, J.K. Simmons, Melissa Benoist]</td>\n",
       "      <td>13092000</td>\n",
       "      <td>[Damien Chazelle]</td>\n",
       "    </tr>\n",
       "    <tr>\n",
       "      <th>3</th>\n",
       "      <td>1200000</td>\n",
       "      <td>[Thriller, Drama]</td>\n",
       "      <td>3</td>\n",
       "      <td>2012-03-09</td>\n",
       "      <td>122.0</td>\n",
       "      <td>Released</td>\n",
       "      <td>[mystery, bollywood, police corruption]</td>\n",
       "      <td>[Vidya Balan, Nawazuddin Siddiqui, Parambrata ...</td>\n",
       "      <td>16000000</td>\n",
       "      <td>[Sujoy Ghosh]</td>\n",
       "    </tr>\n",
       "    <tr>\n",
       "      <th>4</th>\n",
       "      <td>0</td>\n",
       "      <td>[Action, Thriller]</td>\n",
       "      <td>1</td>\n",
       "      <td>2009-02-05</td>\n",
       "      <td>118.0</td>\n",
       "      <td>Released</td>\n",
       "      <td>NaN</td>\n",
       "      <td>[Kim Kang-woo, Jo Jae-hyeon, Park Si-yeon]</td>\n",
       "      <td>3923970</td>\n",
       "      <td>[Jong-seok Yoon]</td>\n",
       "    </tr>\n",
       "  </tbody>\n",
       "</table>\n",
       "</div>"
      ],
      "text/plain": [
       "     budget                            genres  popularity release_date  \\\n",
       "0  14000000                          [Comedy]           6   2015-02-20   \n",
       "1  40000000  [Comedy, Drama, Family, Romance]           8   2004-08-06   \n",
       "2   3300000                           [Drama]          64   2014-10-10   \n",
       "3   1200000                 [Thriller, Drama]           3   2012-03-09   \n",
       "4         0                [Action, Thriller]           1   2009-02-05   \n",
       "\n",
       "   runtime    status                                 Keywords  \\\n",
       "0     93.0  Released           [time travel, sequel, hot tub]   \n",
       "1    113.0  Released             [coronation, duty, marriage]   \n",
       "2    105.0  Released          [jazz, obsession, conservatory]   \n",
       "3    122.0  Released  [mystery, bollywood, police corruption]   \n",
       "4    118.0  Released                                      NaN   \n",
       "\n",
       "                                                cast   revenue  \\\n",
       "0          [Rob Corddry, Craig Robinson, Clark Duke]  12314651   \n",
       "1   [Anne Hathaway, Julie Andrews, H√©ctor Elizondo]  95149435   \n",
       "2      [Miles Teller, J.K. Simmons, Melissa Benoist]  13092000   \n",
       "3  [Vidya Balan, Nawazuddin Siddiqui, Parambrata ...  16000000   \n",
       "4         [Kim Kang-woo, Jo Jae-hyeon, Park Si-yeon]   3923970   \n",
       "\n",
       "            director  \n",
       "0       [Steve Pink]  \n",
       "1   [Garry Marshall]  \n",
       "2  [Damien Chazelle]  \n",
       "3      [Sujoy Ghosh]  \n",
       "4   [Jong-seok Yoon]  "
      ]
     },
     "execution_count": 18,
     "metadata": {},
     "output_type": "execute_result"
    }
   ],
   "source": [
    "df.head()"
   ]
  },
  {
   "cell_type": "code",
   "execution_count": 19,
   "id": "b0bcedec",
   "metadata": {
    "execution": {
     "iopub.execute_input": "2024-09-23T16:11:31.170294Z",
     "iopub.status.busy": "2024-09-23T16:11:31.169952Z",
     "iopub.status.idle": "2024-09-23T16:11:31.205436Z",
     "shell.execute_reply": "2024-09-23T16:11:31.204680Z",
     "shell.execute_reply.started": "2024-09-23T16:11:31.170260Z"
    },
    "id": "131276f7"
   },
   "outputs": [],
   "source": [
    "obj_col = df.select_dtypes('object').astype('str')\n",
    "for col in obj_col:\n",
    "    df[col] = df[col].apply(lambda x:','.join(x) if isinstance(x,list)else x)"
   ]
  },
  {
   "cell_type": "code",
   "execution_count": 20,
   "id": "b3ce11b4",
   "metadata": {
    "execution": {
     "iopub.execute_input": "2024-09-23T16:11:31.540657Z",
     "iopub.status.busy": "2024-09-23T16:11:31.540337Z",
     "iopub.status.idle": "2024-09-23T16:11:31.555889Z",
     "shell.execute_reply": "2024-09-23T16:11:31.554722Z",
     "shell.execute_reply.started": "2024-09-23T16:11:31.540625Z"
    },
    "id": "1d2d5717"
   },
   "outputs": [],
   "source": [
    "categorical_column = ['genres','Keywords','cast','director']\n",
    "for col in categorical_column:\n",
    "    df[col] = df[col].fillna(df[col].mode()[0])"
   ]
  },
  {
   "cell_type": "code",
   "execution_count": 21,
   "id": "5e6d643c",
   "metadata": {
    "colab": {
     "base_uri": "https://localhost:8080/",
     "height": 397
    },
    "execution": {
     "iopub.execute_input": "2024-09-23T16:11:31.768527Z",
     "iopub.status.busy": "2024-09-23T16:11:31.767789Z",
     "iopub.status.idle": "2024-09-23T16:11:31.777935Z",
     "shell.execute_reply": "2024-09-23T16:11:31.776945Z",
     "shell.execute_reply.started": "2024-09-23T16:11:31.768493Z"
    },
    "id": "38b000c4",
    "outputId": "b6fecac9-0baa-4d18-c6a0-50d934da491a"
   },
   "outputs": [
    {
     "data": {
      "text/plain": [
       "budget          0\n",
       "genres          0\n",
       "popularity      0\n",
       "release_date    0\n",
       "runtime         2\n",
       "status          0\n",
       "Keywords        0\n",
       "cast            0\n",
       "revenue         0\n",
       "director        0\n",
       "dtype: int64"
      ]
     },
     "execution_count": 21,
     "metadata": {},
     "output_type": "execute_result"
    }
   ],
   "source": [
    "df.isnull().sum()"
   ]
  },
  {
   "cell_type": "code",
   "execution_count": 22,
   "id": "37dc2b53",
   "metadata": {
    "execution": {
     "iopub.execute_input": "2024-09-23T16:11:36.135904Z",
     "iopub.status.busy": "2024-09-23T16:11:36.135259Z",
     "iopub.status.idle": "2024-09-23T16:11:36.143579Z",
     "shell.execute_reply": "2024-09-23T16:11:36.142629Z",
     "shell.execute_reply.started": "2024-09-23T16:11:36.135865Z"
    },
    "id": "f2b9e217"
   },
   "outputs": [],
   "source": [
    "df = df.dropna(subset='runtime')"
   ]
  },
  {
   "cell_type": "code",
   "execution_count": 23,
   "id": "626d4f18",
   "metadata": {
    "colab": {
     "base_uri": "https://localhost:8080/",
     "height": 397
    },
    "execution": {
     "iopub.execute_input": "2024-09-23T16:11:37.971169Z",
     "iopub.status.busy": "2024-09-23T16:11:37.970754Z",
     "iopub.status.idle": "2024-09-23T16:11:37.978596Z",
     "shell.execute_reply": "2024-09-23T16:11:37.977573Z",
     "shell.execute_reply.started": "2024-09-23T16:11:37.971130Z"
    },
    "id": "b2a04b29",
    "outputId": "efa6bbc7-f5a6-4a0e-8d07-31c6419828e6"
   },
   "outputs": [
    {
     "data": {
      "text/plain": [
       "budget                   int64\n",
       "genres                  object\n",
       "popularity               int64\n",
       "release_date    datetime64[ns]\n",
       "runtime                float64\n",
       "status                  object\n",
       "Keywords                object\n",
       "cast                    object\n",
       "revenue                  int64\n",
       "director                object\n",
       "dtype: object"
      ]
     },
     "execution_count": 23,
     "metadata": {},
     "output_type": "execute_result"
    }
   ],
   "source": [
    "df.dtypes"
   ]
  },
  {
   "cell_type": "markdown",
   "id": "5c114cbd",
   "metadata": {
    "id": "d42a2e7e"
   },
   "source": [
    "# Data Visualisation"
   ]
  },
  {
   "cell_type": "code",
   "execution_count": 24,
   "id": "bc57b7a6",
   "metadata": {
    "colab": {
     "base_uri": "https://localhost:8080/",
     "height": 1000
    },
    "execution": {
     "iopub.execute_input": "2024-09-23T16:11:40.229555Z",
     "iopub.status.busy": "2024-09-23T16:11:40.228681Z",
     "iopub.status.idle": "2024-09-23T16:11:41.992699Z",
     "shell.execute_reply": "2024-09-23T16:11:41.991785Z",
     "shell.execute_reply.started": "2024-09-23T16:11:40.229512Z"
    },
    "id": "a52eb493",
    "outputId": "e4c19435-ef22-4990-97f7-d660de1778d3"
   },
   "outputs": [
    {
     "data": {
      "image/png": "[encoded data removed]",
      "text/plain": [
       "<Figure size 600x400 with 1 Axes>"
      ]
     },
     "metadata": {},
     "output_type": "display_data"
    },
    {
     "data": {
      "image/png": "[encoded data removed]",
      "text/plain": [
       "<Figure size 600x400 with 1 Axes>"
      ]
     },
     "metadata": {},
     "output_type": "display_data"
    },
    {
     "data": {
      "image/png": "[encoded data removed]",
      "text/plain": [
       "<Figure size 600x400 with 1 Axes>"
      ]
     },
     "metadata": {},
     "output_type": "display_data"
    }
   ],
   "source": [
    "cols = ['popularity','budget','runtime']\n",
    "for col in cols:\n",
    "    plt.figure(figsize=(6,4))\n",
    "    sns.histplot(df[col],kde=True)\n",
    "    plt.title(f'Distribution of {col}')\n",
    "    plt.show()"
   ]
  },
  {
   "cell_type": "code",
   "execution_count": 25,
   "id": "a930c513",
   "metadata": {
    "colab": {
     "base_uri": "https://localhost:8080/",
     "height": 489
    },
    "execution": {
     "iopub.execute_input": "2024-09-23T16:11:51.187681Z",
     "iopub.status.busy": "2024-09-23T16:11:51.186531Z",
     "iopub.status.idle": "2024-09-23T16:11:51.541574Z",
     "shell.execute_reply": "2024-09-23T16:11:51.540701Z",
     "shell.execute_reply.started": "2024-09-23T16:11:51.187623Z"
    },
    "id": "f282933a",
    "outputId": "3f57e28b-76ed-4099-ea48-c137df26418f"
   },
   "outputs": [
    {
     "data": {
      "text/plain": [
       "Text(0.5, 1.0, 'Budget vs Popularity')"
      ]
     },
     "execution_count": 25,
     "metadata": {},
     "output_type": "execute_result"
    },
    {
     "data": {
      "image/png": "[encoded data removed]",
      "text/plain": [
       "<Figure size 640x480 with 1 Axes>"
      ]
     },
     "metadata": {},
     "output_type": "display_data"
    }
   ],
   "source": [
    "sns.scatterplot(x=df['budget'],y=df['popularity'])\n",
    "plt.title('Budget vs Popularity')"
   ]
  },
  {
   "cell_type": "code",
   "execution_count": 26,
   "id": "1dfd9c7a",
   "metadata": {
    "colab": {
     "base_uri": "https://localhost:8080/",
     "height": 489
    },
    "execution": {
     "iopub.execute_input": "2024-09-23T16:11:51.790677Z",
     "iopub.status.busy": "2024-09-23T16:11:51.790052Z",
     "iopub.status.idle": "2024-09-23T16:11:52.163895Z",
     "shell.execute_reply": "2024-09-23T16:11:52.162952Z",
     "shell.execute_reply.started": "2024-09-23T16:11:51.790640Z"
    },
    "id": "f5320979",
    "outputId": "76af4840-0b69-4e97-9dbf-03940d528558"
   },
   "outputs": [
    {
     "data": {
      "text/plain": [
       "Text(0.5, 1.0, 'runtime vs Popularity')"
      ]
     },
     "execution_count": 26,
     "metadata": {},
     "output_type": "execute_result"
    },
    {
     "data": {
      "image/png": "[encoded data removed]",
      "text/plain": [
       "<Figure size 640x480 with 1 Axes>"
      ]
     },
     "metadata": {},
     "output_type": "display_data"
    }
   ],
   "source": [
    "sns.scatterplot(x=df['runtime'],y=df['popularity'])\n",
    "plt.title('runtime vs Popularity')"
   ]
  },
  {
   "cell_type": "code",
   "execution_count": 27,
   "id": "fc3e492a",
   "metadata": {
    "execution": {
     "iopub.execute_input": "2024-09-23T16:11:52.968287Z",
     "iopub.status.busy": "2024-09-23T16:11:52.967922Z",
     "iopub.status.idle": "2024-09-23T16:11:52.974170Z",
     "shell.execute_reply": "2024-09-23T16:11:52.973233Z",
     "shell.execute_reply.started": "2024-09-23T16:11:52.968252Z"
    },
    "id": "9c03f6cc"
   },
   "outputs": [],
   "source": [
    "\n",
    "df['Keywords'] = df['Keywords'].astype(str)\n",
    "keyword = ' '.join(df['Keywords'])\n"
   ]
  },
  {
   "cell_type": "code",
   "execution_count": 28,
   "id": "21113a56",
   "metadata": {
    "colab": {
     "base_uri": "https://localhost:8080/",
     "height": 765
    },
    "execution": {
     "iopub.execute_input": "2024-09-23T16:11:53.837038Z",
     "iopub.status.busy": "2024-09-23T16:11:53.836647Z",
     "iopub.status.idle": "2024-09-23T16:11:54.406091Z",
     "shell.execute_reply": "2024-09-23T16:11:54.405098Z",
     "shell.execute_reply.started": "2024-09-23T16:11:53.837002Z"
    },
    "id": "9ce2204e",
    "outputId": "11794dff-5ec4-4ebe-f0a3-f6dfc6144586"
   },
   "outputs": [
    {
     "data": {
      "image/png": "[encoded data removed]",
      "text/plain": [
       "<Figure size 600x400 with 1 Axes>"
      ]
     },
     "metadata": {},
     "output_type": "display_data"
    },
    {
     "data": {
      "image/png": "[encoded data removed]",
      "text/plain": [
       "<Figure size 600x400 with 1 Axes>"
      ]
     },
     "metadata": {},
     "output_type": "display_data"
    }
   ],
   "source": [
    "cols = ['genres','cast']\n",
    "for col in cols:\n",
    "    plt.figure(figsize=(6,4))\n",
    "    string = ' '.join(df[col])\n",
    "    spl =  string.split(',')\n",
    "    s = pd.Series(spl).value_counts(ascending=False)[:10]\n",
    "    sns.barplot(x=s.values,y=s.index)\n",
    "    plt.title(f'Top 10 {col}')\n",
    "    plt.show()\n"
   ]
  },
  {
   "cell_type": "code",
   "execution_count": 29,
   "id": "740b87c4",
   "metadata": {
    "execution": {
     "iopub.execute_input": "2024-09-23T16:11:55.604543Z",
     "iopub.status.busy": "2024-09-23T16:11:55.604154Z",
     "iopub.status.idle": "2024-09-23T16:11:55.613628Z",
     "shell.execute_reply": "2024-09-23T16:11:55.612638Z",
     "shell.execute_reply.started": "2024-09-23T16:11:55.604505Z"
    },
    "id": "7fcf9d98"
   },
   "outputs": [],
   "source": [
    "df['year'] = df['release_date'].dt.year\n",
    "df = df.drop(columns='release_date')\n",
    "\n"
   ]
  },
  {
   "cell_type": "code",
   "execution_count": 30,
   "id": "7f7f7be4",
   "metadata": {
    "execution": {
     "iopub.execute_input": "2024-09-23T16:11:55.675566Z",
     "iopub.status.busy": "2024-09-23T16:11:55.674888Z",
     "iopub.status.idle": "2024-09-23T16:11:55.681741Z",
     "shell.execute_reply": "2024-09-23T16:11:55.680702Z",
     "shell.execute_reply.started": "2024-09-23T16:11:55.675529Z"
    },
    "id": "2554b4fc"
   },
   "outputs": [],
   "source": [
    "date = df['year'].value_counts()"
   ]
  },
  {
   "cell_type": "code",
   "execution_count": 31,
   "id": "a2008a50",
   "metadata": {
    "colab": {
     "base_uri": "https://localhost:8080/",
     "height": 466
    },
    "execution": {
     "iopub.execute_input": "2024-09-23T16:11:56.635151Z",
     "iopub.status.busy": "2024-09-23T16:11:56.634719Z",
     "iopub.status.idle": "2024-09-23T16:11:56.853899Z",
     "shell.execute_reply": "2024-09-23T16:11:56.853033Z",
     "shell.execute_reply.started": "2024-09-23T16:11:56.635098Z"
    },
    "id": "bd79ea65",
    "outputId": "a61ae941-b0dc-4849-8118-5e8376e91c89"
   },
   "outputs": [
    {
     "data": {
      "text/plain": [
       "Text(0, 0.5, 'movie count')"
      ]
     },
     "execution_count": 31,
     "metadata": {},
     "output_type": "execute_result"
    },
    {
     "data": {
      "image/png": "[encoded data removed]",
      "text/plain": [
       "<Figure size 640x480 with 1 Axes>"
      ]
     },
     "metadata": {},
     "output_type": "display_data"
    }
   ],
   "source": [
    "date = date.iloc[0:10]\n",
    "plt.bar(x=date.index, height=date.values.flatten())\n",
    "plt.xlabel('year')\n",
    "plt.ylabel('movie count')\n"
   ]
  },
  {
   "cell_type": "code",
   "execution_count": 32,
   "id": "c7ad1292",
   "metadata": {
    "colab": {
     "base_uri": "https://localhost:8080/",
     "height": 397
    },
    "execution": {
     "iopub.execute_input": "2024-09-23T16:11:57.716153Z",
     "iopub.status.busy": "2024-09-23T16:11:57.715448Z",
     "iopub.status.idle": "2024-09-23T16:11:57.723791Z",
     "shell.execute_reply": "2024-09-23T16:11:57.722701Z",
     "shell.execute_reply.started": "2024-09-23T16:11:57.716112Z"
    },
    "id": "745fee8d",
    "outputId": "b7e25414-b57b-4181-b68f-28777737f99f"
   },
   "outputs": [
    {
     "data": {
      "text/plain": [
       "budget          int64\n",
       "genres         object\n",
       "popularity      int64\n",
       "runtime       float64\n",
       "status         object\n",
       "Keywords       object\n",
       "cast           object\n",
       "revenue         int64\n",
       "director       object\n",
       "year            int32\n",
       "dtype: object"
      ]
     },
     "execution_count": 32,
     "metadata": {},
     "output_type": "execute_result"
    }
   ],
   "source": [
    "df.dtypes"
   ]
  },
  {
   "cell_type": "code",
   "execution_count": 33,
   "id": "12d709da",
   "metadata": {
    "execution": {
     "iopub.execute_input": "2024-09-23T16:11:58.514741Z",
     "iopub.status.busy": "2024-09-23T16:11:58.514323Z",
     "iopub.status.idle": "2024-09-23T16:11:58.565327Z",
     "shell.execute_reply": "2024-09-23T16:11:58.564156Z",
     "shell.execute_reply.started": "2024-09-23T16:11:58.514700Z"
    },
    "id": "6e44a6fb"
   },
   "outputs": [],
   "source": [
    "df = pd.get_dummies(df, columns=['director'], dtype='int')\n"
   ]
  },
  {
   "cell_type": "code",
   "execution_count": 34,
   "id": "d3ac5da9",
   "metadata": {
    "execution": {
     "iopub.execute_input": "2024-09-23T16:11:59.589832Z",
     "iopub.status.busy": "2024-09-23T16:11:59.589202Z",
     "iopub.status.idle": "2024-09-23T16:12:00.085133Z",
     "shell.execute_reply": "2024-09-23T16:12:00.084200Z",
     "shell.execute_reply.started": "2024-09-23T16:11:59.589794Z"
    },
    "id": "1aee81dd"
   },
   "outputs": [],
   "source": [
    "df['genres'] = df['genres'].apply(lambda x: x.split(','))\n",
    "df['Keywords'] = df['Keywords'].apply(lambda x: x.split(','))\n",
    "df['cast'] = df['cast'].apply(lambda x: x.split(','))\n",
    "\n",
    "# One-hot encoding genres and keywords\n",
    "mlb_genres = MultiLabelBinarizer()\n",
    "mlb_keywords = MultiLabelBinarizer()\n",
    "mlb_cast = MultiLabelBinarizer()\n",
    "\n",
    "df_genres = pd.DataFrame(mlb_genres.fit_transform(df['genres']), columns=mlb_genres.classes_, index=df.index)\n",
    "df_keywords = pd.DataFrame(mlb_keywords.fit_transform(df['Keywords']), columns=mlb_keywords.classes_, index=df.index)\n",
    "df_cast = pd.DataFrame(mlb_cast.fit_transform(df['cast']),columns=mlb_cast.classes_,index=df.index)\n",
    "# Combine one-hot encoded genres and keywords with original dataframe\n",
    "df = pd.concat([df, df_genres, df_keywords, df_cast], axis=1)\n",
    "df = df.drop(columns=['genres','cast','Keywords'])"
   ]
  },
  {
   "cell_type": "code",
   "execution_count": 35,
   "id": "ac1a7e97",
   "metadata": {
    "execution": {
     "iopub.execute_input": "2024-09-23T16:12:01.923140Z",
     "iopub.status.busy": "2024-09-23T16:12:01.922758Z",
     "iopub.status.idle": "2024-09-23T16:12:01.936981Z",
     "shell.execute_reply": "2024-09-23T16:12:01.935987Z",
     "shell.execute_reply.started": "2024-09-23T16:12:01.923104Z"
    },
    "id": "1ccd526b"
   },
   "outputs": [],
   "source": [
    "le = LabelEncoder()\n",
    "df['status'] = le.fit_transform(df['status'].astype('str'))\n"
   ]
  },
  {
   "cell_type": "code",
   "execution_count": 36,
   "id": "93ff1548",
   "metadata": {
    "execution": {
     "iopub.execute_input": "2024-09-23T16:12:08.972077Z",
     "iopub.status.busy": "2024-09-23T16:12:08.971686Z",
     "iopub.status.idle": "2024-09-23T16:12:08.991250Z",
     "shell.execute_reply": "2024-09-23T16:12:08.990093Z",
     "shell.execute_reply.started": "2024-09-23T16:12:08.972039Z"
    },
    "id": "OcL9FDFt72Kp"
   },
   "outputs": [],
   "source": [
    "df['revenue'] = np.log1p(df['revenue'])\n",
    "df['budget'] = np.log1p(df['budget'])\n"
   ]
  },
  {
   "cell_type": "code",
   "execution_count": 37,
   "id": "c2bde9d1",
   "metadata": {
    "execution": {
     "iopub.execute_input": "2024-09-23T16:12:10.386794Z",
     "iopub.status.busy": "2024-09-23T16:12:10.386411Z",
     "iopub.status.idle": "2024-09-23T16:12:10.415538Z",
     "shell.execute_reply": "2024-09-23T16:12:10.414606Z",
     "shell.execute_reply.started": "2024-09-23T16:12:10.386757Z"
    },
    "id": "32dc90cc"
   },
   "outputs": [],
   "source": [
    "scaling = ['budget','runtime','popularity','year']\n",
    "for col in scaling:\n",
    "    scaler = StandardScaler()\n",
    "    df[col]=scaler.fit_transform(df[[col]])"
   ]
  },
  {
   "cell_type": "code",
   "execution_count": 38,
   "id": "09279b10",
   "metadata": {
    "execution": {
     "iopub.execute_input": "2024-09-23T16:12:11.452488Z",
     "iopub.status.busy": "2024-09-23T16:12:11.452101Z",
     "iopub.status.idle": "2024-09-23T16:12:11.468594Z",
     "shell.execute_reply": "2024-09-23T16:12:11.467885Z",
     "shell.execute_reply.started": "2024-09-23T16:12:11.452449Z"
    },
    "id": "174196f1"
   },
   "outputs": [],
   "source": [
    "df.columns\n",
    "df.columns = [col.encode('utf-8').decode('utf-8') for col in df.columns]\n",
    "df.rename(columns={\n",
    "    'current_strange_column_name': 'new_clean_column_name',\n",
    "    # add more if needed\n",
    "}, inplace=True)"
   ]
  },
  {
   "cell_type": "code",
   "execution_count": 39,
   "id": "cecd1258",
   "metadata": {
    "execution": {
     "iopub.execute_input": "2024-09-23T16:12:12.069611Z",
     "iopub.status.busy": "2024-09-23T16:12:12.069250Z",
     "iopub.status.idle": "2024-09-23T16:12:12.094776Z",
     "shell.execute_reply": "2024-09-23T16:12:12.094007Z",
     "shell.execute_reply.started": "2024-09-23T16:12:12.069575Z"
    },
    "id": "0a82510b"
   },
   "outputs": [],
   "source": [
    "import re\n",
    "df.columns = [re.sub(r'[^a-zA-Z0-9_]', '', col) for col in df.columns]\n",
    "\n"
   ]
  },
  {
   "cell_type": "code",
   "execution_count": 40,
   "id": "964c294e",
   "metadata": {
    "colab": {
     "base_uri": "https://localhost:8080/",
     "height": 461
    },
    "execution": {
     "iopub.execute_input": "2024-09-23T16:12:15.511624Z",
     "iopub.status.busy": "2024-09-23T16:12:15.510748Z",
     "iopub.status.idle": "2024-09-23T16:12:15.640017Z",
     "shell.execute_reply": "2024-09-23T16:12:15.638977Z",
     "shell.execute_reply.started": "2024-09-23T16:12:15.511584Z"
    },
    "id": "9f7d3e13",
    "outputId": "4a95a61a-9a21-4e38-c5be-5e7a3b0c69b7"
   },
   "outputs": [
    {
     "name": "stdout",
     "output_type": "stream",
     "text": [
      "Index(['', '', '', '', '', '', '', '', ''], dtype='object')\n"
     ]
    },
    {
     "data": {
      "text/html": [
       "<div>\n",
       "<style scoped>\n",
       "    .dataframe tbody tr th:only-of-type {\n",
       "        vertical-align: middle;\n",
       "    }\n",
       "\n",
       "    .dataframe tbody tr th {\n",
       "        vertical-align: top;\n",
       "    }\n",
       "\n",
       "    .dataframe thead th {\n",
       "        text-align: right;\n",
       "    }\n",
       "</style>\n",
       "<table border=\"1\" class=\"dataframe\">\n",
       "  <thead>\n",
       "    <tr style=\"text-align: right;\">\n",
       "      <th></th>\n",
       "      <th>budget</th>\n",
       "      <th>popularity</th>\n",
       "      <th>runtime</th>\n",
       "      <th>status</th>\n",
       "      <th>revenue</th>\n",
       "      <th>year</th>\n",
       "      <th>director_AJEdwards</th>\n",
       "      <th>director_ARMurugadoss</th>\n",
       "      <th>director_AaronKatz</th>\n",
       "      <th>director_AaronNorris</th>\n",
       "      <th>...</th>\n",
       "      <th>ZoFlix</th>\n",
       "      <th>ZoKravitz</th>\n",
       "      <th>ZsfiaPsotta</th>\n",
       "      <th>ZuhabKhan</th>\n",
       "      <th>ZuleikhaRobinson</th>\n",
       "      <th>rfanKang</th>\n",
       "      <th>lexBrendemhl</th>\n",
       "      <th>ricBruneau</th>\n",
       "      <th>rjanGamst</th>\n",
       "      <th>ahanGkbakar</th>\n",
       "    </tr>\n",
       "  </thead>\n",
       "  <tbody>\n",
       "    <tr>\n",
       "      <th>0</th>\n",
       "      <td>0.614707</td>\n",
       "      <td>-0.162928</td>\n",
       "      <td>-0.672768</td>\n",
       "      <td>0</td>\n",
       "      <td>16.326300</td>\n",
       "      <td>0.543771</td>\n",
       "      <td>0</td>\n",
       "      <td>0</td>\n",
       "      <td>0</td>\n",
       "      <td>0</td>\n",
       "      <td>...</td>\n",
       "      <td>0</td>\n",
       "      <td>0</td>\n",
       "      <td>0</td>\n",
       "      <td>0</td>\n",
       "      <td>0</td>\n",
       "      <td>0</td>\n",
       "      <td>0</td>\n",
       "      <td>0</td>\n",
       "      <td>0</td>\n",
       "      <td>0</td>\n",
       "    </tr>\n",
       "    <tr>\n",
       "      <th>1</th>\n",
       "      <td>0.755820</td>\n",
       "      <td>0.002147</td>\n",
       "      <td>0.232916</td>\n",
       "      <td>0</td>\n",
       "      <td>18.370959</td>\n",
       "      <td>-0.112279</td>\n",
       "      <td>0</td>\n",
       "      <td>0</td>\n",
       "      <td>0</td>\n",
       "      <td>0</td>\n",
       "      <td>...</td>\n",
       "      <td>0</td>\n",
       "      <td>0</td>\n",
       "      <td>0</td>\n",
       "      <td>0</td>\n",
       "      <td>0</td>\n",
       "      <td>0</td>\n",
       "      <td>0</td>\n",
       "      <td>0</td>\n",
       "      <td>0</td>\n",
       "      <td>0</td>\n",
       "    </tr>\n",
       "    <tr>\n",
       "      <th>2</th>\n",
       "      <td>0.420459</td>\n",
       "      <td>4.624265</td>\n",
       "      <td>-0.129358</td>\n",
       "      <td>0</td>\n",
       "      <td>16.387512</td>\n",
       "      <td>0.484130</td>\n",
       "      <td>0</td>\n",
       "      <td>0</td>\n",
       "      <td>0</td>\n",
       "      <td>0</td>\n",
       "      <td>...</td>\n",
       "      <td>0</td>\n",
       "      <td>0</td>\n",
       "      <td>0</td>\n",
       "      <td>0</td>\n",
       "      <td>0</td>\n",
       "      <td>0</td>\n",
       "      <td>0</td>\n",
       "      <td>0</td>\n",
       "      <td>0</td>\n",
       "      <td>0</td>\n",
       "    </tr>\n",
       "    <tr>\n",
       "      <th>3</th>\n",
       "      <td>0.284484</td>\n",
       "      <td>-0.410542</td>\n",
       "      <td>0.640474</td>\n",
       "      <td>0</td>\n",
       "      <td>16.588099</td>\n",
       "      <td>0.364848</td>\n",
       "      <td>0</td>\n",
       "      <td>0</td>\n",
       "      <td>0</td>\n",
       "      <td>0</td>\n",
       "      <td>...</td>\n",
       "      <td>0</td>\n",
       "      <td>0</td>\n",
       "      <td>0</td>\n",
       "      <td>0</td>\n",
       "      <td>0</td>\n",
       "      <td>0</td>\n",
       "      <td>0</td>\n",
       "      <td>0</td>\n",
       "      <td>0</td>\n",
       "      <td>0</td>\n",
       "    </tr>\n",
       "    <tr>\n",
       "      <th>4</th>\n",
       "      <td>-1.597044</td>\n",
       "      <td>-0.575617</td>\n",
       "      <td>0.459337</td>\n",
       "      <td>0</td>\n",
       "      <td>15.182615</td>\n",
       "      <td>0.185925</td>\n",
       "      <td>0</td>\n",
       "      <td>0</td>\n",
       "      <td>0</td>\n",
       "      <td>0</td>\n",
       "      <td>...</td>\n",
       "      <td>0</td>\n",
       "      <td>0</td>\n",
       "      <td>0</td>\n",
       "      <td>0</td>\n",
       "      <td>0</td>\n",
       "      <td>0</td>\n",
       "      <td>0</td>\n",
       "      <td>0</td>\n",
       "      <td>0</td>\n",
       "      <td>0</td>\n",
       "    </tr>\n",
       "    <tr>\n",
       "      <th>...</th>\n",
       "      <td>...</td>\n",
       "      <td>...</td>\n",
       "      <td>...</td>\n",
       "      <td>...</td>\n",
       "      <td>...</td>\n",
       "      <td>...</td>\n",
       "      <td>...</td>\n",
       "      <td>...</td>\n",
       "      <td>...</td>\n",
       "      <td>...</td>\n",
       "      <td>...</td>\n",
       "      <td>...</td>\n",
       "      <td>...</td>\n",
       "      <td>...</td>\n",
       "      <td>...</td>\n",
       "      <td>...</td>\n",
       "      <td>...</td>\n",
       "      <td>...</td>\n",
       "      <td>...</td>\n",
       "      <td>...</td>\n",
       "      <td>...</td>\n",
       "    </tr>\n",
       "    <tr>\n",
       "      <th>2995</th>\n",
       "      <td>-1.597044</td>\n",
       "      <td>0.084685</td>\n",
       "      <td>-0.265210</td>\n",
       "      <td>0</td>\n",
       "      <td>14.283442</td>\n",
       "      <td>-0.708689</td>\n",
       "      <td>0</td>\n",
       "      <td>0</td>\n",
       "      <td>0</td>\n",
       "      <td>0</td>\n",
       "      <td>...</td>\n",
       "      <td>0</td>\n",
       "      <td>0</td>\n",
       "      <td>0</td>\n",
       "      <td>0</td>\n",
       "      <td>0</td>\n",
       "      <td>0</td>\n",
       "      <td>0</td>\n",
       "      <td>0</td>\n",
       "      <td>0</td>\n",
       "      <td>0</td>\n",
       "    </tr>\n",
       "    <tr>\n",
       "      <th>2996</th>\n",
       "      <td>-1.597044</td>\n",
       "      <td>-0.410542</td>\n",
       "      <td>-0.265210</td>\n",
       "      <td>0</td>\n",
       "      <td>12.103990</td>\n",
       "      <td>0.424489</td>\n",
       "      <td>0</td>\n",
       "      <td>0</td>\n",
       "      <td>0</td>\n",
       "      <td>0</td>\n",
       "      <td>...</td>\n",
       "      <td>0</td>\n",
       "      <td>0</td>\n",
       "      <td>0</td>\n",
       "      <td>0</td>\n",
       "      <td>0</td>\n",
       "      <td>0</td>\n",
       "      <td>0</td>\n",
       "      <td>0</td>\n",
       "      <td>0</td>\n",
       "      <td>0</td>\n",
       "    </tr>\n",
       "    <tr>\n",
       "      <th>2997</th>\n",
       "      <td>0.821080</td>\n",
       "      <td>0.497374</td>\n",
       "      <td>0.549906</td>\n",
       "      <td>0</td>\n",
       "      <td>18.309266</td>\n",
       "      <td>-0.589407</td>\n",
       "      <td>0</td>\n",
       "      <td>0</td>\n",
       "      <td>0</td>\n",
       "      <td>0</td>\n",
       "      <td>...</td>\n",
       "      <td>0</td>\n",
       "      <td>0</td>\n",
       "      <td>0</td>\n",
       "      <td>0</td>\n",
       "      <td>0</td>\n",
       "      <td>0</td>\n",
       "      <td>0</td>\n",
       "      <td>0</td>\n",
       "      <td>0</td>\n",
       "      <td>0</td>\n",
       "    </tr>\n",
       "    <tr>\n",
       "      <th>2998</th>\n",
       "      <td>0.762378</td>\n",
       "      <td>0.579912</td>\n",
       "      <td>-0.808621</td>\n",
       "      <td>0</td>\n",
       "      <td>18.962792</td>\n",
       "      <td>-0.112279</td>\n",
       "      <td>0</td>\n",
       "      <td>0</td>\n",
       "      <td>0</td>\n",
       "      <td>0</td>\n",
       "      <td>...</td>\n",
       "      <td>0</td>\n",
       "      <td>0</td>\n",
       "      <td>0</td>\n",
       "      <td>0</td>\n",
       "      <td>0</td>\n",
       "      <td>0</td>\n",
       "      <td>0</td>\n",
       "      <td>0</td>\n",
       "      <td>0</td>\n",
       "      <td>0</td>\n",
       "    </tr>\n",
       "    <tr>\n",
       "      <th>2999</th>\n",
       "      <td>0.737871</td>\n",
       "      <td>0.167223</td>\n",
       "      <td>-0.084073</td>\n",
       "      <td>0</td>\n",
       "      <td>18.223292</td>\n",
       "      <td>0.305207</td>\n",
       "      <td>0</td>\n",
       "      <td>0</td>\n",
       "      <td>0</td>\n",
       "      <td>0</td>\n",
       "      <td>...</td>\n",
       "      <td>0</td>\n",
       "      <td>0</td>\n",
       "      <td>0</td>\n",
       "      <td>0</td>\n",
       "      <td>0</td>\n",
       "      <td>0</td>\n",
       "      <td>0</td>\n",
       "      <td>0</td>\n",
       "      <td>0</td>\n",
       "      <td>0</td>\n",
       "    </tr>\n",
       "  </tbody>\n",
       "</table>\n",
       "<p>2998 rows × 9236 columns</p>\n",
       "</div>"
      ],
      "text/plain": [
       "        budget  popularity   runtime  status    revenue      year  \\\n",
       "0     0.614707   -0.162928 -0.672768       0  16.326300  0.543771   \n",
       "1     0.755820    0.002147  0.232916       0  18.370959 -0.112279   \n",
       "2     0.420459    4.624265 -0.129358       0  16.387512  0.484130   \n",
       "3     0.284484   -0.410542  0.640474       0  16.588099  0.364848   \n",
       "4    -1.597044   -0.575617  0.459337       0  15.182615  0.185925   \n",
       "...        ...         ...       ...     ...        ...       ...   \n",
       "2995 -1.597044    0.084685 -0.265210       0  14.283442 -0.708689   \n",
       "2996 -1.597044   -0.410542 -0.265210       0  12.103990  0.424489   \n",
       "2997  0.821080    0.497374  0.549906       0  18.309266 -0.589407   \n",
       "2998  0.762378    0.579912 -0.808621       0  18.962792 -0.112279   \n",
       "2999  0.737871    0.167223 -0.084073       0  18.223292  0.305207   \n",
       "\n",
       "      director_AJEdwards  director_ARMurugadoss  director_AaronKatz  \\\n",
       "0                      0                      0                   0   \n",
       "1                      0                      0                   0   \n",
       "2                      0                      0                   0   \n",
       "3                      0                      0                   0   \n",
       "4                      0                      0                   0   \n",
       "...                  ...                    ...                 ...   \n",
       "2995                   0                      0                   0   \n",
       "2996                   0                      0                   0   \n",
       "2997                   0                      0                   0   \n",
       "2998                   0                      0                   0   \n",
       "2999                   0                      0                   0   \n",
       "\n",
       "      director_AaronNorris  ...  ZoFlix  ZoKravitz  ZsfiaPsotta  ZuhabKhan  \\\n",
       "0                        0  ...       0          0            0          0   \n",
       "1                        0  ...       0          0            0          0   \n",
       "2                        0  ...       0          0            0          0   \n",
       "3                        0  ...       0          0            0          0   \n",
       "4                        0  ...       0          0            0          0   \n",
       "...                    ...  ...     ...        ...          ...        ...   \n",
       "2995                     0  ...       0          0            0          0   \n",
       "2996                     0  ...       0          0            0          0   \n",
       "2997                     0  ...       0          0            0          0   \n",
       "2998                     0  ...       0          0            0          0   \n",
       "2999                     0  ...       0          0            0          0   \n",
       "\n",
       "      ZuleikhaRobinson  rfanKang  lexBrendemhl  ricBruneau  rjanGamst  \\\n",
       "0                    0         0             0           0          0   \n",
       "1                    0         0             0           0          0   \n",
       "2                    0         0             0           0          0   \n",
       "3                    0         0             0           0          0   \n",
       "4                    0         0             0           0          0   \n",
       "...                ...       ...           ...         ...        ...   \n",
       "2995                 0         0             0           0          0   \n",
       "2996                 0         0             0           0          0   \n",
       "2997                 0         0             0           0          0   \n",
       "2998                 0         0             0           0          0   \n",
       "2999                 0         0             0           0          0   \n",
       "\n",
       "      ahanGkbakar  \n",
       "0               0  \n",
       "1               0  \n",
       "2               0  \n",
       "3               0  \n",
       "4               0  \n",
       "...           ...  \n",
       "2995            0  \n",
       "2996            0  \n",
       "2997            0  \n",
       "2998            0  \n",
       "2999            0  \n",
       "\n",
       "[2998 rows x 9236 columns]"
      ]
     },
     "execution_count": 40,
     "metadata": {},
     "output_type": "execute_result"
    }
   ],
   "source": [
    "print(df.columns[df.columns == ''])\n",
    "df.loc[:,df.columns!='']\n"
   ]
  },
  {
   "cell_type": "code",
   "execution_count": 41,
   "id": "dab89edd",
   "metadata": {
    "execution": {
     "iopub.execute_input": "2024-09-23T16:12:16.908517Z",
     "iopub.status.busy": "2024-09-23T16:12:16.907747Z",
     "iopub.status.idle": "2024-09-23T16:12:16.915814Z",
     "shell.execute_reply": "2024-09-23T16:12:16.914792Z",
     "shell.execute_reply.started": "2024-09-23T16:12:16.908475Z"
    },
    "id": "abe21c31"
   },
   "outputs": [],
   "source": [
    "df.columns = df.columns.str.strip()"
   ]
  },
  {
   "cell_type": "markdown",
   "id": "c64131a0",
   "metadata": {
    "id": "JvICP9469lq6"
   },
   "source": []
  },
  {
   "cell_type": "code",
   "execution_count": 42,
   "id": "9d9e8b1f",
   "metadata": {
    "execution": {
     "iopub.execute_input": "2024-09-23T16:12:20.102773Z",
     "iopub.status.busy": "2024-09-23T16:12:20.102393Z",
     "iopub.status.idle": "2024-09-23T16:12:20.182026Z",
     "shell.execute_reply": "2024-09-23T16:12:20.180914Z",
     "shell.execute_reply.started": "2024-09-23T16:12:20.102736Z"
    },
    "id": "147591ac"
   },
   "outputs": [],
   "source": [
    "X = df.drop(columns=[\"revenue\"])\n",
    "y=df['revenue']"
   ]
  },
  {
   "cell_type": "code",
   "execution_count": 43,
   "id": "87e2f831",
   "metadata": {
    "execution": {
     "iopub.execute_input": "2024-09-23T16:12:21.356058Z",
     "iopub.status.busy": "2024-09-23T16:12:21.355682Z",
     "iopub.status.idle": "2024-09-23T16:12:21.509349Z",
     "shell.execute_reply": "2024-09-23T16:12:21.507993Z",
     "shell.execute_reply.started": "2024-09-23T16:12:21.356006Z"
    },
    "id": "37142b30"
   },
   "outputs": [],
   "source": [
    "X_train,X_test,y_train,y_test=train_test_split(X,y,test_size=0.3, random_state=42)"
   ]
  },
  {
   "cell_type": "code",
   "execution_count": 44,
   "id": "8cd48771",
   "metadata": {
    "execution": {
     "iopub.execute_input": "2024-09-23T16:12:22.650599Z",
     "iopub.status.busy": "2024-09-23T16:12:22.650214Z",
     "iopub.status.idle": "2024-09-23T16:12:23.336645Z",
     "shell.execute_reply": "2024-09-23T16:12:23.335714Z",
     "shell.execute_reply.started": "2024-09-23T16:12:22.650562Z"
    },
    "id": "e629f3b3"
   },
   "outputs": [],
   "source": [
    "dtrain = xgb.DMatrix(data=X_train.values, label=y_train.values)\n",
    "dtest = xgb.DMatrix(data=X_test.values, label=y_test.values)"
   ]
  },
  {
   "cell_type": "code",
   "execution_count": 45,
   "id": "ebef0868",
   "metadata": {
    "execution": {
     "iopub.execute_input": "2024-09-23T16:12:24.233715Z",
     "iopub.status.busy": "2024-09-23T16:12:24.233368Z",
     "iopub.status.idle": "2024-09-23T16:12:24.238676Z",
     "shell.execute_reply": "2024-09-23T16:12:24.237702Z",
     "shell.execute_reply.started": "2024-09-23T16:12:24.233683Z"
    },
    "id": "b3bea13c"
   },
   "outputs": [],
   "source": [
    "params = {\n",
    "    'objective': 'reg:squarederror',\n",
    "    'learning_rate': 0.1,\n",
    "    'max_depth': 6,\n",
    "    'min_child_weight': 1,\n",
    "    'subsample': 0.8,\n",
    "    'colsample_bytree': 0.8,\n",
    "    'gamma': 0,\n",
    "    'seed': 42\n",
    "}"
   ]
  },
  {
   "cell_type": "code",
   "execution_count": 46,
   "id": "d1f11633",
   "metadata": {
    "colab": {
     "base_uri": "https://localhost:8080/"
    },
    "execution": {
     "iopub.execute_input": "2024-09-23T16:12:27.075194Z",
     "iopub.status.busy": "2024-09-23T16:12:27.074859Z",
     "iopub.status.idle": "2024-09-23T16:15:36.119414Z",
     "shell.execute_reply": "2024-09-23T16:15:36.118642Z",
     "shell.execute_reply.started": "2024-09-23T16:12:27.075164Z"
    },
    "id": "a31d4994",
    "outputId": "2179f81a-e666-4d9f-c4e6-f9c42beedbdf"
   },
   "outputs": [
    {
     "name": "stdout",
     "output_type": "stream",
     "text": [
      "[0]\ttrain-rmse:2.98321\ttest-rmse:2.88285\n",
      "[1]\ttrain-rmse:2.84352\ttest-rmse:2.76001\n",
      "[2]\ttrain-rmse:2.72079\ttest-rmse:2.65444\n",
      "[3]\ttrain-rmse:2.60523\ttest-rmse:2.56245\n",
      "[4]\ttrain-rmse:2.50036\ttest-rmse:2.48575\n",
      "[5]\ttrain-rmse:2.40898\ttest-rmse:2.41801\n",
      "[6]\ttrain-rmse:2.34112\ttest-rmse:2.36897\n",
      "[7]\ttrain-rmse:2.27293\ttest-rmse:2.32148\n",
      "[8]\ttrain-rmse:2.22125\ttest-rmse:2.29039\n",
      "[9]\ttrain-rmse:2.17229\ttest-rmse:2.26331\n",
      "[10]\ttrain-rmse:2.12471\ttest-rmse:2.23547\n",
      "[11]\ttrain-rmse:2.08342\ttest-rmse:2.21491\n",
      "[12]\ttrain-rmse:2.04881\ttest-rmse:2.19686\n",
      "[13]\ttrain-rmse:2.01423\ttest-rmse:2.18350\n",
      "[14]\ttrain-rmse:1.97720\ttest-rmse:2.16271\n",
      "[15]\ttrain-rmse:1.94144\ttest-rmse:2.15076\n",
      "[16]\ttrain-rmse:1.91437\ttest-rmse:2.14446\n",
      "[17]\ttrain-rmse:1.88782\ttest-rmse:2.13616\n",
      "[18]\ttrain-rmse:1.86928\ttest-rmse:2.13385\n",
      "[19]\ttrain-rmse:1.84797\ttest-rmse:2.13262\n",
      "[20]\ttrain-rmse:1.83223\ttest-rmse:2.12936\n",
      "[21]\ttrain-rmse:1.81679\ttest-rmse:2.12751\n",
      "[22]\ttrain-rmse:1.79891\ttest-rmse:2.12616\n",
      "[23]\ttrain-rmse:1.77916\ttest-rmse:2.11911\n",
      "[24]\ttrain-rmse:1.76279\ttest-rmse:2.11735\n",
      "[25]\ttrain-rmse:1.75258\ttest-rmse:2.11409\n",
      "[26]\ttrain-rmse:1.74245\ttest-rmse:2.11087\n",
      "[27]\ttrain-rmse:1.73008\ttest-rmse:2.10880\n",
      "[28]\ttrain-rmse:1.72011\ttest-rmse:2.10523\n",
      "[29]\ttrain-rmse:1.71326\ttest-rmse:2.10837\n",
      "[30]\ttrain-rmse:1.70295\ttest-rmse:2.10811\n",
      "[31]\ttrain-rmse:1.68858\ttest-rmse:2.10883\n",
      "[32]\ttrain-rmse:1.68039\ttest-rmse:2.10646\n",
      "[33]\ttrain-rmse:1.67553\ttest-rmse:2.10609\n",
      "[34]\ttrain-rmse:1.66274\ttest-rmse:2.10828\n",
      "[35]\ttrain-rmse:1.65535\ttest-rmse:2.10672\n",
      "[36]\ttrain-rmse:1.65124\ttest-rmse:2.10752\n",
      "[37]\ttrain-rmse:1.64714\ttest-rmse:2.10749\n",
      "[38]\ttrain-rmse:1.64200\ttest-rmse:2.10663\n"
     ]
    }
   ],
   "source": [
    "cv_results = xgb.cv(params, dtrain, num_boost_round=1000, nfold=5, metrics='rmse', as_pandas=True, seed=42)\n",
    "model = xgb.train(params, dtrain, num_boost_round=1000, evals=[(dtrain, 'train'), (dtest, 'test')], early_stopping_rounds=10)\n",
    "\n"
   ]
  },
  {
   "cell_type": "markdown",
   "id": "8358eaa6",
   "metadata": {
    "id": "f825ab66"
   },
   "source": [
    "here we can  say that model is performing good from train and trest rmse ,, both are decreasing  until 37 iterations, then the model starts to overfit from there ."
   ]
  },
  {
   "cell_type": "code",
   "execution_count": 47,
   "id": "4c2d0d10",
   "metadata": {
    "execution": {
     "iopub.execute_input": "2024-09-23T16:15:47.533897Z",
     "iopub.status.busy": "2024-09-23T16:15:47.533236Z",
     "iopub.status.idle": "2024-09-23T16:15:47.556540Z",
     "shell.execute_reply": "2024-09-23T16:15:47.555679Z",
     "shell.execute_reply.started": "2024-09-23T16:15:47.533826Z"
    },
    "id": "5b23c50d"
   },
   "outputs": [],
   "source": [
    "y_pred = model.predict(dtest)"
   ]
  },
  {
   "cell_type": "code",
   "execution_count": 48,
   "id": "1f3d95cc",
   "metadata": {
    "colab": {
     "base_uri": "https://localhost:8080/"
    },
    "execution": {
     "iopub.execute_input": "2024-09-23T16:15:53.328927Z",
     "iopub.status.busy": "2024-09-23T16:15:53.328548Z",
     "iopub.status.idle": "2024-09-23T16:15:53.336831Z",
     "shell.execute_reply": "2024-09-23T16:15:53.335767Z",
     "shell.execute_reply.started": "2024-09-23T16:15:53.328889Z"
    },
    "id": "6b6a7725",
    "outputId": "f4576967-8676-4880-c320-6a1dc6fdd93f"
   },
   "outputs": [
    {
     "data": {
      "text/plain": [
       "0.4971787089868621"
      ]
     },
     "execution_count": 48,
     "metadata": {},
     "output_type": "execute_result"
    }
   ],
   "source": [
    "r2 = r2_score(y_test, y_pred)\n",
    "r2"
   ]
  },
  {
   "cell_type": "code",
   "execution_count": 49,
   "id": "34cc48f2",
   "metadata": {
    "colab": {
     "base_uri": "https://localhost:8080/"
    },
    "execution": {
     "iopub.execute_input": "2024-09-23T16:15:56.279397Z",
     "iopub.status.busy": "2024-09-23T16:15:56.278554Z",
     "iopub.status.idle": "2024-09-23T16:15:56.284195Z",
     "shell.execute_reply": "2024-09-23T16:15:56.283082Z",
     "shell.execute_reply.started": "2024-09-23T16:15:56.279355Z"
    },
    "id": "a2f5928a",
    "outputId": "4e2e9e41-e003-4fd6-f25b-29c69c8e37c2"
   },
   "outputs": [
    {
     "name": "stdout",
     "output_type": "stream",
     "text": [
      "18.128965\n"
     ]
    }
   ],
   "source": [
    "print(y_pred[0])\n"
   ]
  },
  {
   "cell_type": "code",
   "execution_count": 50,
   "id": "28e6c8be",
   "metadata": {
    "colab": {
     "base_uri": "https://localhost:8080/",
     "height": 472
    },
    "execution": {
     "iopub.execute_input": "2024-09-23T16:15:58.356339Z",
     "iopub.status.busy": "2024-09-23T16:15:58.355484Z",
     "iopub.status.idle": "2024-09-23T16:15:58.612689Z",
     "shell.execute_reply": "2024-09-23T16:15:58.611823Z",
     "shell.execute_reply.started": "2024-09-23T16:15:58.356298Z"
    },
    "id": "IWy61lqixfh5",
    "outputId": "aefc6461-5a03-436c-abce-061c1db6b9ce"
   },
   "outputs": [
    {
     "data": {
      "image/png": "[encoded data removed]",
      "text/plain": [
       "<Figure size 640x480 with 1 Axes>"
      ]
     },
     "metadata": {},
     "output_type": "display_data"
    }
   ],
   "source": [
    "plt.scatter(y_test, y_pred)\n",
    "plt.xlabel(\"Actual Revenue\")\n",
    "plt.ylabel(\"Predicted Revenue\")\n",
    "plt.title(\"Actual vs Predicted Revenue\")\n",
    "plt.plot([y_test.min(), y_test.max()], [y_test.min(), y_test.max()], 'k--')\n",
    "plt.show()"
   ]
  },
  {
   "cell_type": "markdown",
   "id": "8c930d25",
   "metadata": {
    "id": "5a07c544"
   },
   "source": [
    "as we can see from the plot, the model is performing good,, as most of the prediction are cluster around the line..there are very few prediction which were predicted poorly ."
   ]
  },
  {
   "cell_type": "code",
   "execution_count": 51,
   "id": "aa80da99",
   "metadata": {
    "colab": {
     "base_uri": "https://localhost:8080/"
    },
    "execution": {
     "iopub.execute_input": "2024-09-23T16:16:05.421722Z",
     "iopub.status.busy": "2024-09-23T16:16:05.421031Z",
     "iopub.status.idle": "2024-09-23T16:16:05.428649Z",
     "shell.execute_reply": "2024-09-23T16:16:05.427666Z",
     "shell.execute_reply.started": "2024-09-23T16:16:05.421683Z"
    },
    "id": "JDcZLvZBJSQC",
    "outputId": "777abf37-19c3-4495-d052-acf3707378c6"
   },
   "outputs": [
    {
     "name": "stdout",
     "output_type": "stream",
     "text": [
      "budget          float64\n",
      "popularity      float64\n",
      "runtime         float64\n",
      "status            int64\n",
      "year            float64\n",
      "                 ...   \n",
      "                  int64\n",
      "lexBrendemhl      int64\n",
      "ricBruneau        int64\n",
      "rjanGamst         int64\n",
      "ahanGkbakar       int64\n",
      "Length: 9244, dtype: object\n",
      "858     13.232116\n",
      "1011    17.539047\n",
      "48      13.390789\n",
      "719     12.154785\n",
      "1488    16.137737\n",
      "          ...    \n",
      "1639    18.175389\n",
      "1095    19.679693\n",
      "1130    18.657628\n",
      "1294    16.862366\n",
      "860     16.508967\n",
      "Name: revenue, Length: 2098, dtype: float64\n"
     ]
    }
   ],
   "source": [
    "print(X_train.dtypes)\n",
    "print(y_train)\n"
   ]
  },
  {
   "cell_type": "code",
   "execution_count": 52,
   "id": "2dbbc3a3",
   "metadata": {
    "execution": {
     "iopub.execute_input": "2024-09-23T16:16:07.909693Z",
     "iopub.status.busy": "2024-09-23T16:16:07.908882Z",
     "iopub.status.idle": "2024-09-23T16:16:07.961385Z",
     "shell.execute_reply": "2024-09-23T16:16:07.960366Z",
     "shell.execute_reply.started": "2024-09-23T16:16:07.909655Z"
    },
    "id": "zJVBoNRQR55a"
   },
   "outputs": [],
   "source": [
    "\n",
    "X_train_xbg = X_train.values\n"
   ]
  },
  {
   "cell_type": "code",
   "execution_count": 53,
   "id": "0b4ac64e",
   "metadata": {
    "colab": {
     "base_uri": "https://localhost:8080/",
     "height": 51
    },
    "execution": {
     "iopub.execute_input": "2024-09-23T16:16:10.077414Z",
     "iopub.status.busy": "2024-09-23T16:16:10.076722Z",
     "iopub.status.idle": "2024-09-23T16:16:14.733667Z",
     "shell.execute_reply": "2024-09-23T16:16:14.732746Z",
     "shell.execute_reply.started": "2024-09-23T16:16:10.077372Z"
    },
    "id": "6dr0Jn_rHWcy",
    "outputId": "7fdea22e-dcac-4c30-b0f7-64a3e3b06c0d"
   },
   "outputs": [
    {
     "data": {
      "text/html": [
       "<style>#sk-container-id-1 {color: black;background-color: white;}#sk-container-id-1 pre{padding: 0;}#sk-container-id-1 div.sk-toggleable {background-color: white;}#sk-container-id-1 label.sk-toggleable__label {cursor: pointer;display: block;width: 100%;margin-bottom: 0;padding: 0.3em;box-sizing: border-box;text-align: center;}#sk-container-id-1 label.sk-toggleable__label-arrow:before {content: \"▸\";float: left;margin-right: 0.25em;color: #696969;}#sk-container-id-1 label.sk-toggleable__label-arrow:hover:before {color: black;}#sk-container-id-1 div.sk-estimator:hover label.sk-toggleable__label-arrow:before {color: black;}#sk-container-id-1 div.sk-toggleable__content {max-height: 0;max-width: 0;overflow: hidden;text-align: left;background-color: #f0f8ff;}#sk-container-id-1 div.sk-toggleable__content pre {margin: 0.2em;color: black;border-radius: 0.25em;background-color: #f0f8ff;}#sk-container-id-1 input.sk-toggleable__control:checked~div.sk-toggleable__content {max-height: 200px;max-width: 100%;overflow: auto;}#sk-container-id-1 input.sk-toggleable__control:checked~label.sk-toggleable__label-arrow:before {content: \"▾\";}#sk-container-id-1 div.sk-estimator input.sk-toggleable__control:checked~label.sk-toggleable__label {background-color: #d4ebff;}#sk-container-id-1 div.sk-label input.sk-toggleable__control:checked~label.sk-toggleable__label {background-color: #d4ebff;}#sk-container-id-1 input.sk-hidden--visually {border: 0;clip: rect(1px 1px 1px 1px);clip: rect(1px, 1px, 1px, 1px);height: 1px;margin: -1px;overflow: hidden;padding: 0;position: absolute;width: 1px;}#sk-container-id-1 div.sk-estimator {font-family: monospace;background-color: #f0f8ff;border: 1px dotted black;border-radius: 0.25em;box-sizing: border-box;margin-bottom: 0.5em;}#sk-container-id-1 div.sk-estimator:hover {background-color: #d4ebff;}#sk-container-id-1 div.sk-parallel-item::after {content: \"\";width: 100%;border-bottom: 1px solid gray;flex-grow: 1;}#sk-container-id-1 div.sk-label:hover label.sk-toggleable__label {background-color: #d4ebff;}#sk-container-id-1 div.sk-serial::before {content: \"\";position: absolute;border-left: 1px solid gray;box-sizing: border-box;top: 0;bottom: 0;left: 50%;z-index: 0;}#sk-container-id-1 div.sk-serial {display: flex;flex-direction: column;align-items: center;background-color: white;padding-right: 0.2em;padding-left: 0.2em;position: relative;}#sk-container-id-1 div.sk-item {position: relative;z-index: 1;}#sk-container-id-1 div.sk-parallel {display: flex;align-items: stretch;justify-content: center;background-color: white;position: relative;}#sk-container-id-1 div.sk-item::before, #sk-container-id-1 div.sk-parallel-item::before {content: \"\";position: absolute;border-left: 1px solid gray;box-sizing: border-box;top: 0;bottom: 0;left: 50%;z-index: -1;}#sk-container-id-1 div.sk-parallel-item {display: flex;flex-direction: column;z-index: 1;position: relative;background-color: white;}#sk-container-id-1 div.sk-parallel-item:first-child::after {align-self: flex-end;width: 50%;}#sk-container-id-1 div.sk-parallel-item:last-child::after {align-self: flex-start;width: 50%;}#sk-container-id-1 div.sk-parallel-item:only-child::after {width: 0;}#sk-container-id-1 div.sk-dashed-wrapped {border: 1px dashed gray;margin: 0 0.4em 0.5em 0.4em;box-sizing: border-box;padding-bottom: 0.4em;background-color: white;}#sk-container-id-1 div.sk-label label {font-family: monospace;font-weight: bold;display: inline-block;line-height: 1.2em;}#sk-container-id-1 div.sk-label-container {text-align: center;}#sk-container-id-1 div.sk-container {/* jupyter's `normalize.less` sets `[hidden] { display: none; }` but bootstrap.min.css set `[hidden] { display: none !important; }` so we also need the `!important` here to be able to override the default hidden behavior on the sphinx rendered scikit-learn.org. See: https://github.com/scikit-learn/scikit-learn/issues/21755 */display: inline-block !important;position: relative;}#sk-container-id-1 div.sk-text-repr-fallback {display: none;}</style><div id=\"sk-container-id-1\" class=\"sk-top-container\"><div class=\"sk-text-repr-fallback\"><pre>XGBRegressor(base_score=None, booster=None, callbacks=None,\n",
       "             colsample_bylevel=None, colsample_bynode=None,\n",
       "             colsample_bytree=None, device=None, early_stopping_rounds=None,\n",
       "             enable_categorical=False, eval_metric=None, feature_types=None,\n",
       "             gamma=None, grow_policy=None, importance_type=None,\n",
       "             interaction_constraints=None, learning_rate=None, max_bin=None,\n",
       "             max_cat_threshold=None, max_cat_to_onehot=None,\n",
       "             max_delta_step=None, max_depth=None, max_leaves=None,\n",
       "             min_child_weight=None, missing=nan, monotone_constraints=None,\n",
       "             multi_strategy=None, n_estimators=None, n_jobs=None,\n",
       "             num_parallel_tree=None, random_state=None, ...)</pre><b>In a Jupyter environment, please rerun this cell to show the HTML representation or trust the notebook. <br />On GitHub, the HTML representation is unable to render, please try loading this page with nbviewer.org.</b></div><div class=\"sk-container\" hidden><div class=\"sk-item\"><div class=\"sk-estimator sk-toggleable\"><input class=\"sk-toggleable__control sk-hidden--visually\" id=\"sk-estimator-id-1\" type=\"checkbox\" checked><label for=\"sk-estimator-id-1\" class=\"sk-toggleable__label sk-toggleable__label-arrow\">XGBRegressor</label><div class=\"sk-toggleable__content\"><pre>XGBRegressor(base_score=None, booster=None, callbacks=None,\n",
       "             colsample_bylevel=None, colsample_bynode=None,\n",
       "             colsample_bytree=None, device=None, early_stopping_rounds=None,\n",
       "             enable_categorical=False, eval_metric=None, feature_types=None,\n",
       "             gamma=None, grow_policy=None, importance_type=None,\n",
       "             interaction_constraints=None, learning_rate=None, max_bin=None,\n",
       "             max_cat_threshold=None, max_cat_to_onehot=None,\n",
       "             max_delta_step=None, max_depth=None, max_leaves=None,\n",
       "             min_child_weight=None, missing=nan, monotone_constraints=None,\n",
       "             multi_strategy=None, n_estimators=None, n_jobs=None,\n",
       "             num_parallel_tree=None, random_state=None, ...)</pre></div></div></div></div></div>"
      ],
      "text/plain": [
       "XGBRegressor(base_score=None, booster=None, callbacks=None,\n",
       "             colsample_bylevel=None, colsample_bynode=None,\n",
       "             colsample_bytree=None, device=None, early_stopping_rounds=None,\n",
       "             enable_categorical=False, eval_metric=None, feature_types=None,\n",
       "             gamma=None, grow_policy=None, importance_type=None,\n",
       "             interaction_constraints=None, learning_rate=None, max_bin=None,\n",
       "             max_cat_threshold=None, max_cat_to_onehot=None,\n",
       "             max_delta_step=None, max_depth=None, max_leaves=None,\n",
       "             min_child_weight=None, missing=nan, monotone_constraints=None,\n",
       "             multi_strategy=None, n_estimators=None, n_jobs=None,\n",
       "             num_parallel_tree=None, random_state=None, ...)"
      ]
     },
     "execution_count": 53,
     "metadata": {},
     "output_type": "execute_result"
    }
   ],
   "source": [
    "# training the model using sci kit learn api for hyperparameter tunning..\n",
    "xgb_model = xgb.XGBRegressor(objective='reg:squarederror', seed=42)\n",
    "xgb_model.fit(X_train_xbg, y_train)\n",
    "\n"
   ]
  },
  {
   "cell_type": "code",
   "execution_count": 54,
   "id": "94bcadc7",
   "metadata": {
    "execution": {
     "iopub.execute_input": "2024-09-23T16:16:17.666730Z",
     "iopub.status.busy": "2024-09-23T16:16:17.666322Z",
     "iopub.status.idle": "2024-09-23T16:16:17.919617Z",
     "shell.execute_reply": "2024-09-23T16:16:17.918688Z",
     "shell.execute_reply.started": "2024-09-23T16:16:17.666693Z"
    },
    "id": "PD-nh6hgS-EA"
   },
   "outputs": [],
   "source": [
    "pred_for_train=xgb_model.predict(X_train.values)\n",
    "pred_for_test=xgb_model.predict(X_test.values)"
   ]
  },
  {
   "cell_type": "code",
   "execution_count": 55,
   "id": "1a26dd46",
   "metadata": {
    "colab": {
     "base_uri": "https://localhost:8080/"
    },
    "execution": {
     "iopub.execute_input": "2024-09-23T16:16:20.790319Z",
     "iopub.status.busy": "2024-09-23T16:16:20.789950Z",
     "iopub.status.idle": "2024-09-23T16:16:20.798237Z",
     "shell.execute_reply": "2024-09-23T16:16:20.797289Z",
     "shell.execute_reply.started": "2024-09-23T16:16:20.790284Z"
    },
    "id": "MrdphCw7Wh3C",
    "outputId": "1678c5dc-e482-4dda-9084-2a470d090967"
   },
   "outputs": [
    {
     "name": "stdout",
     "output_type": "stream",
     "text": [
      "rmse of training :1.1217032229856732\n",
      "rmse of test :   2.127108067953658\n"
     ]
    }
   ],
   "source": [
    "rmse_for_train=np.sqrt(mean_squared_error(y_train, pred_for_train))\n",
    "rmse_for_test=np.sqrt(mean_squared_error(y_test,pred_for_test))\n",
    "\n",
    "print(f\"rmse of training :{rmse_for_train}\")\n",
    "print(f\"rmse of test :   {rmse_for_test}\")"
   ]
  },
  {
   "cell_type": "code",
   "execution_count": 56,
   "id": "1d6c0322",
   "metadata": {
    "execution": {
     "iopub.execute_input": "2024-09-23T16:16:29.327771Z",
     "iopub.status.busy": "2024-09-23T16:16:29.326862Z",
     "iopub.status.idle": "2024-09-23T16:16:29.333540Z",
     "shell.execute_reply": "2024-09-23T16:16:29.332540Z",
     "shell.execute_reply.started": "2024-09-23T16:16:29.327734Z"
    },
    "id": "fUTvOiWVXbkS"
   },
   "outputs": [],
   "source": [
    "r2_train = r2_score(y_train, pred_for_train)\n",
    "r2_test = r2_score(y_test,pred_for_test)"
   ]
  },
  {
   "cell_type": "code",
   "execution_count": 57,
   "id": "15e48ee7",
   "metadata": {
    "colab": {
     "base_uri": "https://localhost:8080/"
    },
    "execution": {
     "iopub.execute_input": "2024-09-23T16:16:38.294531Z",
     "iopub.status.busy": "2024-09-23T16:16:38.294140Z",
     "iopub.status.idle": "2024-09-23T16:16:38.300305Z",
     "shell.execute_reply": "2024-09-23T16:16:38.299302Z",
     "shell.execute_reply.started": "2024-09-23T16:16:38.294495Z"
    },
    "id": "bSHqNg3PXi7q",
    "outputId": "858e0552-b20c-4656-fd3e-26328040c992"
   },
   "outputs": [
    {
     "name": "stdout",
     "output_type": "stream",
     "text": [
      "r2 of train:0.8686267356686938\n",
      "r2 of test: 0.4873533198919483\n"
     ]
    }
   ],
   "source": [
    "print(f\"r2 of train:{r2_train}\")\n",
    "print(f\"r2 of test: {r2_test}\")"
   ]
  },
  {
   "cell_type": "code",
   "execution_count": 59,
   "id": "c019e4f9",
   "metadata": {
    "execution": {
     "iopub.execute_input": "2024-09-23T16:16:52.487162Z",
     "iopub.status.busy": "2024-09-23T16:16:52.486736Z",
     "iopub.status.idle": "2024-09-23T16:16:52.493248Z",
     "shell.execute_reply": "2024-09-23T16:16:52.492272Z",
     "shell.execute_reply.started": "2024-09-23T16:16:52.487124Z"
    },
    "id": "53757696"
   },
   "outputs": [],
   "source": [
    "param_grid = {\n",
    "    'learning_rate': [0.01, 0.1,1.0],\n",
    "    'max_depth': [3, 6, 10],\n",
    "    'min_child_weight': [1, 5, 10],\n",
    "    'gamma': [0, 1, 5],\n",
    "    'subsample': [0.6, 0.8, 1.0],\n",
    "    'colsample_bytree': [0.6, 0.8, 1.0],\n",
    "    'lambda': [0, 1, 10],\n",
    "    'alpha': [0, 0.5, 1],\n",
    "}"
   ]
  },
  {
   "cell_type": "code",
   "execution_count": 60,
   "id": "2fa7c681",
   "metadata": {
    "colab": {
     "base_uri": "https://localhost:8080/",
     "height": 178
    },
    "execution": {
     "iopub.execute_input": "2024-09-23T16:16:55.708877Z",
     "iopub.status.busy": "2024-09-23T16:16:55.708454Z",
     "iopub.status.idle": "2024-09-23T16:16:55.713651Z",
     "shell.execute_reply": "2024-09-23T16:16:55.712653Z",
     "shell.execute_reply.started": "2024-09-23T16:16:55.708827Z"
    },
    "id": "TEBTHGcZFUTy",
    "outputId": "fc5d5741-356e-4130-ca90-f0bd6dbaf86a"
   },
   "outputs": [],
   "source": [
    "GridSearch=GridSearchCV(estimator=xgb_model,param_grid=param_grid,scoring='neg_mean_squared_error',cv=3,verbose=1)"
   ]
  },
  {
   "cell_type": "code",
   "execution_count": null,
   "id": "d11a2788",
   "metadata": {
    "colab": {
     "base_uri": "https://localhost:8080/",
     "height": 141
    },
    "execution": {
     "iopub.execute_input": "2024-09-23T16:17:30.067669Z",
     "iopub.status.busy": "2024-09-23T16:17:30.066854Z"
    },
    "id": "nGeFxlmqFyMY",
    "outputId": "3db4cd4a-c7b9-4de8-bf85-5044af3d2cef"
   },
   "outputs": [
    {
     "name": "stdout",
     "output_type": "stream",
     "text": [
      "Fitting 3 folds for each of 6561 candidates, totalling 19683 fits\n"
     ]
    }
   ],
   "source": [
    "GridSearch.fit(X_train_xbg, y_train)\n"
   ]
  },
  {
   "cell_type": "code",
   "execution_count": null,
   "id": "0e7a6c8d",
   "metadata": {
    "colab": {
     "base_uri": "https://localhost:8080/",
     "height": 141
    },
    "id": "hTsZTGOWGNl1",
    "outputId": "38c87a42-b6cf-4f66-8c77-92662a70166a"
   },
   "outputs": [],
   "source": [
    "print(\"Best parameters found: \", GridSearch.best_params_)"
   ]
  },
  {
   "cell_type": "code",
   "execution_count": null,
   "id": "18488d28",
   "metadata": {
    "id": "LTrLD6bIK-fH"
   },
   "outputs": [],
   "source": [
    "best_model = GridSearch.best_estimator_"
   ]
  },
  {
   "cell_type": "code",
   "execution_count": null,
   "id": "2776f0fb",
   "metadata": {
    "id": "nHLNoa5ALB-V"
   },
   "outputs": [],
   "source": [
    "y_pred = best_model.predict(X_test)"
   ]
  },
  {
   "cell_type": "code",
   "execution_count": null,
   "id": "d6c76f86",
   "metadata": {
    "colab": {
     "base_uri": "https://localhost:8080/"
    },
    "id": "lAAjfnbILEfY",
    "outputId": "56fa8182-6091-4bf8-fd57-fea096366977"
   },
   "outputs": [
    {
     "name": "stdout",
     "output_type": "stream",
     "text": [
      "Mean Squared Error: 4.584491901418993\n"
     ]
    }
   ],
   "source": [
    "mse = mean_squared_error(y_test, y_pred)\n",
    "print(f\"Mean Squared Error: {mse}\")"
   ]
  },
  {
   "cell_type": "code",
   "execution_count": null,
   "id": "168679a7",
   "metadata": {
    "colab": {
     "base_uri": "https://localhost:8080/"
    },
    "id": "dsL6OjnmScIb",
    "outputId": "a36d7023-7e56-469b-ac59-d9c9e2b45f19"
   },
   "outputs": [
    {
     "data": {
      "text/plain": [
       "0.4805661482044995"
      ]
     },
     "execution_count": 71,
     "metadata": {},
     "output_type": "execute_result"
    }
   ],
   "source": [
    "best_model.score(X_test,y_test)"
   ]
  },
  {
   "cell_type": "code",
   "execution_count": null,
   "id": "4356a530",
   "metadata": {
    "id": "Qvc5jocxRvgz"
   },
   "outputs": [],
   "source": [
    "with open('xgb_native_model.pkl', 'wb') as file:\n",
    "    pickle.dump(xgb_model, file)\n",
    "\n",
    "with open('xgb_best_model.pkl', 'wb') as file:\n",
    "    pickle.dump(best_model, file)\n",
    "    \n",
    "with open('scaler.pkl', 'wb') as file:\n",
    "    pickle.dump(scaler, file)\n",
    "\n",
    "with open('labelencoder.pkl', 'wb') as file:\n",
    "    pickle.dump(le, file)\n",
    "\n",
    "with open('mlb_genres.pkl', 'wb') as file:\n",
    "    pickle.dump(mlb_genres, file)\n",
    "\n",
    "with open('mlb_keywords.pkl', 'wb') as file:\n",
    "    pickle.dump(mlb_keywords, file)\n",
    "\n",
    "with open('mlb_cast.pkl', 'wb') as file:\n",
    "    pickle.dump(mlb_cast, file)\n"
   ]
  },
  {
   "cell_type": "code",
   "execution_count": null,
   "id": "995c670d",
   "metadata": {
    "id": "Lc-Yy51Bq3Ip"
   },
   "outputs": [],
   "source": [
    "with open('xgb_best_model.pkl', 'rb') as file:\n",
    "    loaded_best_model = pickle.load(file)"
   ]
  },
  {
   "cell_type": "code",
   "execution_count": null,
   "id": "65970fdc",
   "metadata": {},
   "outputs": [],
   "source": [
    "def get_user_input():\n",
    "    user_input = {}\n",
    "    user_input['budget'] = float(input(\"Enter the budget: \"))\n",
    "    user_input['popularity'] = float(input(\"Enter the popularity: \"))\n",
    "    user_input['runtime'] = float(input(\"Enter the runtime: \"))\n",
    "    user_input['status'] = input(\"Enter the status (e.g., 'Released', 'Post Production'): \")\n",
    "    user_input['year'] = int(input(\"Enter the release year: \"))\n",
    "    user_input['genres'] = input(\"Enter genres (comma separated): \").split(',')\n",
    "    user_input['Keywords'] = input(\"Enter keywords (comma separated): \").split(',')\n",
    "    user_input['cast'] = input(\"Enter cast (comma separated): \").split(',')\n",
    "    user_input['director'] = input(\"Enter the director's name: \")\n",
    "\n",
    "    return user_input"
   ]
  },
  {
   "cell_type": "code",
   "execution_count": null,
   "id": "9da4f963",
   "metadata": {
    "id": "-iNOF99Wq6xR"
   },
   "outputs": [],
   "source": [
    "def preprocess_input(user_input):\n",
    "    df_input = pd.DataFrame([user_input])\n",
    "\n",
    "    # Load the saved scaler from the training phase\n",
    "    with open('scaler.pkl', 'rb') as file:\n",
    "        scaler = pickle.load(file)\n",
    "    \n",
    "    # Apply the same scaling\n",
    "    df_input[['budget', 'runtime', 'popularity', 'year']] = scaler.transform(df_input[['budget', 'runtime', 'popularity', 'year']])\n",
    "\n",
    "    # Load the saved LabelEncoder\n",
    "    with open('labelencoder.pkl', 'rb') as file:\n",
    "        le = pickle.load(file)\n",
    "    \n",
    "    df_input['status'] = le.transform(df_input['status'].astype('str'))\n",
    "\n",
    "    # Load and apply the saved MultiLabelBinarizers\n",
    "    with open('mlb_genres.pkl', 'rb') as file:\n",
    "        mlb_genres = pickle.load(file)\n",
    "    with open('mlb_keywords.pkl', 'rb') as file:\n",
    "        mlb_keywords = pickle.load(file)\n",
    "    with open('mlb_cast.pkl', 'rb') as file:\n",
    "        mlb_cast = pickle.load(file)\n",
    "\n",
    "    df_genres = pd.DataFrame(mlb_genres.transform(df_input['genres']), columns=mlb_genres.classes_)\n",
    "    df_keywords = pd.DataFrame(mlb_keywords.transform(df_input['Keywords']), columns=mlb_keywords.classes_)\n",
    "    df_cast = pd.DataFrame(mlb_cast.transform(df_input['cast']), columns=mlb_cast.classes_)\n",
    "\n",
    "    df_input = pd.concat([df_input, df_genres, df_keywords, df_cast], axis=1)\n",
    "\n",
    "    # Ensure the columns match the model training data\n",
    "    required_columns = loaded_best_model.feature_names_in_\n",
    "    df_input = df_input.reindex(columns=required_columns, fill_value=0)\n",
    "\n",
    "    return df_input"
   ]
  },
  {
   "cell_type": "code",
   "execution_count": null,
   "id": "4cc757c2",
   "metadata": {},
   "outputs": [],
   "source": [
    "def predict_revenue(processed_input):\n",
    "    prediction = loaded_best_model.predict(processed_input)\n",
    "    predicted_revenue = np.expm1(prediction)  # Reverse the log1p transformation\n",
    "    return predicted_revenue[0]"
   ]
  },
  {
   "cell_type": "code",
   "execution_count": null,
   "id": "a6314c58",
   "metadata": {},
   "outputs": [],
   "source": [
    "user_input = get_user_input()\n",
    "processed_input = preprocess_input(user_input)\n",
    "predicted_revenue = predict_revenue(processed_input)\n",
    "print(f\"Predicted Revenue: ${predicted_revenue:,.2f}\")"
   ]
  }
 ],
 "metadata": {
  "colab": {
   "provenance": []
  },
  "kaggle": {
   "accelerator": "nvidiaTeslaT4",
   "dataSources": [
    {
     "datasetId": 5733737,
     "sourceId": 9436403,
     "sourceType": "datasetVersion"
    }
   ],
   "dockerImageVersionId": 30762,
   "isGpuEnabled": true,
   "isInternetEnabled": true,
   "language": "python",
   "sourceType": "notebook"
  },
  "kernelspec": {
   "display_name": "Python 3 (ipykernel)",
   "language": "python",
   "name": "python3"
  },
  "language_info": {
   "codemirror_mode": {
    "name": "ipython",
    "version": 3
   },
   "file_extension": ".py",
   "mimetype": "text/x-python",
   "name": "python",
   "nbconvert_exporter": "python",
   "pygments_lexer": "ipython3",
   "version": "3.9.13"
  }
 },
 "nbformat": 4,
 "nbformat_minor": 5
}
